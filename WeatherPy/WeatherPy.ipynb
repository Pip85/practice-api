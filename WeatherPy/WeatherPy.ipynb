{
 "cells": [
  {
   "cell_type": "markdown",
   "metadata": {},
   "source": [
    "# WeatherPy\n",
    "----\n",
    "\n",
    "#### Note\n",
    "* Instructions have been included for each segment. You do not have to follow them exactly, but they are included to help you think through the steps."
   ]
  },
  {
   "cell_type": "markdown",
   "metadata": {},
   "source": [
    "# Observations\n",
    "1) There is a strong correlation between max temperature and latitude in both hemispheres.  It is clear that the max temperatures are warmer the closer you get to the equator.\n",
    "2)Based on this data set, the northern hemisphere tends to be less humid than the southern hemisphere.\n",
    "3)Beyond the relationship between latitude and temperature, there are no other trends showing.  Humidity, cloudiness and windspeed all have low correlations to latitude within this data set."
   ]
  },
  {
   "cell_type": "code",
   "execution_count": 1,
   "metadata": {
    "scrolled": true
   },
   "outputs": [],
   "source": [
    "# Dependencies and Setup\n",
    "import matplotlib.pyplot as plt\n",
    "import pandas as pd\n",
    "import numpy as np\n",
    "import requests\n",
    "import time\n",
    "from scipy.stats import linregress\n",
    "\n",
    "# Import API key\n",
    "from api_keys import weather_api_key\n",
    "\n",
    "# Incorporated citipy to determine city based on latitude and longitude\n",
    "from citipy import citipy\n",
    "\n",
    "# Output File (CSV)\n",
    "output_data_file = \"output_data/cities.csv\"\n",
    "\n",
    "# Range of latitudes and longitudes\n",
    "lat_range = (-90, 90)\n",
    "lng_range = (-180, 180)"
   ]
  },
  {
   "cell_type": "markdown",
   "metadata": {},
   "source": [
    "## Generate Cities List"
   ]
  },
  {
   "cell_type": "code",
   "execution_count": 3,
   "metadata": {},
   "outputs": [
    {
     "data": {
      "text/plain": [
       "640"
      ]
     },
     "execution_count": 3,
     "metadata": {},
     "output_type": "execute_result"
    }
   ],
   "source": [
    "# List for holding lat_lngs and cities\n",
    "lat_lngs = []\n",
    "cities = []\n",
    "\n",
    "# Create a set of random lat and lng combinations\n",
    "lats = np.random.uniform(lat_range[0], lat_range[1], size=1500)\n",
    "lngs = np.random.uniform(lng_range[0], lng_range[1], size=1500)\n",
    "lat_lngs = zip(lats, lngs)\n",
    "\n",
    "# Identify nearest city for each lat, lng combination\n",
    "for lat_lng in lat_lngs:\n",
    "    city = citipy.nearest_city(lat_lng[0], lat_lng[1]).city_name\n",
    "# If the city is unique, then add it to a our cities list    \n",
    "    if city not in cities:\n",
    "        cities.append(city)  \n",
    "# Print the city count to confirm sufficient count\n",
    "len(cities)"
   ]
  },
  {
   "cell_type": "markdown",
   "metadata": {},
   "source": [
    "### Perform API Calls\n",
    "* Perform a weather check on each city using a series of successive API calls.\n",
    "* Include a print log of each city as it'sbeing processed (with the city number and city name).\n"
   ]
  },
  {
   "cell_type": "code",
   "execution_count": 4,
   "metadata": {
    "scrolled": true
   },
   "outputs": [
    {
     "name": "stdout",
     "output_type": "stream",
     "text": [
      "Processing Record 1 for Set1:|hilo\n",
      "Processing Record 2 for Set1:|mar del plata\n",
      "Processing Record 3 for Set1:|guerrero negro\n",
      "City not found....skipping\n",
      "Processing Record 4 for Set1:|ushuaia\n",
      "Processing Record 5 for Set1:|berlevag\n",
      "City not found....skipping\n",
      "Processing Record 6 for Set1:|upernavik\n",
      "Processing Record 7 for Set1:|vaini\n",
      "Processing Record 8 for Set1:|albany\n",
      "Processing Record 9 for Set1:|tasiilaq\n",
      "Processing Record 10 for Set1:|nouadhibou\n",
      "Processing Record 11 for Set1:|flinders\n",
      "Processing Record 12 for Set1:|cape town\n",
      "Processing Record 13 for Set1:|ambilobe\n",
      "Processing Record 14 for Set1:|atuona\n",
      "Processing Record 15 for Set1:|cermik\n",
      "Processing Record 16 for Set1:|ahmadpur east\n",
      "Processing Record 17 for Set1:|lukiv\n",
      "Processing Record 18 for Set1:|rikitea\n",
      "Processing Record 19 for Set1:|deputatskiy\n",
      "Processing Record 20 for Set1:|menomonie\n",
      "Processing Record 21 for Set1:|sao felix do xingu\n",
      "Processing Record 22 for Set1:|anloga\n",
      "Processing Record 23 for Set1:|busselton\n",
      "Processing Record 24 for Set1:|okhotsk\n",
      "Processing Record 25 for Set1:|souillac\n",
      "Processing Record 26 for Set1:|qaanaaq\n",
      "City not found....skipping\n",
      "City not found....skipping\n",
      "Processing Record 27 for Set1:|husavik\n",
      "Processing Record 28 for Set1:|provideniya\n",
      "Processing Record 29 for Set1:|zambezi\n",
      "Processing Record 30 for Set1:|chuy\n",
      "Processing Record 31 for Set1:|kloulklubed\n",
      "Processing Record 32 for Set1:|punta arenas\n",
      "Processing Record 33 for Set1:|bossangoa\n",
      "Processing Record 34 for Set1:|chadan\n",
      "Processing Record 35 for Set1:|hobart\n",
      "Processing Record 36 for Set1:|nemuro\n",
      "Processing Record 37 for Set1:|jamestown\n",
      "Processing Record 38 for Set1:|gravina in puglia\n",
      "Processing Record 39 for Set1:|wamba\n",
      "Processing Record 40 for Set1:|saldanha\n",
      "Processing Record 41 for Set1:|arraial do cabo\n",
      "Processing Record 42 for Set1:|praya\n",
      "Processing Record 43 for Set1:|fairbanks\n",
      "Processing Record 44 for Set1:|mataura\n",
      "Processing Record 45 for Set1:|manokwari\n",
      "Processing Record 46 for Set1:|coihaique\n",
      "Processing Record 47 for Set1:|carnarvon\n",
      "Processing Record 48 for Set1:|kaitangata\n",
      "Processing Record 49 for Set1:|puerto ayora\n",
      "Processing Record 50 for Set1:|castro\n",
      "Processing Record 51 for Set2:|college station\n",
      "City not found....skipping\n",
      "Processing Record 52 for Set2:|mount isa\n",
      "Processing Record 53 for Set2:|ribeira grande\n",
      "Processing Record 54 for Set2:|necochea\n",
      "City not found....skipping\n",
      "Processing Record 55 for Set2:|mildura\n",
      "Processing Record 56 for Set2:|makakilo city\n",
      "Processing Record 57 for Set2:|bredasdorp\n",
      "Processing Record 58 for Set2:|la rochelle\n",
      "Processing Record 59 for Set2:|hambantota\n",
      "Processing Record 60 for Set2:|paita\n",
      "Processing Record 61 for Set2:|faya\n",
      "Processing Record 62 for Set2:|port alfred\n",
      "Processing Record 63 for Set2:|saryg-sep\n",
      "Processing Record 64 for Set2:|sao luiz gonzaga\n",
      "Processing Record 65 for Set2:|jalu\n",
      "Processing Record 66 for Set2:|salinas\n",
      "City not found....skipping\n",
      "Processing Record 67 for Set2:|qaqortoq\n",
      "Processing Record 68 for Set2:|hasaki\n",
      "Processing Record 69 for Set2:|domoni\n",
      "Processing Record 70 for Set2:|bethel\n",
      "Processing Record 71 for Set2:|dikson\n",
      "Processing Record 72 for Set2:|novopskov\n",
      "Processing Record 73 for Set2:|moyale\n",
      "Processing Record 74 for Set2:|chlorakas\n",
      "Processing Record 75 for Set2:|puerto el triunfo\n",
      "Processing Record 76 for Set2:|norman wells\n",
      "Processing Record 77 for Set2:|shakawe\n",
      "Processing Record 78 for Set2:|kapaa\n",
      "Processing Record 79 for Set2:|ahipara\n",
      "Processing Record 80 for Set2:|sao francisco\n",
      "Processing Record 81 for Set2:|lakatoro\n",
      "Processing Record 82 for Set2:|kodiak\n",
      "Processing Record 83 for Set2:|sao gabriel da cachoeira\n",
      "Processing Record 84 for Set2:|vardo\n",
      "Processing Record 85 for Set2:|diamantino\n",
      "Processing Record 86 for Set2:|port hardy\n",
      "Processing Record 87 for Set2:|port shepstone\n",
      "Processing Record 88 for Set2:|lompoc\n",
      "Processing Record 89 for Set2:|pangnirtung\n",
      "Processing Record 90 for Set2:|tuatapere\n",
      "Processing Record 91 for Set2:|inhambane\n",
      "Processing Record 92 for Set2:|butaritari\n",
      "Processing Record 93 for Set2:|nanortalik\n",
      "Processing Record 94 for Set2:|klaksvik\n",
      "Processing Record 95 for Set2:|leh\n",
      "Processing Record 96 for Set2:|sola\n",
      "Processing Record 97 for Set2:|santa clara\n",
      "Processing Record 98 for Set2:|pacific grove\n",
      "Processing Record 99 for Set2:|lewisporte\n",
      "City not found....skipping\n",
      "Processing Record 100 for Set2:|dingle\n",
      "City not found....skipping\n",
      "Processing Record 101 for Set3:|bon accord\n",
      "Processing Record 102 for Set3:|avarua\n",
      "Processing Record 103 for Set3:|zhigansk\n",
      "Processing Record 104 for Set3:|ostrovnoy\n",
      "Processing Record 105 for Set3:|hualmay\n",
      "Processing Record 106 for Set3:|tuktoyaktuk\n",
      "Processing Record 107 for Set3:|shetpe\n",
      "City not found....skipping\n",
      "City not found....skipping\n",
      "Processing Record 108 for Set3:|port blair\n",
      "City not found....skipping\n",
      "Processing Record 109 for Set3:|turukhansk\n",
      "Processing Record 110 for Set3:|new norfolk\n",
      "Processing Record 111 for Set3:|dalfsen\n",
      "Processing Record 112 for Set3:|barrow\n",
      "Processing Record 113 for Set3:|hamilton\n",
      "Processing Record 114 for Set3:|petukhovo\n",
      "Processing Record 115 for Set3:|panlaitan\n",
      "Processing Record 116 for Set3:|aripuana\n",
      "Processing Record 117 for Set3:|port hedland\n",
      "Processing Record 118 for Set3:|oudtshoorn\n",
      "Processing Record 119 for Set3:|tiznit\n",
      "Processing Record 120 for Set3:|pendleton\n",
      "City not found....skipping\n",
      "City not found....skipping\n",
      "Processing Record 121 for Set3:|dongling\n",
      "Processing Record 122 for Set3:|morshansk\n",
      "Processing Record 123 for Set3:|ilhabela\n",
      "Processing Record 124 for Set3:|clinton\n",
      "Processing Record 125 for Set3:|jawhar\n",
      "Processing Record 126 for Set3:|raudeberg\n",
      "Processing Record 127 for Set3:|sitka\n",
      "Processing Record 128 for Set3:|coihueco\n",
      "Processing Record 129 for Set3:|sao filipe\n",
      "Processing Record 130 for Set3:|vao\n",
      "City not found....skipping\n",
      "Processing Record 131 for Set3:|maceio\n",
      "Processing Record 132 for Set3:|coruche\n",
      "Processing Record 133 for Set3:|minot\n",
      "Processing Record 134 for Set3:|fortuna\n",
      "Processing Record 135 for Set3:|alvaraes\n",
      "Processing Record 136 for Set3:|hirara\n",
      "Processing Record 137 for Set3:|yellowknife\n",
      "Processing Record 138 for Set3:|uige\n",
      "Processing Record 139 for Set3:|sabang\n",
      "Processing Record 140 for Set3:|beringovskiy\n",
      "Processing Record 141 for Set3:|saint-joseph\n",
      "Processing Record 142 for Set3:|nelson bay\n",
      "Processing Record 143 for Set3:|roald\n",
      "Processing Record 144 for Set3:|muzaffarabad\n",
      "Processing Record 145 for Set3:|sawakin\n",
      "Processing Record 146 for Set3:|truth or consequences\n",
      "Processing Record 147 for Set3:|longyearbyen\n",
      "Processing Record 148 for Set3:|hithadhoo\n",
      "Processing Record 149 for Set3:|dunedin\n",
      "Processing Record 150 for Set3:|saskylakh\n",
      "Processing Record 151 for Set4:|goderich\n",
      "Processing Record 152 for Set4:|kannabe\n",
      "Processing Record 153 for Set4:|cradock\n",
      "Processing Record 154 for Set4:|high level\n",
      "Processing Record 155 for Set4:|miri\n",
      "Processing Record 156 for Set4:|narsaq\n",
      "Processing Record 157 for Set4:|rorvik\n",
      "Processing Record 158 for Set4:|ancud\n",
      "City not found....skipping\n",
      "Processing Record 159 for Set4:|joura\n",
      "Processing Record 160 for Set4:|belance\n",
      "Processing Record 161 for Set4:|bara\n",
      "Processing Record 162 for Set4:|antsohihy\n",
      "Processing Record 163 for Set4:|sovetskiy\n",
      "Processing Record 164 for Set4:|corrooy\n",
      "Processing Record 165 for Set4:|cabo san lucas\n",
      "Processing Record 166 for Set4:|gurupi\n",
      "Processing Record 167 for Set4:|bac lieu\n",
      "Processing Record 168 for Set4:|bluff\n",
      "Processing Record 169 for Set4:|samarai\n",
      "Processing Record 170 for Set4:|tura\n",
      "Processing Record 171 for Set4:|punta alta\n",
      "Processing Record 172 for Set4:|ulladulla\n",
      "Processing Record 173 for Set4:|campbell river\n",
      "Processing Record 174 for Set4:|khani\n",
      "Processing Record 175 for Set4:|jinchang\n",
      "Processing Record 176 for Set4:|labuhan\n",
      "Processing Record 177 for Set4:|tabou\n",
      "Processing Record 178 for Set4:|huilong\n",
      "City not found....skipping\n",
      "City not found....skipping\n",
      "Processing Record 179 for Set4:|pevek\n",
      "Processing Record 180 for Set4:|olutanga\n",
      "Processing Record 181 for Set4:|mayumba\n",
      "Processing Record 182 for Set4:|kano\n",
      "Processing Record 183 for Set4:|westport\n",
      "Processing Record 184 for Set4:|cherskiy\n",
      "Processing Record 185 for Set4:|thiers\n",
      "Processing Record 186 for Set4:|karlshus\n",
      "Processing Record 187 for Set4:|padang\n",
      "Processing Record 188 for Set4:|phan thiet\n",
      "City not found....skipping\n",
      "Processing Record 189 for Set4:|neustrelitz\n",
      "Processing Record 190 for Set4:|hermanus\n"
     ]
    },
    {
     "name": "stdout",
     "output_type": "stream",
     "text": [
      "Processing Record 191 for Set4:|pleshanovo\n",
      "Processing Record 192 for Set4:|tahta\n",
      "City not found....skipping\n",
      "Processing Record 193 for Set4:|omboue\n",
      "Processing Record 194 for Set4:|rosetta\n",
      "Processing Record 195 for Set4:|varena\n",
      "Processing Record 196 for Set4:|urusha\n",
      "Processing Record 197 for Set4:|tala\n",
      "Processing Record 198 for Set4:|klyuchi\n",
      "Processing Record 199 for Set4:|severo-kurilsk\n",
      "Processing Record 200 for Set4:|khatanga\n",
      "Processing Record 201 for Set5:|conakry\n",
      "Processing Record 202 for Set5:|torbay\n",
      "Processing Record 203 for Set5:|natal\n",
      "Processing Record 204 for Set5:|burnie\n",
      "City not found....skipping\n",
      "City not found....skipping\n",
      "Processing Record 205 for Set5:|tabory\n",
      "Processing Record 206 for Set5:|gamba\n",
      "Processing Record 207 for Set5:|luderitz\n",
      "Processing Record 208 for Set5:|andujar\n",
      "Processing Record 209 for Set5:|el progreso\n",
      "Processing Record 210 for Set5:|marshall\n",
      "Processing Record 211 for Set5:|carthage\n",
      "Processing Record 212 for Set5:|svetlogorsk\n",
      "Processing Record 213 for Set5:|mahebourg\n",
      "Processing Record 214 for Set5:|coquimbo\n",
      "Processing Record 215 for Set5:|west wendover\n",
      "Processing Record 216 for Set5:|hay river\n",
      "Processing Record 217 for Set5:|kaptanganj\n",
      "Processing Record 218 for Set5:|ilulissat\n",
      "Processing Record 219 for Set5:|thompson\n",
      "Processing Record 220 for Set5:|eyl\n",
      "Processing Record 221 for Set5:|bathsheba\n",
      "Processing Record 222 for Set5:|victoria\n",
      "Processing Record 223 for Set5:|odweyne\n",
      "Processing Record 224 for Set5:|borzya\n",
      "Processing Record 225 for Set5:|bangolo\n",
      "Processing Record 226 for Set5:|ribeira brava\n",
      "Processing Record 227 for Set5:|pitimbu\n",
      "Processing Record 228 for Set5:|belyy yar\n",
      "Processing Record 229 for Set5:|puerto baquerizo moreno\n",
      "Processing Record 230 for Set5:|san policarpo\n",
      "Processing Record 231 for Set5:|mayskiy\n",
      "Processing Record 232 for Set5:|nikolskoye\n",
      "Processing Record 233 for Set5:|naantali\n",
      "Processing Record 234 for Set5:|sioux lookout\n",
      "Processing Record 235 for Set5:|ilo\n",
      "Processing Record 236 for Set5:|kokstad\n",
      "Processing Record 237 for Set5:|glendive\n",
      "Processing Record 238 for Set5:|qandala\n",
      "Processing Record 239 for Set5:|mata\n",
      "Processing Record 240 for Set5:|okha\n",
      "Processing Record 241 for Set5:|itarema\n",
      "Processing Record 242 for Set5:|saint george\n",
      "Processing Record 243 for Set5:|bambous virieux\n",
      "Processing Record 244 for Set5:|agogo\n",
      "Processing Record 245 for Set5:|mbuji-mayi\n",
      "Processing Record 246 for Set5:|batemans bay\n",
      "Processing Record 247 for Set5:|talnakh\n",
      "Processing Record 248 for Set5:|te anau\n",
      "Processing Record 249 for Set5:|kununurra\n",
      "Processing Record 250 for Set5:|kavaratti\n",
      "Processing Record 251 for Set6:|north platte\n",
      "Processing Record 252 for Set6:|tulu bolo\n",
      "Processing Record 253 for Set6:|aklavik\n",
      "Processing Record 254 for Set6:|waipawa\n",
      "Processing Record 255 for Set6:|thatta\n",
      "Processing Record 256 for Set6:|teguldet\n",
      "Processing Record 257 for Set6:|kobayashi\n",
      "Processing Record 258 for Set6:|lamu\n",
      "Processing Record 259 for Set6:|snasa\n",
      "Processing Record 260 for Set6:|saint-louis\n",
      "City not found....skipping\n",
      "Processing Record 261 for Set6:|boone\n",
      "City not found....skipping\n",
      "Processing Record 262 for Set6:|lebu\n",
      "Processing Record 263 for Set6:|atbasar\n",
      "Processing Record 264 for Set6:|seara\n",
      "Processing Record 265 for Set6:|viedma\n",
      "City not found....skipping\n",
      "Processing Record 266 for Set6:|codrington\n",
      "Processing Record 267 for Set6:|thaba-tseka\n",
      "Processing Record 268 for Set6:|ponta do sol\n",
      "Processing Record 269 for Set6:|ngunguru\n",
      "Processing Record 270 for Set6:|sakaiminato\n",
      "Processing Record 271 for Set6:|broken hill\n",
      "Processing Record 272 for Set6:|cantagalo\n",
      "Processing Record 273 for Set6:|lagoa\n",
      "Processing Record 274 for Set6:|katsuura\n",
      "Processing Record 275 for Set6:|georgetown\n",
      "Processing Record 276 for Set6:|bensonville\n",
      "Processing Record 277 for Set6:|muisne\n",
      "Processing Record 278 for Set6:|tiksi\n",
      "Processing Record 279 for Set6:|cockburn town\n",
      "Processing Record 280 for Set6:|vanimo\n",
      "Processing Record 281 for Set6:|esperance\n",
      "Processing Record 282 for Set6:|port elizabeth\n",
      "Processing Record 283 for Set6:|bubaque\n",
      "Processing Record 284 for Set6:|moindou\n",
      "Processing Record 285 for Set6:|tehachapi\n",
      "Processing Record 286 for Set6:|kisangani\n",
      "Processing Record 287 for Set6:|mareeba\n",
      "Processing Record 288 for Set6:|sorland\n",
      "City not found....skipping\n",
      "Processing Record 289 for Set6:|makarov\n",
      "Processing Record 290 for Set6:|nangwa\n",
      "Processing Record 291 for Set6:|lac du bonnet\n",
      "Processing Record 292 for Set6:|bengkulu\n",
      "Processing Record 293 for Set6:|vostok\n",
      "Processing Record 294 for Set6:|turka\n",
      "Processing Record 295 for Set6:|pravia\n",
      "Processing Record 296 for Set6:|margate\n",
      "City not found....skipping\n",
      "Processing Record 297 for Set6:|houma\n",
      "Processing Record 298 for Set6:|sobolevo\n",
      "Processing Record 299 for Set6:|cidreira\n",
      "Processing Record 300 for Set6:|dutse\n",
      "Processing Record 301 for Set7:|kapit\n",
      "Processing Record 302 for Set7:|lulea\n",
      "Processing Record 303 for Set7:|huarmey\n",
      "Processing Record 304 for Set7:|daru\n",
      "Processing Record 305 for Set7:|dmytrivka\n",
      "Processing Record 306 for Set7:|pudozh\n",
      "City not found....skipping\n",
      "Processing Record 307 for Set7:|constitucion\n",
      "Processing Record 308 for Set7:|wana\n",
      "Processing Record 309 for Set7:|gat\n",
      "Processing Record 310 for Set7:|laguna\n",
      "Processing Record 311 for Set7:|henties bay\n",
      "Processing Record 312 for Set7:|geraldton\n",
      "Processing Record 313 for Set7:|lorengau\n",
      "Processing Record 314 for Set7:|chokurdakh\n",
      "Processing Record 315 for Set7:|mogadishu\n",
      "Processing Record 316 for Set7:|barmer\n",
      "Processing Record 317 for Set7:|piacabucu\n",
      "Processing Record 318 for Set7:|cerrito\n",
      "Processing Record 319 for Set7:|santa rosa\n",
      "Processing Record 320 for Set7:|shevchenkove\n",
      "Processing Record 321 for Set7:|lishui\n",
      "Processing Record 322 for Set7:|plettenberg bay\n",
      "Processing Record 323 for Set7:|nara\n",
      "Processing Record 324 for Set7:|palu\n",
      "Processing Record 325 for Set7:|muros\n",
      "Processing Record 326 for Set7:|alta floresta\n",
      "Processing Record 327 for Set7:|half moon bay\n",
      "Processing Record 328 for Set7:|bria\n",
      "Processing Record 329 for Set7:|mamallapuram\n",
      "Processing Record 330 for Set7:|vulcan\n",
      "Processing Record 331 for Set7:|mount gambier\n",
      "Processing Record 332 for Set7:|brae\n",
      "Processing Record 333 for Set7:|espera feliz\n",
      "Processing Record 334 for Set7:|ust-kut\n",
      "Processing Record 335 for Set7:|hinton\n",
      "Processing Record 336 for Set7:|korcula\n",
      "Processing Record 337 for Set7:|honiara\n",
      "Processing Record 338 for Set7:|neiafu\n",
      "Processing Record 339 for Set7:|banamba\n",
      "Processing Record 340 for Set7:|san nicolas\n",
      "Processing Record 341 for Set7:|gojra\n",
      "Processing Record 342 for Set7:|inuvik\n",
      "Processing Record 343 for Set7:|lasa\n",
      "Processing Record 344 for Set7:|olafsvik\n",
      "Processing Record 345 for Set7:|khorramshahr\n",
      "Processing Record 346 for Set7:|casalmaggiore\n",
      "Processing Record 347 for Set7:|vaitape\n",
      "Processing Record 348 for Set7:|comodoro rivadavia\n",
      "Processing Record 349 for Set7:|bilibino\n",
      "Processing Record 350 for Set7:|myskhako\n",
      "Processing Record 351 for Set8:|enzan\n",
      "Processing Record 352 for Set8:|itaituba\n",
      "Processing Record 353 for Set8:|mantua\n",
      "Processing Record 354 for Set8:|port-gentil\n",
      "Processing Record 355 for Set8:|derzhavinsk\n",
      "Processing Record 356 for Set8:|santa cruz\n",
      "Processing Record 357 for Set8:|yelizovo\n",
      "Processing Record 358 for Set8:|maloy\n",
      "Processing Record 359 for Set8:|touros\n",
      "Processing Record 360 for Set8:|coahuayana\n",
      "Processing Record 361 for Set8:|upington\n",
      "Processing Record 362 for Set8:|grenada\n",
      "City not found....skipping\n",
      "Processing Record 363 for Set8:|vikhorevka\n",
      "Processing Record 364 for Set8:|pilibanga\n",
      "Processing Record 365 for Set8:|alice springs\n",
      "Processing Record 366 for Set8:|ishigaki\n",
      "Processing Record 367 for Set8:|homer\n",
      "Processing Record 368 for Set8:|saint-pierre\n",
      "Processing Record 369 for Set8:|faanui\n",
      "Processing Record 370 for Set8:|igarka\n",
      "Processing Record 371 for Set8:|jumla\n",
      "Processing Record 372 for Set8:|yulara\n",
      "Processing Record 373 for Set8:|trincomalee\n",
      "Processing Record 374 for Set8:|unirea\n",
      "Processing Record 375 for Set8:|kokopo\n",
      "Processing Record 376 for Set8:|rawson\n",
      "Processing Record 377 for Set8:|bowen\n",
      "Processing Record 378 for Set8:|yantal\n",
      "Processing Record 379 for Set8:|san cristobal\n",
      "Processing Record 380 for Set8:|adrar\n",
      "Processing Record 381 for Set8:|okakarara\n",
      "Processing Record 382 for Set8:|veraval\n",
      "Processing Record 383 for Set8:|hofn\n",
      "Processing Record 384 for Set8:|tautira\n"
     ]
    },
    {
     "name": "stdout",
     "output_type": "stream",
     "text": [
      "Processing Record 385 for Set8:|sharjah\n",
      "Processing Record 386 for Set8:|palmerston\n",
      "Processing Record 387 for Set8:|jiupu\n",
      "Processing Record 388 for Set8:|vilcun\n",
      "Processing Record 389 for Set8:|anguillara sabazia\n",
      "Processing Record 390 for Set8:|shingu\n",
      "Processing Record 391 for Set8:|villa carlos paz\n",
      "Processing Record 392 for Set8:|dukat\n",
      "Processing Record 393 for Set8:|wajir\n",
      "Processing Record 394 for Set8:|rio grande\n",
      "Processing Record 395 for Set8:|bud\n",
      "Processing Record 396 for Set8:|ushtobe\n",
      "Processing Record 397 for Set8:|axim\n",
      "Processing Record 398 for Set8:|saint-philippe\n",
      "Processing Record 399 for Set8:|crotone\n",
      "Processing Record 400 for Set8:|tyup\n",
      "Processing Record 401 for Set9:|russell\n",
      "Processing Record 402 for Set9:|quchan\n",
      "Processing Record 403 for Set9:|san patricio\n",
      "Processing Record 404 for Set9:|chebenki\n",
      "Processing Record 405 for Set9:|mahanje\n",
      "Processing Record 406 for Set9:|alofi\n",
      "Processing Record 407 for Set9:|carutapera\n",
      "Processing Record 408 for Set9:|wolkersdorf\n",
      "Processing Record 409 for Set9:|santa maria\n",
      "Processing Record 410 for Set9:|pachmarhi\n",
      "Processing Record 411 for Set9:|kidal\n",
      "Processing Record 412 for Set9:|asau\n",
      "Processing Record 413 for Set9:|vila franca do campo\n",
      "Processing Record 414 for Set9:|nome\n",
      "Processing Record 415 for Set9:|mehamn\n",
      "Processing Record 416 for Set9:|kupang\n",
      "Processing Record 417 for Set9:|ucluelet\n",
      "Processing Record 418 for Set9:|voloiac\n",
      "Processing Record 419 for Set9:|carauari\n",
      "Processing Record 420 for Set9:|airai\n",
      "Processing Record 421 for Set9:|catamarca\n",
      "Processing Record 422 for Set9:|katherine\n",
      "Processing Record 423 for Set9:|port moresby\n",
      "Processing Record 424 for Set9:|san ignacio\n",
      "Processing Record 425 for Set9:|luwuk\n",
      "Processing Record 426 for Set9:|paoua\n",
      "Processing Record 427 for Set9:|east london\n",
      "City not found....skipping\n",
      "Processing Record 428 for Set9:|kashi\n",
      "Processing Record 429 for Set9:|plouzane\n",
      "Processing Record 430 for Set9:|richards bay\n",
      "Processing Record 431 for Set9:|terrace\n",
      "Processing Record 432 for Set9:|vytegra\n",
      "Processing Record 433 for Set9:|bekhtery\n",
      "City not found....skipping\n",
      "Processing Record 434 for Set9:|palmer\n",
      "Processing Record 435 for Set9:|oarai\n",
      "Processing Record 436 for Set9:|akonolinga\n",
      "Processing Record 437 for Set9:|bambanglipuro\n",
      "Processing Record 438 for Set9:|bol\n",
      "Processing Record 439 for Set9:|kankon\n",
      "Processing Record 440 for Set9:|pangai\n",
      "Processing Record 441 for Set9:|manuk mangkaw\n",
      "Processing Record 442 for Set9:|tromso\n",
      "Processing Record 443 for Set9:|acajutla\n",
      "City not found....skipping\n",
      "Processing Record 444 for Set9:|emerald\n",
      "Processing Record 445 for Set9:|elk river\n",
      "Processing Record 446 for Set9:|tripoli\n",
      "Processing Record 447 for Set9:|broome\n",
      "Processing Record 448 for Set9:|paramonga\n",
      "Processing Record 449 for Set9:|agirish\n",
      "City not found....skipping\n",
      "Processing Record 450 for Set9:|hibbing\n",
      "Processing Record 451 for Set10:|hervey bay\n",
      "Processing Record 452 for Set10:|chippewa falls\n",
      "Processing Record 453 for Set10:|moberly\n",
      "Processing Record 454 for Set10:|bunia\n",
      "Processing Record 455 for Set10:|taoudenni\n",
      "Processing Record 456 for Set10:|tamasane\n",
      "Processing Record 457 for Set10:|epernay\n",
      "Processing Record 458 for Set10:|kundiawa\n",
      "Processing Record 459 for Set10:|rock sound\n",
      "City not found....skipping\n",
      "Processing Record 460 for Set10:|cooma\n",
      "Processing Record 461 for Set10:|conde\n",
      "Processing Record 462 for Set10:|fort nelson\n",
      "Processing Record 463 for Set10:|nantucket\n",
      "Processing Record 464 for Set10:|ormara\n",
      "Processing Record 465 for Set10:|macau\n",
      "Processing Record 466 for Set10:|buchanan\n",
      "Processing Record 467 for Set10:|puerto del rosario\n",
      "Processing Record 468 for Set10:|nata\n",
      "Processing Record 469 for Set10:|mount pleasant\n",
      "Processing Record 470 for Set10:|korla\n",
      "Processing Record 471 for Set10:|jadu\n",
      "City not found....skipping\n",
      "Processing Record 472 for Set10:|athabasca\n",
      "Processing Record 473 for Set10:|sept-iles\n",
      "Processing Record 474 for Set10:|meulaboh\n",
      "Processing Record 475 for Set10:|avera\n",
      "Processing Record 476 for Set10:|san andres\n",
      "Processing Record 477 for Set10:|quatre cocos\n",
      "Processing Record 478 for Set10:|ulaangom\n",
      "Processing Record 479 for Set10:|marsh harbour\n",
      "City not found....skipping\n",
      "Processing Record 480 for Set10:|ryotsu\n",
      "Processing Record 481 for Set10:|lovozero\n",
      "Processing Record 482 for Set10:|lusambo\n",
      "Processing Record 483 for Set10:|sungaipenuh\n",
      "City not found....skipping\n",
      "Processing Record 484 for Set10:|ojinaga\n",
      "Processing Record 485 for Set10:|sabha\n",
      "Processing Record 486 for Set10:|grindavik\n",
      "Processing Record 487 for Set10:|ekhabi\n",
      "Processing Record 488 for Set10:|ingham\n",
      "City not found....skipping\n",
      "Processing Record 489 for Set10:|bahia blanca\n",
      "Processing Record 490 for Set10:|zavetnoye\n",
      "Processing Record 491 for Set10:|vila velha\n",
      "Processing Record 492 for Set10:|moche\n",
      "Processing Record 493 for Set10:|san quintin\n",
      "Processing Record 494 for Set10:|port lincoln\n",
      "Processing Record 495 for Set10:|youkounkoun\n",
      "Processing Record 496 for Set10:|kawalu\n",
      "Processing Record 497 for Set10:|murgab\n",
      "Processing Record 498 for Set10:|camacupa\n",
      "Processing Record 499 for Set10:|yar-sale\n",
      "Processing Record 500 for Set10:|baruun-urt\n",
      "Processing Record 501 for Set11:|ulety\n",
      "Processing Record 502 for Set11:|ayorou\n",
      "Processing Record 503 for Set11:|shebunino\n",
      "Processing Record 504 for Set11:|conceicao do araguaia\n",
      "City not found....skipping\n",
      "Processing Record 505 for Set11:|toamasina\n",
      "Processing Record 506 for Set11:|rayagada\n",
      "Processing Record 507 for Set11:|kaa-khem\n",
      "Processing Record 508 for Set11:|porec\n",
      "Processing Record 509 for Set11:|zaozerne\n",
      "Processing Record 510 for Set11:|churapcha\n",
      "Processing Record 511 for Set11:|ikongo\n",
      "Processing Record 512 for Set11:|eureka\n",
      "Processing Record 513 for Set11:|abu kamal\n",
      "Processing Record 514 for Set11:|mawlaik\n",
      "Processing Record 515 for Set11:|great bend\n",
      "Processing Record 516 for Set11:|sarandi\n",
      "Processing Record 517 for Set11:|havre-saint-pierre\n",
      "Processing Record 518 for Set11:|shache\n",
      "Processing Record 519 for Set11:|solwezi\n",
      "Processing Record 520 for Set11:|anadyr\n",
      "Processing Record 521 for Set11:|winneba\n",
      "Processing Record 522 for Set11:|vecchiano\n",
      "Processing Record 523 for Set11:|los llanos de aridane\n",
      "Processing Record 524 for Set11:|lyudinovo\n",
      "City not found....skipping\n",
      "Processing Record 525 for Set11:|sur\n",
      "Processing Record 526 for Set11:|lavrentiya\n"
     ]
    }
   ],
   "source": [
    "# Base URL for making API calls on openweathermap.org\n",
    "base_url = \"http://api.openweathermap.org/data/2.5/weather?q=\"\n",
    "# Use counter to batch requests so as not to exceed request limit\n",
    "counter = 0\n",
    "# Use batch counter to reflect pull of new set in print log\n",
    "batch_counter = 1\n",
    "# Use record counter to reflect record number of each city in print log\n",
    "record_counter = 1\n",
    "\n",
    "# Set maximum number of cities to pull so for loop stops if all required cities are retrieved\n",
    "max_cities = 526\n",
    "# Set up empty lists to hold the data contents of the request response\n",
    "max_temp = []\n",
    "lat = []\n",
    "lon = []\n",
    "humidity = []\n",
    "cloudy = []\n",
    "wind_speed = []\n",
    "city_name = []\n",
    "country = []\n",
    "date = []\n",
    "\n",
    "# Create for loop to loop through all cities found in citipy in the cell above\n",
    "for city in cities:\n",
    "# Amend URL to include city to query, incorporate api key and set units to American standards\n",
    "    query_url = f\"{base_url}{city}&appid={weather_api_key}&units=imperial\"\n",
    "# Check to see if we have already reached the max number of cities before continuing    \n",
    "    if len(city_name) < max_cities:\n",
    "# Check to make sure we're still within the current batch search limit\n",
    "        if counter < 50:\n",
    "# Attempt to request and return data on each city\n",
    "            try:      \n",
    "                response = requests.get(query_url)\n",
    "                response_json = response.json()     \n",
    "# Check to be sure we haven't already gathered data on this city before continuing\n",
    "                if city not in city_name:                    \n",
    "# Append received data to the empty lists set up above the for loop\n",
    "# Use try and except to keep the loop moving on several data points\n",
    "                    city_name.append(response_json[\"name\"])\n",
    "                    country.append(response_json[\"sys\"][\"country\"])\n",
    "                    lat.append(response_json[\"coord\"][\"lat\"])\n",
    "                    lon.append(response_json[\"coord\"][\"lon\"])  \n",
    "                    date.append(response_json[\"dt\"])\n",
    "                    try:\n",
    "                        max_temp.append(response_json[\"main\"][\"temp_max\"])\n",
    "                    except:\n",
    "                        print(\"This {city} has no information on temperature\")\n",
    "                        pass\n",
    "                    try:\n",
    "                        humidity.append(response_json[\"main\"][\"humidity\"])\n",
    "                    except:\n",
    "                        print(\"This {city} has no information on humidity\")\n",
    "                        pass\n",
    "                    try:\n",
    "                        cloudy.append(response_json['clouds'][\"all\"])\n",
    "                    except:\n",
    "                        print(\"This {city} has no information on cloudiness\")\n",
    "                        pass                        \n",
    "                    try:\n",
    "                        wind_speed.append(response_json[\"wind\"][\"speed\"])\n",
    "                    except:\n",
    "                        print(\"This {city} has no information on wind speed\")\n",
    "                        pass \n",
    "# Begin printing log of record processing\n",
    "                print(f\"Processing Record {record_counter} for Set{batch_counter}:|{city}\")\n",
    "# Update counter for the next record\n",
    "                counter += 1\n",
    "# Update record counter for the next record\n",
    "                record_counter += 1\n",
    "# If city is not found, print message that city will be skipped and move to the next city\n",
    "            except:\n",
    "                print(f\"City not found....skipping\")\n",
    "                pass\n",
    "# If we have reached the counter limit of 50, start a new batch, update the batch counter for the next batch\n",
    "# Implement timer after previous batch for one minute break between batches\n",
    "        else:\n",
    "            counter = 0\n",
    "            batch_counter += 1\n",
    "            time.sleep(60)"
   ]
  },
  {
   "cell_type": "markdown",
   "metadata": {},
   "source": [
    "### Convert Raw Data to DataFrame\n",
    "* Export the city data into a .csv.\n",
    "* Display the DataFrame"
   ]
  },
  {
   "cell_type": "code",
   "execution_count": 5,
   "metadata": {},
   "outputs": [
    {
     "data": {
      "text/html": [
       "<div>\n",
       "<style scoped>\n",
       "    .dataframe tbody tr th:only-of-type {\n",
       "        vertical-align: middle;\n",
       "    }\n",
       "\n",
       "    .dataframe tbody tr th {\n",
       "        vertical-align: top;\n",
       "    }\n",
       "\n",
       "    .dataframe thead th {\n",
       "        text-align: right;\n",
       "    }\n",
       "</style>\n",
       "<table border=\"1\" class=\"dataframe\">\n",
       "  <thead>\n",
       "    <tr style=\"text-align: right;\">\n",
       "      <th></th>\n",
       "      <th>City</th>\n",
       "      <th>Lat</th>\n",
       "      <th>Lng</th>\n",
       "      <th>Max Temp</th>\n",
       "      <th>Humidity</th>\n",
       "      <th>Cloudiness</th>\n",
       "      <th>Wind Speed</th>\n",
       "      <th>Country</th>\n",
       "      <th>Date</th>\n",
       "    </tr>\n",
       "  </thead>\n",
       "  <tbody>\n",
       "    <tr>\n",
       "      <th>0</th>\n",
       "      <td>Hilo</td>\n",
       "      <td>19.7297</td>\n",
       "      <td>-155.0900</td>\n",
       "      <td>80.60</td>\n",
       "      <td>61</td>\n",
       "      <td>75</td>\n",
       "      <td>13.80</td>\n",
       "      <td>US</td>\n",
       "      <td>1619218925</td>\n",
       "    </tr>\n",
       "    <tr>\n",
       "      <th>1</th>\n",
       "      <td>Mar del Plata</td>\n",
       "      <td>-38.0023</td>\n",
       "      <td>-57.5575</td>\n",
       "      <td>69.80</td>\n",
       "      <td>78</td>\n",
       "      <td>0</td>\n",
       "      <td>6.91</td>\n",
       "      <td>AR</td>\n",
       "      <td>1619218926</td>\n",
       "    </tr>\n",
       "    <tr>\n",
       "      <th>2</th>\n",
       "      <td>Guerrero Negro</td>\n",
       "      <td>27.9769</td>\n",
       "      <td>-114.0611</td>\n",
       "      <td>64.04</td>\n",
       "      <td>62</td>\n",
       "      <td>10</td>\n",
       "      <td>22.10</td>\n",
       "      <td>MX</td>\n",
       "      <td>1619218926</td>\n",
       "    </tr>\n",
       "    <tr>\n",
       "      <th>3</th>\n",
       "      <td>Ushuaia</td>\n",
       "      <td>-54.8000</td>\n",
       "      <td>-68.3000</td>\n",
       "      <td>42.80</td>\n",
       "      <td>87</td>\n",
       "      <td>75</td>\n",
       "      <td>4.61</td>\n",
       "      <td>AR</td>\n",
       "      <td>1619218809</td>\n",
       "    </tr>\n",
       "    <tr>\n",
       "      <th>4</th>\n",
       "      <td>Berlevåg</td>\n",
       "      <td>70.8578</td>\n",
       "      <td>29.0864</td>\n",
       "      <td>33.03</td>\n",
       "      <td>84</td>\n",
       "      <td>81</td>\n",
       "      <td>13.80</td>\n",
       "      <td>NO</td>\n",
       "      <td>1619218815</td>\n",
       "    </tr>\n",
       "  </tbody>\n",
       "</table>\n",
       "</div>"
      ],
      "text/plain": [
       "             City      Lat       Lng  Max Temp  Humidity  Cloudiness  \\\n",
       "0            Hilo  19.7297 -155.0900     80.60        61          75   \n",
       "1   Mar del Plata -38.0023  -57.5575     69.80        78           0   \n",
       "2  Guerrero Negro  27.9769 -114.0611     64.04        62          10   \n",
       "3         Ushuaia -54.8000  -68.3000     42.80        87          75   \n",
       "4        Berlevåg  70.8578   29.0864     33.03        84          81   \n",
       "\n",
       "   Wind Speed Country        Date  \n",
       "0       13.80      US  1619218925  \n",
       "1        6.91      AR  1619218926  \n",
       "2       22.10      MX  1619218926  \n",
       "3        4.61      AR  1619218809  \n",
       "4       13.80      NO  1619218815  "
      ]
     },
     "execution_count": 5,
     "metadata": {},
     "output_type": "execute_result"
    }
   ],
   "source": [
    "# Create data frame for all city data collected\n",
    "city_group = {\"City\":city_name,\n",
    "             \"Lat\":lat,\n",
    "             \"Lng\":lon,\n",
    "             \"Max Temp\": max_temp,\n",
    "             \"Humidity\": humidity,\n",
    "             \"Cloudiness\": cloudy,\n",
    "             \"Wind Speed\": wind_speed,\n",
    "             \"Country\": country,\n",
    "             \"Date\": date}\n",
    "\n",
    "city_df = pd.DataFrame(city_group)\n",
    "# Send dataframe output to csv file.\n",
    "city_df.to_csv(output_data_file)\n",
    "city_df.head()"
   ]
  },
  {
   "cell_type": "code",
   "execution_count": 6,
   "metadata": {},
   "outputs": [
    {
     "data": {
      "text/html": [
       "<div>\n",
       "<style scoped>\n",
       "    .dataframe tbody tr th:only-of-type {\n",
       "        vertical-align: middle;\n",
       "    }\n",
       "\n",
       "    .dataframe tbody tr th {\n",
       "        vertical-align: top;\n",
       "    }\n",
       "\n",
       "    .dataframe thead th {\n",
       "        text-align: right;\n",
       "    }\n",
       "</style>\n",
       "<table border=\"1\" class=\"dataframe\">\n",
       "  <thead>\n",
       "    <tr style=\"text-align: right;\">\n",
       "      <th></th>\n",
       "      <th>Lat</th>\n",
       "      <th>Lng</th>\n",
       "      <th>Max Temp</th>\n",
       "      <th>Humidity</th>\n",
       "      <th>Cloudiness</th>\n",
       "      <th>Wind Speed</th>\n",
       "      <th>Date</th>\n",
       "    </tr>\n",
       "  </thead>\n",
       "  <tbody>\n",
       "    <tr>\n",
       "      <th>count</th>\n",
       "      <td>526.000000</td>\n",
       "      <td>526.000000</td>\n",
       "      <td>526.000000</td>\n",
       "      <td>526.000000</td>\n",
       "      <td>526.000000</td>\n",
       "      <td>526.000000</td>\n",
       "      <td>5.260000e+02</td>\n",
       "    </tr>\n",
       "    <tr>\n",
       "      <th>mean</th>\n",
       "      <td>18.712754</td>\n",
       "      <td>17.441246</td>\n",
       "      <td>59.893688</td>\n",
       "      <td>70.593156</td>\n",
       "      <td>51.720532</td>\n",
       "      <td>7.661901</td>\n",
       "      <td>1.619219e+09</td>\n",
       "    </tr>\n",
       "    <tr>\n",
       "      <th>std</th>\n",
       "      <td>33.552851</td>\n",
       "      <td>89.743417</td>\n",
       "      <td>18.693331</td>\n",
       "      <td>22.066779</td>\n",
       "      <td>38.256526</td>\n",
       "      <td>5.071528</td>\n",
       "      <td>2.316913e+02</td>\n",
       "    </tr>\n",
       "    <tr>\n",
       "      <th>min</th>\n",
       "      <td>-54.800000</td>\n",
       "      <td>-175.200000</td>\n",
       "      <td>3.400000</td>\n",
       "      <td>6.000000</td>\n",
       "      <td>0.000000</td>\n",
       "      <td>0.400000</td>\n",
       "      <td>1.619219e+09</td>\n",
       "    </tr>\n",
       "    <tr>\n",
       "      <th>25%</th>\n",
       "      <td>-9.440650</td>\n",
       "      <td>-59.321725</td>\n",
       "      <td>45.707500</td>\n",
       "      <td>61.000000</td>\n",
       "      <td>14.000000</td>\n",
       "      <td>3.690000</td>\n",
       "      <td>1.619219e+09</td>\n",
       "    </tr>\n",
       "    <tr>\n",
       "      <th>50%</th>\n",
       "      <td>23.262100</td>\n",
       "      <td>21.699100</td>\n",
       "      <td>62.010000</td>\n",
       "      <td>77.000000</td>\n",
       "      <td>55.500000</td>\n",
       "      <td>6.710000</td>\n",
       "      <td>1.619219e+09</td>\n",
       "    </tr>\n",
       "    <tr>\n",
       "      <th>75%</th>\n",
       "      <td>46.433750</td>\n",
       "      <td>91.535050</td>\n",
       "      <td>76.835000</td>\n",
       "      <td>87.000000</td>\n",
       "      <td>90.000000</td>\n",
       "      <td>10.360000</td>\n",
       "      <td>1.619219e+09</td>\n",
       "    </tr>\n",
       "    <tr>\n",
       "      <th>max</th>\n",
       "      <td>78.218600</td>\n",
       "      <td>179.316700</td>\n",
       "      <td>100.400000</td>\n",
       "      <td>100.000000</td>\n",
       "      <td>100.000000</td>\n",
       "      <td>32.300000</td>\n",
       "      <td>1.619220e+09</td>\n",
       "    </tr>\n",
       "  </tbody>\n",
       "</table>\n",
       "</div>"
      ],
      "text/plain": [
       "              Lat         Lng    Max Temp    Humidity  Cloudiness  Wind Speed  \\\n",
       "count  526.000000  526.000000  526.000000  526.000000  526.000000  526.000000   \n",
       "mean    18.712754   17.441246   59.893688   70.593156   51.720532    7.661901   \n",
       "std     33.552851   89.743417   18.693331   22.066779   38.256526    5.071528   \n",
       "min    -54.800000 -175.200000    3.400000    6.000000    0.000000    0.400000   \n",
       "25%     -9.440650  -59.321725   45.707500   61.000000   14.000000    3.690000   \n",
       "50%     23.262100   21.699100   62.010000   77.000000   55.500000    6.710000   \n",
       "75%     46.433750   91.535050   76.835000   87.000000   90.000000   10.360000   \n",
       "max     78.218600  179.316700  100.400000  100.000000  100.000000   32.300000   \n",
       "\n",
       "               Date  \n",
       "count  5.260000e+02  \n",
       "mean   1.619219e+09  \n",
       "std    2.316913e+02  \n",
       "min    1.619219e+09  \n",
       "25%    1.619219e+09  \n",
       "50%    1.619219e+09  \n",
       "75%    1.619219e+09  \n",
       "max    1.619220e+09  "
      ]
     },
     "execution_count": 6,
     "metadata": {},
     "output_type": "execute_result"
    }
   ],
   "source": [
    "# Display dataframe statistical data\n",
    "city_df.describe()"
   ]
  },
  {
   "cell_type": "markdown",
   "metadata": {},
   "source": [
    "## Inspect the data and remove the cities where the humidity > 100%.\n",
    "----\n",
    "Skip this step if there are no cities that have humidity > 100%. "
   ]
  },
  {
   "cell_type": "code",
   "execution_count": 7,
   "metadata": {},
   "outputs": [
    {
     "data": {
      "text/html": [
       "<div>\n",
       "<style scoped>\n",
       "    .dataframe tbody tr th:only-of-type {\n",
       "        vertical-align: middle;\n",
       "    }\n",
       "\n",
       "    .dataframe tbody tr th {\n",
       "        vertical-align: top;\n",
       "    }\n",
       "\n",
       "    .dataframe thead th {\n",
       "        text-align: right;\n",
       "    }\n",
       "</style>\n",
       "<table border=\"1\" class=\"dataframe\">\n",
       "  <thead>\n",
       "    <tr style=\"text-align: right;\">\n",
       "      <th></th>\n",
       "      <th>City</th>\n",
       "      <th>Lat</th>\n",
       "      <th>Lng</th>\n",
       "      <th>Max Temp</th>\n",
       "      <th>Humidity</th>\n",
       "      <th>Cloudiness</th>\n",
       "      <th>Wind Speed</th>\n",
       "      <th>Country</th>\n",
       "      <th>Date</th>\n",
       "    </tr>\n",
       "  </thead>\n",
       "  <tbody>\n",
       "  </tbody>\n",
       "</table>\n",
       "</div>"
      ],
      "text/plain": [
       "Empty DataFrame\n",
       "Columns: [City, Lat, Lng, Max Temp, Humidity, Cloudiness, Wind Speed, Country, Date]\n",
       "Index: []"
      ]
     },
     "execution_count": 7,
     "metadata": {},
     "output_type": "execute_result"
    }
   ],
   "source": [
    "# Locate any cities with humidity in excess of 100\n",
    "high_humidity = city_df.loc[city_df[\"Humidity\"] > 100,:]    \n",
    "high_humidity"
   ]
  },
  {
   "cell_type": "code",
   "execution_count": 8,
   "metadata": {},
   "outputs": [
    {
     "data": {
      "text/plain": [
       "Int64Index([], dtype='int64')"
      ]
     },
     "execution_count": 8,
     "metadata": {},
     "output_type": "execute_result"
    }
   ],
   "source": [
    "#  Get the indices of cities that have humidity over 100%.\n",
    "high_humidity.index"
   ]
  },
  {
   "cell_type": "code",
   "execution_count": 10,
   "metadata": {},
   "outputs": [
    {
     "data": {
      "text/html": [
       "<div>\n",
       "<style scoped>\n",
       "    .dataframe tbody tr th:only-of-type {\n",
       "        vertical-align: middle;\n",
       "    }\n",
       "\n",
       "    .dataframe tbody tr th {\n",
       "        vertical-align: top;\n",
       "    }\n",
       "\n",
       "    .dataframe thead th {\n",
       "        text-align: right;\n",
       "    }\n",
       "</style>\n",
       "<table border=\"1\" class=\"dataframe\">\n",
       "  <thead>\n",
       "    <tr style=\"text-align: right;\">\n",
       "      <th></th>\n",
       "      <th>City</th>\n",
       "      <th>Lat</th>\n",
       "      <th>Lng</th>\n",
       "      <th>Max Temp</th>\n",
       "      <th>Humidity</th>\n",
       "      <th>Cloudiness</th>\n",
       "      <th>Wind Speed</th>\n",
       "      <th>Country</th>\n",
       "      <th>Date</th>\n",
       "    </tr>\n",
       "  </thead>\n",
       "  <tbody>\n",
       "    <tr>\n",
       "      <th>0</th>\n",
       "      <td>Hilo</td>\n",
       "      <td>19.7297</td>\n",
       "      <td>-155.0900</td>\n",
       "      <td>80.60</td>\n",
       "      <td>61</td>\n",
       "      <td>75</td>\n",
       "      <td>13.80</td>\n",
       "      <td>US</td>\n",
       "      <td>1619218925</td>\n",
       "    </tr>\n",
       "    <tr>\n",
       "      <th>1</th>\n",
       "      <td>Mar del Plata</td>\n",
       "      <td>-38.0023</td>\n",
       "      <td>-57.5575</td>\n",
       "      <td>69.80</td>\n",
       "      <td>78</td>\n",
       "      <td>0</td>\n",
       "      <td>6.91</td>\n",
       "      <td>AR</td>\n",
       "      <td>1619218926</td>\n",
       "    </tr>\n",
       "    <tr>\n",
       "      <th>2</th>\n",
       "      <td>Guerrero Negro</td>\n",
       "      <td>27.9769</td>\n",
       "      <td>-114.0611</td>\n",
       "      <td>64.04</td>\n",
       "      <td>62</td>\n",
       "      <td>10</td>\n",
       "      <td>22.10</td>\n",
       "      <td>MX</td>\n",
       "      <td>1619218926</td>\n",
       "    </tr>\n",
       "    <tr>\n",
       "      <th>3</th>\n",
       "      <td>Ushuaia</td>\n",
       "      <td>-54.8000</td>\n",
       "      <td>-68.3000</td>\n",
       "      <td>42.80</td>\n",
       "      <td>87</td>\n",
       "      <td>75</td>\n",
       "      <td>4.61</td>\n",
       "      <td>AR</td>\n",
       "      <td>1619218809</td>\n",
       "    </tr>\n",
       "    <tr>\n",
       "      <th>4</th>\n",
       "      <td>Berlevåg</td>\n",
       "      <td>70.8578</td>\n",
       "      <td>29.0864</td>\n",
       "      <td>33.03</td>\n",
       "      <td>84</td>\n",
       "      <td>81</td>\n",
       "      <td>13.80</td>\n",
       "      <td>NO</td>\n",
       "      <td>1619218815</td>\n",
       "    </tr>\n",
       "  </tbody>\n",
       "</table>\n",
       "</div>"
      ],
      "text/plain": [
       "             City      Lat       Lng  Max Temp  Humidity  Cloudiness  \\\n",
       "0            Hilo  19.7297 -155.0900     80.60        61          75   \n",
       "1   Mar del Plata -38.0023  -57.5575     69.80        78           0   \n",
       "2  Guerrero Negro  27.9769 -114.0611     64.04        62          10   \n",
       "3         Ushuaia -54.8000  -68.3000     42.80        87          75   \n",
       "4        Berlevåg  70.8578   29.0864     33.03        84          81   \n",
       "\n",
       "   Wind Speed Country        Date  \n",
       "0       13.80      US  1619218925  \n",
       "1        6.91      AR  1619218926  \n",
       "2       22.10      MX  1619218926  \n",
       "3        4.61      AR  1619218809  \n",
       "4       13.80      NO  1619218815  "
      ]
     },
     "execution_count": 10,
     "metadata": {},
     "output_type": "execute_result"
    }
   ],
   "source": [
    "# Make a new DataFrame equal to the city data to drop all humidity outliers by index.\n",
    "# Passing \"inplace=False\" will make a copy of the city_data DataFrame, which we call \"clean_city_data\".\n",
    "clean_city_df = city_df.drop(city_df[city_df['Humidity'] > 100].index, inplace = False)\n",
    "clean_city_df = clean_city_df.reset_index(drop = True)\n",
    "clean_city_df.head()"
   ]
  },
  {
   "cell_type": "code",
   "execution_count": null,
   "metadata": {},
   "outputs": [],
   "source": [
    "\n"
   ]
  },
  {
   "cell_type": "markdown",
   "metadata": {},
   "source": [
    "## Plotting the Data\n",
    "* Use proper labeling of the plots using plot titles (including date of analysis) and axes labels.\n",
    "* Save the plotted figures as .pngs."
   ]
  },
  {
   "cell_type": "markdown",
   "metadata": {},
   "source": [
    "## Latitude vs. Temperature Plot"
   ]
  },
  {
   "cell_type": "code",
   "execution_count": 58,
   "metadata": {
    "scrolled": true
   },
   "outputs": [
    {
     "data": {
      "image/png": "[encoded data removed]",
      "text/plain": [
       "<Figure size 432x288 with 1 Axes>"
      ]
     },
     "metadata": {
      "needs_background": "light"
     },
     "output_type": "display_data"
    }
   ],
   "source": [
    "x_axis = clean_city_df[\"Lat\"]\n",
    "y_axis = clean_city_df[\"Max Temp\"]\n",
    "plt.scatter(x_axis, y_axis, marker = \"o\", color = \"orangered\", edgecolor = \"black\")\n",
    "plt.title(\"City Latitude vs Max Temperature (04/23/21)\")\n",
    "plt.xlabel(\"Latitude\")\n",
    "plt.ylabel(\"Max Temperature (F)\")\n",
    "plt.savefig(\"output_data/City Latitude vs Max Temperature.png\")\n",
    "plt.show()"
   ]
  },
  {
   "cell_type": "markdown",
   "metadata": {},
   "source": [
    "## Latitude vs. Humidity Plot"
   ]
  },
  {
   "cell_type": "code",
   "execution_count": 59,
   "metadata": {},
   "outputs": [
    {
     "data": {
      "image/png": "[encoded data removed]",
      "text/plain": [
       "<Figure size 432x288 with 1 Axes>"
      ]
     },
     "metadata": {
      "needs_background": "light"
     },
     "output_type": "display_data"
    }
   ],
   "source": [
    "x_axis = clean_city_df[\"Lat\"]\n",
    "y_axis = clean_city_df[\"Humidity\"]\n",
    "plt.scatter(x_axis, y_axis, marker = \"o\", color = \"mediumseagreen\", edgecolor = \"black\")\n",
    "plt.title(\"City Latitude vs Humidity (04/23/21)\")\n",
    "plt.xlabel(\"Latitude\")\n",
    "plt.ylabel(\"Humidity %\")\n",
    "plt.savefig(\"output_data/City Latitude vs Humidity.png\")\n",
    "plt.show()"
   ]
  },
  {
   "cell_type": "markdown",
   "metadata": {},
   "source": [
    "## Latitude vs. Cloudiness Plot"
   ]
  },
  {
   "cell_type": "code",
   "execution_count": 60,
   "metadata": {},
   "outputs": [
    {
     "data": {
      "image/png": "[encoded data removed]",
      "text/plain": [
       "<Figure size 432x288 with 1 Axes>"
      ]
     },
     "metadata": {
      "needs_background": "light"
     },
     "output_type": "display_data"
    }
   ],
   "source": [
    "x_axis = clean_city_df[\"Lat\"]\n",
    "y_axis = clean_city_df[\"Cloudiness\"]\n",
    "plt.scatter(x_axis, y_axis, marker = \"o\", color = \"royalblue\", edgecolor = \"black\")\n",
    "plt.title(\"City Latitude vs Cloudiness (04/23/21)\")\n",
    "plt.xlabel(\"Latitude\")\n",
    "plt.ylabel(\"Cloudiness %\")\n",
    "plt.savefig(\"output_data/City Latitude vs Cloudiness.png\")\n",
    "plt.show()"
   ]
  },
  {
   "cell_type": "markdown",
   "metadata": {},
   "source": [
    "## Latitude vs. Wind Speed Plot"
   ]
  },
  {
   "cell_type": "code",
   "execution_count": 61,
   "metadata": {},
   "outputs": [
    {
     "data": {
      "image/png": "[encoded data removed]",
      "text/plain": [
       "<Figure size 432x288 with 1 Axes>"
      ]
     },
     "metadata": {
      "needs_background": "light"
     },
     "output_type": "display_data"
    }
   ],
   "source": [
    "x_axis = clean_city_df[\"Lat\"]\n",
    "y_axis = clean_city_df[\"Wind Speed\"]\n",
    "plt.scatter(x_axis, y_axis, marker = \"o\", color = \"gold\", edgecolor = \"black\")\n",
    "plt.title(\"City Latitude vs Wind Speed (04/23/21)\")\n",
    "plt.xlabel(\"Latitude\")\n",
    "plt.ylabel(\"Wind Speed (mph)\")\n",
    "plt.savefig(\"output_data/City Latitude vs Wind Speed.png\")\n",
    "plt.show()"
   ]
  },
  {
   "cell_type": "markdown",
   "metadata": {},
   "source": [
    "## Linear Regression"
   ]
  },
  {
   "cell_type": "code",
   "execution_count": 24,
   "metadata": {},
   "outputs": [],
   "source": []
  },
  {
   "cell_type": "markdown",
   "metadata": {},
   "source": [
    "####  Northern Hemisphere - Max Temp vs. Latitude Linear Regression"
   ]
  },
  {
   "cell_type": "code",
   "execution_count": 62,
   "metadata": {},
   "outputs": [
    {
     "name": "stdout",
     "output_type": "stream",
     "text": [
      "The r-value is -0.8863058197010363.\n"
     ]
    },
    {
     "data": {
      "image/png": "[encoded data removed]",
      "text/plain": [
       "<Figure size 432x288 with 1 Axes>"
      ]
     },
     "metadata": {
      "needs_background": "light"
     },
     "output_type": "display_data"
    }
   ],
   "source": [
    "north_cities = clean_city_df.loc[clean_city_df[\"Lat\"]>= 0,:]\n",
    "x_axis = north_cities[\"Lat\"]\n",
    "y_axis = north_cities[\"Max Temp\"]\n",
    "plt.scatter(x_axis, y_axis, marker = \"o\")\n",
    "plt.xlabel(\"Latitude\")\n",
    "plt.ylabel(\"Max Temperature (F)\")\n",
    "\n",
    "(slope, intercept, rvalue, pvalue, stderr) = linregress(x_axis, y_axis)\n",
    "regress_values = x_axis * slope + intercept\n",
    "line_eq = \"y=\" + str(round(slope, 2)) + \"x + \" + str(round(intercept,2))\n",
    "plt.plot(x_axis,regress_values, \"r-\")\n",
    "plt.annotate(line_eq,(5,8),fontsize=15, color=\"red\")\n",
    "print(f\"The r-value is {rvalue}.\")\n",
    "plt.savefig(\"output_data/Northern Hemisphere - Max Temp vs. Latitude Linear Regression.png\")\n",
    "plt.show()"
   ]
  },
  {
   "cell_type": "markdown",
   "metadata": {},
   "source": [
    "####  Southern Hemisphere - Max Temp vs. Latitude Linear Regression"
   ]
  },
  {
   "cell_type": "code",
   "execution_count": 63,
   "metadata": {},
   "outputs": [
    {
     "name": "stdout",
     "output_type": "stream",
     "text": [
      "The r-value is 0.7342852135468846.\n"
     ]
    },
    {
     "data": {
      "image/png": "[encoded data removed]",
      "text/plain": [
       "<Figure size 432x288 with 1 Axes>"
      ]
     },
     "metadata": {
      "needs_background": "light"
     },
     "output_type": "display_data"
    }
   ],
   "source": [
    "south_cities = clean_city_df.loc[clean_city_df[\"Lat\"]< 0,:]\n",
    "x_axis = south_cities[\"Lat\"]\n",
    "y_axis = south_cities[\"Max Temp\"]\n",
    "plt.scatter(x_axis, y_axis, marker = \"o\")\n",
    "plt.xlabel(\"Latitude\")\n",
    "plt.ylabel(\"Max Temperature (F)\")\n",
    "\n",
    "(slope, intercept, rvalue, pvalue, stderr) = linregress(x_axis, y_axis)\n",
    "regress_values = x_axis * slope + intercept\n",
    "line_eq = \"y=\" + str(round(slope, 2)) + \"x + \" + str(round(intercept,2))\n",
    "plt.plot(x_axis,regress_values, \"r-\")\n",
    "plt.annotate(line_eq,(-25,47),fontsize=15, color=\"red\")\n",
    "print(f\"The r-value is {rvalue}.\")\n",
    "plt.savefig(\"output_data/Southern Hemisphere - Max Temp vs. Latitude Linear Regression.png\")\n",
    "plt.show()"
   ]
  },
  {
   "cell_type": "markdown",
   "metadata": {},
   "source": [
    "####  Northern Hemisphere - Humidity (%) vs. Latitude Linear Regression"
   ]
  },
  {
   "cell_type": "code",
   "execution_count": 64,
   "metadata": {},
   "outputs": [
    {
     "name": "stdout",
     "output_type": "stream",
     "text": [
      "The r-value is 0.11709749987345722.\n"
     ]
    },
    {
     "data": {
      "image/png": "[encoded data removed]",
      "text/plain": [
       "<Figure size 432x288 with 1 Axes>"
      ]
     },
     "metadata": {
      "needs_background": "light"
     },
     "output_type": "display_data"
    }
   ],
   "source": [
    "x_axis = north_cities[\"Lat\"]\n",
    "y_axis = north_cities[\"Humidity\"]\n",
    "plt.scatter(x_axis, y_axis, marker = \"o\")\n",
    "plt.xlabel(\"Latitude\")\n",
    "plt.ylabel(\"Humidity %\")\n",
    "\n",
    "(slope, intercept, rvalue, pvalue, stderr) = linregress(x_axis, y_axis)\n",
    "regress_values = x_axis * slope + intercept\n",
    "line_eq = \"y=\" + str(round(slope, 2)) + \"x + \" + str(round(intercept,2))\n",
    "plt.plot(x_axis,regress_values, \"r-\")\n",
    "plt.annotate(line_eq,(45,5),fontsize=15, color=\"red\")\n",
    "print(f\"The r-value is {rvalue}.\")\n",
    "plt.savefig(\"output_data/Northern Hemisphere - Humidity vs. Latitude Linear Regression.png\")\n",
    "plt.show()"
   ]
  },
  {
   "cell_type": "markdown",
   "metadata": {},
   "source": [
    "####  Southern Hemisphere - Humidity (%) vs. Latitude Linear Regression"
   ]
  },
  {
   "cell_type": "code",
   "execution_count": 65,
   "metadata": {},
   "outputs": [
    {
     "name": "stdout",
     "output_type": "stream",
     "text": [
      "The r-value is 0.06802178311172202.\n"
     ]
    },
    {
     "data": {
      "image/png": "[encoded data removed]",
      "text/plain": [
       "<Figure size 432x288 with 1 Axes>"
      ]
     },
     "metadata": {
      "needs_background": "light"
     },
     "output_type": "display_data"
    }
   ],
   "source": [
    "x_axis = south_cities[\"Lat\"]\n",
    "y_axis = south_cities[\"Humidity\"]\n",
    "plt.scatter(x_axis, y_axis, marker = \"o\")\n",
    "plt.xlabel(\"Latitude\")\n",
    "plt.ylabel(\"Humidity %\")\n",
    "\n",
    "(slope, intercept, rvalue, pvalue, stderr) = linregress(x_axis, y_axis)\n",
    "regress_values = x_axis * slope + intercept\n",
    "line_eq = \"y=\" + str(round(slope, 2)) + \"x + \" + str(round(intercept,2))\n",
    "plt.plot(x_axis,regress_values, \"r-\")\n",
    "plt.annotate(line_eq,(-55,35),fontsize=15, color=\"red\")\n",
    "print(f\"The r-value is {rvalue}.\")\n",
    "plt.savefig(\"output_data/Southern Hemisphere - Humidity vs. Latitude Linear Regression.png\")\n",
    "plt.show()"
   ]
  },
  {
   "cell_type": "markdown",
   "metadata": {},
   "source": [
    "####  Northern Hemisphere - Cloudiness (%) vs. Latitude Linear Regression"
   ]
  },
  {
   "cell_type": "code",
   "execution_count": 66,
   "metadata": {},
   "outputs": [
    {
     "name": "stdout",
     "output_type": "stream",
     "text": [
      "The r-value is 0.1839076811721939.\n"
     ]
    },
    {
     "data": {
      "image/png": "[encoded data removed]",
      "text/plain": [
       "<Figure size 432x288 with 1 Axes>"
      ]
     },
     "metadata": {
      "needs_background": "light"
     },
     "output_type": "display_data"
    }
   ],
   "source": [
    "x_axis = north_cities[\"Lat\"]\n",
    "y_axis = north_cities[\"Cloudiness\"]\n",
    "plt.scatter(x_axis, y_axis, marker = \"o\")\n",
    "plt.xlabel(\"Latitude\")\n",
    "plt.ylabel(\"Cloudiness %\")\n",
    "\n",
    "(slope, intercept, rvalue, pvalue, stderr) = linregress(x_axis, y_axis)\n",
    "regress_values = x_axis * slope + intercept\n",
    "line_eq = \"y=\" + str(round(slope, 2)) + \"x + \" + str(round(intercept,2))\n",
    "plt.plot(x_axis,regress_values, \"r-\")\n",
    "plt.annotate(line_eq,(75,5),fontsize=15, color=\"red\", rotation=90)\n",
    "print(f\"The r-value is {rvalue}.\")\n",
    "plt.savefig(\"output_data/Northern Hemisphere - Cloudiness vs. Latitude Linear Regression.png\")\n",
    "plt.show()"
   ]
  },
  {
   "cell_type": "markdown",
   "metadata": {},
   "source": [
    "####  Southern Hemisphere - Cloudiness (%) vs. Latitude Linear Regression"
   ]
  },
  {
   "cell_type": "code",
   "execution_count": 67,
   "metadata": {},
   "outputs": [
    {
     "name": "stdout",
     "output_type": "stream",
     "text": [
      "The r-value is 0.06709605165900163.\n"
     ]
    },
    {
     "data": {
      "image/png": "[encoded data removed]",
      "text/plain": [
       "<Figure size 432x288 with 1 Axes>"
      ]
     },
     "metadata": {
      "needs_background": "light"
     },
     "output_type": "display_data"
    }
   ],
   "source": [
    "x_axis = south_cities[\"Lat\"]\n",
    "y_axis = south_cities[\"Cloudiness\"]\n",
    "plt.scatter(x_axis, y_axis, marker = \"o\")\n",
    "plt.xlabel(\"Latitude\")\n",
    "plt.ylabel(\"Cloudiness %\")\n",
    "\n",
    "(slope, intercept, rvalue, pvalue, stderr) = linregress(x_axis, y_axis)\n",
    "regress_values = x_axis * slope + intercept\n",
    "line_eq = \"y=\" + str(round(slope, 2)) + \"x + \" + str(round(intercept,2))\n",
    "plt.plot(x_axis,regress_values, \"r-\")\n",
    "plt.annotate(line_eq,(-55,50),fontsize=14, color=\"red\")\n",
    "print(f\"The r-value is {rvalue}.\")\n",
    "plt.savefig(\"output_data/Southern Hemisphere - Cloudiness vs. Latitude Linear Regression.png\")\n",
    "plt.show()"
   ]
  },
  {
   "cell_type": "markdown",
   "metadata": {},
   "source": [
    "####  Northern Hemisphere - Wind Speed (mph) vs. Latitude Linear Regression"
   ]
  },
  {
   "cell_type": "code",
   "execution_count": 68,
   "metadata": {},
   "outputs": [
    {
     "name": "stdout",
     "output_type": "stream",
     "text": [
      "The r-value is 0.05909797872591126.\n"
     ]
    },
    {
     "data": {
      "image/png": "[encoded data removed]",
      "text/plain": [
       "<Figure size 432x288 with 1 Axes>"
      ]
     },
     "metadata": {
      "needs_background": "light"
     },
     "output_type": "display_data"
    }
   ],
   "source": [
    "x_axis = north_cities[\"Lat\"]\n",
    "y_axis = north_cities[\"Wind Speed\"]\n",
    "plt.scatter(x_axis, y_axis, marker = \"o\")\n",
    "plt.xlabel(\"Latitude\")\n",
    "plt.ylabel(\"Wind Speed (mph)\")\n",
    "\n",
    "(slope, intercept, rvalue, pvalue, stderr) = linregress(x_axis, y_axis)\n",
    "regress_values = x_axis * slope + intercept\n",
    "line_eq = \"y=\" + str(round(slope, 2)) + \"x + \" + str(round(intercept,2))\n",
    "plt.plot(x_axis,regress_values, \"r-\")\n",
    "plt.annotate(line_eq,(50,30),fontsize=15, color=\"red\")\n",
    "print(f\"The r-value is {rvalue}.\")\n",
    "plt.savefig(\"output_data/Northern Hemisphere - Wind Speed vs. Latitude Linear Regression.png\")\n",
    "plt.show()"
   ]
  },
  {
   "cell_type": "markdown",
   "metadata": {},
   "source": [
    "####  Southern Hemisphere - Wind Speed (mph) vs. Latitude Linear Regression"
   ]
  },
  {
   "cell_type": "code",
   "execution_count": 69,
   "metadata": {},
   "outputs": [
    {
     "name": "stdout",
     "output_type": "stream",
     "text": [
      "The r-value is -0.046155699878684966.\n"
     ]
    },
    {
     "data": {
      "image/png": "[encoded data removed]",
      "text/plain": [
       "<Figure size 432x288 with 1 Axes>"
      ]
     },
     "metadata": {
      "needs_background": "light"
     },
     "output_type": "display_data"
    }
   ],
   "source": [
    "x_axis = south_cities[\"Lat\"]\n",
    "y_axis = south_cities[\"Wind Speed\"]\n",
    "plt.scatter(x_axis, y_axis, marker = \"o\")\n",
    "plt.xlabel(\"Latitude\")\n",
    "plt.ylabel(\"Wind Speed (mph)\")\n",
    "\n",
    "(slope, intercept, rvalue, pvalue, stderr) = linregress(x_axis, y_axis)\n",
    "regress_values = x_axis * slope + intercept\n",
    "line_eq = \"y=\" + str(round(slope, 2)) + \"x + \" + str(round(intercept,2))\n",
    "plt.plot(x_axis,regress_values, \"r-\")\n",
    "plt.annotate(line_eq,(-55,22),fontsize=14,color=\"red\")\n",
    "print(f\"The r-value is {rvalue}.\")\n",
    "plt.savefig(\"output_data/Southern Hemisphere - Wind Speed vs. Latitude Linear Regression.png\")\n",
    "plt.show()"
   ]
  },
  {
   "cell_type": "code",
   "execution_count": null,
   "metadata": {},
   "outputs": [],
   "source": []
  }
 ],
 "metadata": {
  "anaconda-cloud": {},
  "kernel_info": {
   "name": "python3"
  },
  "kernelspec": {
   "display_name": "Python [conda env:PythonData] *",
   "language": "python",
   "name": "conda-env-PythonData-py"
  },
  "language_info": {
   "codemirror_mode": {
    "name": "ipython",
    "version": 3
   },
   "file_extension": ".py",
   "mimetype": "text/x-python",
   "name": "python",
   "nbconvert_exporter": "python",
   "pygments_lexer": "ipython3",
   "version": "3.6.10"
  },
  "latex_envs": {
   "LaTeX_envs_menu_present": true,
   "autoclose": false,
   "autocomplete": true,
   "bibliofile": "biblio.bib",
   "cite_by": "apalike",
   "current_citInitial": 1,
   "eqLabelWithNumbers": true,
   "eqNumInitial": 1,
   "hotkeys": {
    "equation": "Ctrl-E",
    "itemize": "Ctrl-I"
   },
   "labels_anchors": false,
   "latex_user_defs": false,
   "report_style_numbering": false,
   "user_envs_cfg": false
  },
  "nteract": {
   "version": "0.12.3"
  }
 },
 "nbformat": 4,
 "nbformat_minor": 2
}
