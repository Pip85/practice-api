{
 "cells": [
  {
   "cell_type": "markdown",
   "metadata": {},
   "source": [
    "# WeatherPy\n",
    "----\n",
    "\n",
    "#### Note\n",
    "* Instructions have been included for each segment. You do not have to follow them exactly, but they are included to help you think through the steps."
   ]
  },
  {
   "cell_type": "code",
   "execution_count": 12,
   "metadata": {
    "scrolled": true
   },
   "outputs": [],
   "source": [
    "# Dependencies and Setup\n",
    "import matplotlib.pyplot as plt\n",
    "import pandas as pd\n",
    "import numpy as np\n",
    "import requests\n",
    "import time\n",
    "from scipy.stats import linregress\n",
    "\n",
    "# Import API key\n",
    "from api_keys import weather_api_key\n",
    "\n",
    "# Incorporated citipy to determine city based on latitude and longitude\n",
    "from citipy import citipy\n",
    "\n",
    "# Output File (CSV)\n",
    "output_data_file = \"output_data/cities.csv\"\n",
    "\n",
    "# Range of latitudes and longitudes\n",
    "lat_range = (-90, 90)\n",
    "lng_range = (-180, 180)"
   ]
  },
  {
   "cell_type": "markdown",
   "metadata": {},
   "source": [
    "## Generate Cities List"
   ]
  },
  {
   "cell_type": "code",
   "execution_count": 13,
   "metadata": {},
   "outputs": [
    {
     "name": "stdout",
     "output_type": "stream",
     "text": [
      "25\n"
     ]
    }
   ],
   "source": [
    "# List for holding lat_lngs and cities\n",
    "lat_lngs = []\n",
    "cities = []\n",
    "\n",
    "cities_needed = 25\n",
    "counter = 25\n",
    "while len(cities) < cities_needed:\n",
    "    lats = np.random.uniform(lat_range[0], lat_range[1], size= counter)\n",
    "    lngs = np.random.uniform(lng_range[0], lng_range[1], size=counter)\n",
    "    lat_lngs = zip(lats, lngs)\n",
    "\n",
    "    for lat_lng in lat_lngs:\n",
    "        city = citipy.nearest_city(lat_lng[0], lat_lng[1]).city_name\n",
    "    \n",
    "        if city not in cities:\n",
    "            cities.append(city)  \n",
    "    counter = counter - len(cities)\n",
    "    \n",
    "print(len(cities))    "
   ]
  },
  {
   "cell_type": "markdown",
   "metadata": {},
   "source": [
    "### Perform API Calls\n",
    "* Perform a weather check on each city using a series of successive API calls.\n",
    "* Include a print log of each city as it'sbeing processed (with the city number and city name).\n"
   ]
  },
  {
   "cell_type": "code",
   "execution_count": 14,
   "metadata": {
    "scrolled": true
   },
   "outputs": [
    {
     "name": "stdout",
     "output_type": "stream",
     "text": [
      "Processing Record 1 for Set1:|vaini\n",
      "Processing Record 2 for Set1:|qaanaaq\n",
      "Processing Record 3 for Set1:|kimberley\n",
      "Processing Record 4 for Set1:|kutahya\n",
      "Processing Record 5 for Set1:|bluff\n",
      "Processing Record 6 for Set2:|punta arenas\n",
      "Processing Record 7 for Set2:|port alfred\n",
      "Processing Record 8 for Set2:|jamestown\n",
      "Processing Record 9 for Set2:|flinders\n",
      "Processing Record 10 for Set2:|rikitea\n",
      "Processing Record 11 for Set3:|port lincoln\n",
      "Processing Record 12 for Set3:|cidreira\n",
      "Processing Record 13 for Set3:|barrow\n",
      "Processing Record 14 for Set3:|puerto ayora\n",
      "Processing Record 15 for Set3:|vanimo\n",
      "Processing Record 16 for Set4:|tasiilaq\n",
      "City not found....skipping\n",
      "Processing Record 17 for Set4:|tiksi\n",
      "Processing Record 18 for Set4:|hermanus\n",
      "Processing Record 19 for Set4:|viedma\n",
      "City not found....skipping\n",
      "Processing Record 20 for Set4:|campos novos\n",
      "{'coord': {'lon': -51.225, 'lat': -27.4017}, 'weather': [{'id': 800, 'main': 'Clear', 'description': 'clear sky', 'icon': '01n'}], 'base': 'stations', 'main': {'temp': 57.36, 'feels_like': 55.38, 'temp_min': 57.36, 'temp_max': 57.36, 'pressure': 1015, 'humidity': 55, 'sea_level': 1015, 'grnd_level': 910}, 'visibility': 10000, 'wind': {'speed': 2.93, 'deg': 92, 'gust': 2.68}, 'clouds': {'all': 1}, 'dt': 1619214718, 'sys': {'country': 'BR', 'sunrise': 1619171151, 'sunset': 1619211608}, 'timezone': -10800, 'id': 3467677, 'name': 'Campos Novos', 'cod': 200}\n",
      "[-21.2, 77.484, -28.7323, 39.4242, -46.6, -53.15, -33.5906, 42.097, -34.5833, -23.1203, -34.7333, -30.1811, 71.2906, -0.7393, -2.6741, 65.6145, 71.6872, -34.4187, -40.8135, -27.4017]\n",
      "[-175.2, -69.3632, 24.7623, 29.9833, 168.3333, -70.9167, 26.891, -79.2353, 150.8552, -134.9692, 135.8667, -50.2056, -156.7887, -90.3518, 141.3028, -37.6368, 128.8694, 19.2345, -62.9967, -51.225]\n",
      "[82.4, 22.28, 53.6, 53.6, 46, 46.4, 66.43, 55.4, 54, 79.11, 59.4, 70.59, 19.4, 84.2, 78.82, 37.4, 7.45, 57, 63.61, 57.36]\n",
      "[83, 83, 54, 62, 94, 93, 72, 30, 75, 68, 73, 78, 79, 70, 86, 48, 94, 87, 52, 55]\n",
      "[20, 100, 0, 0, 82, 75, 0, 1, 89, 100, 78, 2, 1, 20, 100, 75, 98, 98, 44, 1]\n",
      "[3.44, 4.63, 8.05, 10.36, 16.17, 3.44, 21.41, 17.27, 1.01, 17.56, 4.07, 18.07, 3.44, 17.27, 3.02, 4.61, 7.36, 1.99, 8.39, 2.93]\n",
      "['Vaini', 'Qaanaaq', 'Kimberley', 'Kütahya', 'Bluff', 'Punta Arenas', 'Port Alfred', 'Jamestown', 'Flinders', 'Rikitea', 'Port Lincoln', 'Cidreira', 'Barrow', 'Puerto Ayora', 'Vanimo', 'Tasiilaq', 'Tiksi', 'Hermanus', 'Viedma', 'Campos Novos']\n",
      "5\n",
      "4\n"
     ]
    }
   ],
   "source": [
    "base_url = \"http://api.openweathermap.org/data/2.5/weather?q=\"\n",
    "\n",
    "counter = 0\n",
    "batch_counter = 1\n",
    "record_counter = 1\n",
    "\n",
    "max_cities = 24\n",
    "max_temp = []\n",
    "lat = []\n",
    "lon = []\n",
    "humidity = []\n",
    "cloudy = []\n",
    "wind_speed = []\n",
    "city_name = []\n",
    "country = []\n",
    "date = []\n",
    "\n",
    "for city in cities:\n",
    "    query_url = f\"{base_url}{city}&appid={weather_api_key}&units=imperial\"\n",
    "    if len(city_name) < max_cities:\n",
    "        if counter < 5:\n",
    "            try:      \n",
    "                response = requests.get(query_url)\n",
    "                response_json = response.json()     \n",
    "\n",
    "                if city not in city_name:                    \n",
    "                    city_name.append(response_json[\"name\"])\n",
    "                    country.append(response_json[\"sys\"][\"country\"])\n",
    "                    lat.append(response_json[\"coord\"][\"lat\"])\n",
    "                    lon.append(response_json[\"coord\"][\"lon\"])  \n",
    "                    date.append(response_json[\"dt\"])\n",
    "                    try:\n",
    "                        max_temp.append(response_json[\"main\"][\"temp_max\"])\n",
    "                    except:\n",
    "                        print(\"This {city} has no information on temperature\")\n",
    "                        pass\n",
    "                    try:\n",
    "                        humidity.append(response_json[\"main\"][\"humidity\"])\n",
    "                    except:\n",
    "                        print(\"This {city} has no information on humidity\")\n",
    "                        pass\n",
    "                    try:\n",
    "                        cloudy.append(response_json['clouds'][\"all\"])\n",
    "                    except:\n",
    "                        print(\"This {city} has no information on cloudiness\")\n",
    "                        pass                        \n",
    "                    try:\n",
    "                        wind_speed.append(response_json[\"wind\"][\"speed\"])\n",
    "                    except:\n",
    "                        print(\"This {city} has no information on wind speed\")\n",
    "                        pass \n",
    "\n",
    "                print(f\"Processing Record {record_counter} for Set{batch_counter}:|{city}\")\n",
    "                counter += 1\n",
    "                record_counter += 1\n",
    "            except:\n",
    "                print(f\"City not found....skipping\")\n",
    "                pass\n",
    "        else:\n",
    "            counter = 0\n",
    "            batch_counter += 1\n",
    "            time.sleep(20)\n",
    "\n",
    "print(response_json)\n",
    "print(lat)\n",
    "print(lon)\n",
    "print(max_temp)\n",
    "print(humidity)\n",
    "print(cloudy)\n",
    "print(wind_speed)\n",
    "print(city_name)\n",
    "print(counter)\n",
    "print(batch_counter)\n"
   ]
  },
  {
   "cell_type": "markdown",
   "metadata": {},
   "source": [
    "### Convert Raw Data to DataFrame\n",
    "* Export the city data into a .csv.\n",
    "* Display the DataFrame"
   ]
  },
  {
   "cell_type": "code",
   "execution_count": 15,
   "metadata": {},
   "outputs": [
    {
     "data": {
      "text/html": [
       "<div>\n",
       "<style scoped>\n",
       "    .dataframe tbody tr th:only-of-type {\n",
       "        vertical-align: middle;\n",
       "    }\n",
       "\n",
       "    .dataframe tbody tr th {\n",
       "        vertical-align: top;\n",
       "    }\n",
       "\n",
       "    .dataframe thead th {\n",
       "        text-align: right;\n",
       "    }\n",
       "</style>\n",
       "<table border=\"1\" class=\"dataframe\">\n",
       "  <thead>\n",
       "    <tr style=\"text-align: right;\">\n",
       "      <th></th>\n",
       "      <th>City</th>\n",
       "      <th>Lat</th>\n",
       "      <th>Lng</th>\n",
       "      <th>Max Temp</th>\n",
       "      <th>Humidity</th>\n",
       "      <th>Cloudiness</th>\n",
       "      <th>Wind Speed</th>\n",
       "      <th>Country</th>\n",
       "      <th>Date</th>\n",
       "    </tr>\n",
       "  </thead>\n",
       "  <tbody>\n",
       "    <tr>\n",
       "      <th>0</th>\n",
       "      <td>Vaini</td>\n",
       "      <td>-21.2000</td>\n",
       "      <td>-175.2000</td>\n",
       "      <td>82.40</td>\n",
       "      <td>83</td>\n",
       "      <td>20</td>\n",
       "      <td>3.44</td>\n",
       "      <td>TO</td>\n",
       "      <td>1619214654</td>\n",
       "    </tr>\n",
       "    <tr>\n",
       "      <th>1</th>\n",
       "      <td>Qaanaaq</td>\n",
       "      <td>77.4840</td>\n",
       "      <td>-69.3632</td>\n",
       "      <td>22.28</td>\n",
       "      <td>83</td>\n",
       "      <td>100</td>\n",
       "      <td>4.63</td>\n",
       "      <td>GL</td>\n",
       "      <td>1619214490</td>\n",
       "    </tr>\n",
       "    <tr>\n",
       "      <th>2</th>\n",
       "      <td>Kimberley</td>\n",
       "      <td>-28.7323</td>\n",
       "      <td>24.7623</td>\n",
       "      <td>53.60</td>\n",
       "      <td>54</td>\n",
       "      <td>0</td>\n",
       "      <td>8.05</td>\n",
       "      <td>ZA</td>\n",
       "      <td>1619214654</td>\n",
       "    </tr>\n",
       "    <tr>\n",
       "      <th>3</th>\n",
       "      <td>Kütahya</td>\n",
       "      <td>39.4242</td>\n",
       "      <td>29.9833</td>\n",
       "      <td>53.60</td>\n",
       "      <td>62</td>\n",
       "      <td>0</td>\n",
       "      <td>10.36</td>\n",
       "      <td>TR</td>\n",
       "      <td>1619214654</td>\n",
       "    </tr>\n",
       "    <tr>\n",
       "      <th>4</th>\n",
       "      <td>Bluff</td>\n",
       "      <td>-46.6000</td>\n",
       "      <td>168.3333</td>\n",
       "      <td>46.00</td>\n",
       "      <td>94</td>\n",
       "      <td>82</td>\n",
       "      <td>16.17</td>\n",
       "      <td>NZ</td>\n",
       "      <td>1619214655</td>\n",
       "    </tr>\n",
       "    <tr>\n",
       "      <th>5</th>\n",
       "      <td>Punta Arenas</td>\n",
       "      <td>-53.1500</td>\n",
       "      <td>-70.9167</td>\n",
       "      <td>46.40</td>\n",
       "      <td>93</td>\n",
       "      <td>75</td>\n",
       "      <td>3.44</td>\n",
       "      <td>CL</td>\n",
       "      <td>1619214675</td>\n",
       "    </tr>\n",
       "    <tr>\n",
       "      <th>6</th>\n",
       "      <td>Port Alfred</td>\n",
       "      <td>-33.5906</td>\n",
       "      <td>26.8910</td>\n",
       "      <td>66.43</td>\n",
       "      <td>72</td>\n",
       "      <td>0</td>\n",
       "      <td>21.41</td>\n",
       "      <td>ZA</td>\n",
       "      <td>1619214232</td>\n",
       "    </tr>\n",
       "    <tr>\n",
       "      <th>7</th>\n",
       "      <td>Jamestown</td>\n",
       "      <td>42.0970</td>\n",
       "      <td>-79.2353</td>\n",
       "      <td>55.40</td>\n",
       "      <td>30</td>\n",
       "      <td>1</td>\n",
       "      <td>17.27</td>\n",
       "      <td>US</td>\n",
       "      <td>1619214453</td>\n",
       "    </tr>\n",
       "    <tr>\n",
       "      <th>8</th>\n",
       "      <td>Flinders</td>\n",
       "      <td>-34.5833</td>\n",
       "      <td>150.8552</td>\n",
       "      <td>54.00</td>\n",
       "      <td>75</td>\n",
       "      <td>89</td>\n",
       "      <td>1.01</td>\n",
       "      <td>AU</td>\n",
       "      <td>1619214328</td>\n",
       "    </tr>\n",
       "    <tr>\n",
       "      <th>9</th>\n",
       "      <td>Rikitea</td>\n",
       "      <td>-23.1203</td>\n",
       "      <td>-134.9692</td>\n",
       "      <td>79.11</td>\n",
       "      <td>68</td>\n",
       "      <td>100</td>\n",
       "      <td>17.56</td>\n",
       "      <td>PF</td>\n",
       "      <td>1619214675</td>\n",
       "    </tr>\n",
       "    <tr>\n",
       "      <th>10</th>\n",
       "      <td>Port Lincoln</td>\n",
       "      <td>-34.7333</td>\n",
       "      <td>135.8667</td>\n",
       "      <td>59.40</td>\n",
       "      <td>73</td>\n",
       "      <td>78</td>\n",
       "      <td>4.07</td>\n",
       "      <td>AU</td>\n",
       "      <td>1619214696</td>\n",
       "    </tr>\n",
       "    <tr>\n",
       "      <th>11</th>\n",
       "      <td>Cidreira</td>\n",
       "      <td>-30.1811</td>\n",
       "      <td>-50.2056</td>\n",
       "      <td>70.59</td>\n",
       "      <td>78</td>\n",
       "      <td>2</td>\n",
       "      <td>18.07</td>\n",
       "      <td>BR</td>\n",
       "      <td>1619214206</td>\n",
       "    </tr>\n",
       "    <tr>\n",
       "      <th>12</th>\n",
       "      <td>Barrow</td>\n",
       "      <td>71.2906</td>\n",
       "      <td>-156.7887</td>\n",
       "      <td>19.40</td>\n",
       "      <td>79</td>\n",
       "      <td>1</td>\n",
       "      <td>3.44</td>\n",
       "      <td>US</td>\n",
       "      <td>1619214696</td>\n",
       "    </tr>\n",
       "    <tr>\n",
       "      <th>13</th>\n",
       "      <td>Puerto Ayora</td>\n",
       "      <td>-0.7393</td>\n",
       "      <td>-90.3518</td>\n",
       "      <td>84.20</td>\n",
       "      <td>70</td>\n",
       "      <td>20</td>\n",
       "      <td>17.27</td>\n",
       "      <td>EC</td>\n",
       "      <td>1619214696</td>\n",
       "    </tr>\n",
       "    <tr>\n",
       "      <th>14</th>\n",
       "      <td>Vanimo</td>\n",
       "      <td>-2.6741</td>\n",
       "      <td>141.3028</td>\n",
       "      <td>78.82</td>\n",
       "      <td>86</td>\n",
       "      <td>100</td>\n",
       "      <td>3.02</td>\n",
       "      <td>PG</td>\n",
       "      <td>1619214655</td>\n",
       "    </tr>\n",
       "    <tr>\n",
       "      <th>15</th>\n",
       "      <td>Tasiilaq</td>\n",
       "      <td>65.6145</td>\n",
       "      <td>-37.6368</td>\n",
       "      <td>37.40</td>\n",
       "      <td>48</td>\n",
       "      <td>75</td>\n",
       "      <td>4.61</td>\n",
       "      <td>GL</td>\n",
       "      <td>1619214717</td>\n",
       "    </tr>\n",
       "    <tr>\n",
       "      <th>16</th>\n",
       "      <td>Tiksi</td>\n",
       "      <td>71.6872</td>\n",
       "      <td>128.8694</td>\n",
       "      <td>7.45</td>\n",
       "      <td>94</td>\n",
       "      <td>98</td>\n",
       "      <td>7.36</td>\n",
       "      <td>RU</td>\n",
       "      <td>1619214508</td>\n",
       "    </tr>\n",
       "    <tr>\n",
       "      <th>17</th>\n",
       "      <td>Hermanus</td>\n",
       "      <td>-34.4187</td>\n",
       "      <td>19.2345</td>\n",
       "      <td>57.00</td>\n",
       "      <td>87</td>\n",
       "      <td>98</td>\n",
       "      <td>1.99</td>\n",
       "      <td>ZA</td>\n",
       "      <td>1619214717</td>\n",
       "    </tr>\n",
       "    <tr>\n",
       "      <th>18</th>\n",
       "      <td>Viedma</td>\n",
       "      <td>-40.8135</td>\n",
       "      <td>-62.9967</td>\n",
       "      <td>63.61</td>\n",
       "      <td>52</td>\n",
       "      <td>44</td>\n",
       "      <td>8.39</td>\n",
       "      <td>AR</td>\n",
       "      <td>1619214598</td>\n",
       "    </tr>\n",
       "    <tr>\n",
       "      <th>19</th>\n",
       "      <td>Campos Novos</td>\n",
       "      <td>-27.4017</td>\n",
       "      <td>-51.2250</td>\n",
       "      <td>57.36</td>\n",
       "      <td>55</td>\n",
       "      <td>1</td>\n",
       "      <td>2.93</td>\n",
       "      <td>BR</td>\n",
       "      <td>1619214718</td>\n",
       "    </tr>\n",
       "  </tbody>\n",
       "</table>\n",
       "</div>"
      ],
      "text/plain": [
       "            City      Lat       Lng  Max Temp  Humidity  Cloudiness  \\\n",
       "0          Vaini -21.2000 -175.2000     82.40        83          20   \n",
       "1        Qaanaaq  77.4840  -69.3632     22.28        83         100   \n",
       "2      Kimberley -28.7323   24.7623     53.60        54           0   \n",
       "3        Kütahya  39.4242   29.9833     53.60        62           0   \n",
       "4          Bluff -46.6000  168.3333     46.00        94          82   \n",
       "5   Punta Arenas -53.1500  -70.9167     46.40        93          75   \n",
       "6    Port Alfred -33.5906   26.8910     66.43        72           0   \n",
       "7      Jamestown  42.0970  -79.2353     55.40        30           1   \n",
       "8       Flinders -34.5833  150.8552     54.00        75          89   \n",
       "9        Rikitea -23.1203 -134.9692     79.11        68         100   \n",
       "10  Port Lincoln -34.7333  135.8667     59.40        73          78   \n",
       "11      Cidreira -30.1811  -50.2056     70.59        78           2   \n",
       "12        Barrow  71.2906 -156.7887     19.40        79           1   \n",
       "13  Puerto Ayora  -0.7393  -90.3518     84.20        70          20   \n",
       "14        Vanimo  -2.6741  141.3028     78.82        86         100   \n",
       "15      Tasiilaq  65.6145  -37.6368     37.40        48          75   \n",
       "16         Tiksi  71.6872  128.8694      7.45        94          98   \n",
       "17      Hermanus -34.4187   19.2345     57.00        87          98   \n",
       "18        Viedma -40.8135  -62.9967     63.61        52          44   \n",
       "19  Campos Novos -27.4017  -51.2250     57.36        55           1   \n",
       "\n",
       "    Wind Speed Country        Date  \n",
       "0         3.44      TO  1619214654  \n",
       "1         4.63      GL  1619214490  \n",
       "2         8.05      ZA  1619214654  \n",
       "3        10.36      TR  1619214654  \n",
       "4        16.17      NZ  1619214655  \n",
       "5         3.44      CL  1619214675  \n",
       "6        21.41      ZA  1619214232  \n",
       "7        17.27      US  1619214453  \n",
       "8         1.01      AU  1619214328  \n",
       "9        17.56      PF  1619214675  \n",
       "10        4.07      AU  1619214696  \n",
       "11       18.07      BR  1619214206  \n",
       "12        3.44      US  1619214696  \n",
       "13       17.27      EC  1619214696  \n",
       "14        3.02      PG  1619214655  \n",
       "15        4.61      GL  1619214717  \n",
       "16        7.36      RU  1619214508  \n",
       "17        1.99      ZA  1619214717  \n",
       "18        8.39      AR  1619214598  \n",
       "19        2.93      BR  1619214718  "
      ]
     },
     "execution_count": 15,
     "metadata": {},
     "output_type": "execute_result"
    }
   ],
   "source": [
    "city_group = {\"City\":city_name,\n",
    "             \"Lat\":lat,\n",
    "             \"Lng\":lon,\n",
    "             \"Max Temp\": max_temp,\n",
    "             \"Humidity\": humidity,\n",
    "             \"Cloudiness\": cloudy,\n",
    "             \"Wind Speed\": wind_speed,\n",
    "             \"Country\": country,\n",
    "             \"Date\": date}\n",
    "\n",
    "city_df = pd.DataFrame(city_group)\n",
    "city_df.to_csv(output_data_file)\n",
    "city_df"
   ]
  },
  {
   "cell_type": "code",
   "execution_count": 16,
   "metadata": {},
   "outputs": [
    {
     "data": {
      "text/html": [
       "<div>\n",
       "<style scoped>\n",
       "    .dataframe tbody tr th:only-of-type {\n",
       "        vertical-align: middle;\n",
       "    }\n",
       "\n",
       "    .dataframe tbody tr th {\n",
       "        vertical-align: top;\n",
       "    }\n",
       "\n",
       "    .dataframe thead th {\n",
       "        text-align: right;\n",
       "    }\n",
       "</style>\n",
       "<table border=\"1\" class=\"dataframe\">\n",
       "  <thead>\n",
       "    <tr style=\"text-align: right;\">\n",
       "      <th></th>\n",
       "      <th>Lat</th>\n",
       "      <th>Lng</th>\n",
       "      <th>Max Temp</th>\n",
       "      <th>Humidity</th>\n",
       "      <th>Cloudiness</th>\n",
       "      <th>Wind Speed</th>\n",
       "      <th>Date</th>\n",
       "    </tr>\n",
       "  </thead>\n",
       "  <tbody>\n",
       "    <tr>\n",
       "      <th>count</th>\n",
       "      <td>20.000000</td>\n",
       "      <td>20.000000</td>\n",
       "      <td>20.000000</td>\n",
       "      <td>20.000000</td>\n",
       "      <td>20.000000</td>\n",
       "      <td>20.00000</td>\n",
       "      <td>2.000000e+01</td>\n",
       "    </tr>\n",
       "    <tr>\n",
       "      <th>mean</th>\n",
       "      <td>-2.217035</td>\n",
       "      <td>-7.639525</td>\n",
       "      <td>54.722500</td>\n",
       "      <td>71.800000</td>\n",
       "      <td>49.200000</td>\n",
       "      <td>8.72450</td>\n",
       "      <td>1.619215e+09</td>\n",
       "    </tr>\n",
       "    <tr>\n",
       "      <th>std</th>\n",
       "      <td>45.081882</td>\n",
       "      <td>106.591009</td>\n",
       "      <td>20.895807</td>\n",
       "      <td>17.227884</td>\n",
       "      <td>43.235706</td>\n",
       "      <td>6.66111</td>\n",
       "      <td>1.616693e+02</td>\n",
       "    </tr>\n",
       "    <tr>\n",
       "      <th>min</th>\n",
       "      <td>-53.150000</td>\n",
       "      <td>-175.200000</td>\n",
       "      <td>7.450000</td>\n",
       "      <td>30.000000</td>\n",
       "      <td>0.000000</td>\n",
       "      <td>1.01000</td>\n",
       "      <td>1.619214e+09</td>\n",
       "    </tr>\n",
       "    <tr>\n",
       "      <th>25%</th>\n",
       "      <td>-34.459850</td>\n",
       "      <td>-72.996350</td>\n",
       "      <td>46.300000</td>\n",
       "      <td>60.250000</td>\n",
       "      <td>1.000000</td>\n",
       "      <td>3.44000</td>\n",
       "      <td>1.619215e+09</td>\n",
       "    </tr>\n",
       "    <tr>\n",
       "      <th>50%</th>\n",
       "      <td>-25.261000</td>\n",
       "      <td>-43.921200</td>\n",
       "      <td>56.200000</td>\n",
       "      <td>74.000000</td>\n",
       "      <td>59.500000</td>\n",
       "      <td>5.99500</td>\n",
       "      <td>1.619215e+09</td>\n",
       "    </tr>\n",
       "    <tr>\n",
       "      <th>75%</th>\n",
       "      <td>40.092400</td>\n",
       "      <td>54.704825</td>\n",
       "      <td>67.470000</td>\n",
       "      <td>83.750000</td>\n",
       "      <td>91.250000</td>\n",
       "      <td>16.44500</td>\n",
       "      <td>1.619215e+09</td>\n",
       "    </tr>\n",
       "    <tr>\n",
       "      <th>max</th>\n",
       "      <td>77.484000</td>\n",
       "      <td>168.333300</td>\n",
       "      <td>84.200000</td>\n",
       "      <td>94.000000</td>\n",
       "      <td>100.000000</td>\n",
       "      <td>21.41000</td>\n",
       "      <td>1.619215e+09</td>\n",
       "    </tr>\n",
       "  </tbody>\n",
       "</table>\n",
       "</div>"
      ],
      "text/plain": [
       "             Lat         Lng   Max Temp   Humidity  Cloudiness  Wind Speed  \\\n",
       "count  20.000000   20.000000  20.000000  20.000000   20.000000    20.00000   \n",
       "mean   -2.217035   -7.639525  54.722500  71.800000   49.200000     8.72450   \n",
       "std    45.081882  106.591009  20.895807  17.227884   43.235706     6.66111   \n",
       "min   -53.150000 -175.200000   7.450000  30.000000    0.000000     1.01000   \n",
       "25%   -34.459850  -72.996350  46.300000  60.250000    1.000000     3.44000   \n",
       "50%   -25.261000  -43.921200  56.200000  74.000000   59.500000     5.99500   \n",
       "75%    40.092400   54.704825  67.470000  83.750000   91.250000    16.44500   \n",
       "max    77.484000  168.333300  84.200000  94.000000  100.000000    21.41000   \n",
       "\n",
       "               Date  \n",
       "count  2.000000e+01  \n",
       "mean   1.619215e+09  \n",
       "std    1.616693e+02  \n",
       "min    1.619214e+09  \n",
       "25%    1.619215e+09  \n",
       "50%    1.619215e+09  \n",
       "75%    1.619215e+09  \n",
       "max    1.619215e+09  "
      ]
     },
     "execution_count": 16,
     "metadata": {},
     "output_type": "execute_result"
    }
   ],
   "source": [
    "city_df.describe()"
   ]
  },
  {
   "cell_type": "markdown",
   "metadata": {},
   "source": [
    "## Inspect the data and remove the cities where the humidity > 100%.\n",
    "----\n",
    "Skip this step if there are no cities that have humidity > 100%. "
   ]
  },
  {
   "cell_type": "code",
   "execution_count": 17,
   "metadata": {},
   "outputs": [
    {
     "data": {
      "text/html": [
       "<div>\n",
       "<style scoped>\n",
       "    .dataframe tbody tr th:only-of-type {\n",
       "        vertical-align: middle;\n",
       "    }\n",
       "\n",
       "    .dataframe tbody tr th {\n",
       "        vertical-align: top;\n",
       "    }\n",
       "\n",
       "    .dataframe thead th {\n",
       "        text-align: right;\n",
       "    }\n",
       "</style>\n",
       "<table border=\"1\" class=\"dataframe\">\n",
       "  <thead>\n",
       "    <tr style=\"text-align: right;\">\n",
       "      <th></th>\n",
       "      <th>City</th>\n",
       "      <th>Lat</th>\n",
       "      <th>Lng</th>\n",
       "      <th>Max Temp</th>\n",
       "      <th>Humidity</th>\n",
       "      <th>Cloudiness</th>\n",
       "      <th>Wind Speed</th>\n",
       "      <th>Country</th>\n",
       "      <th>Date</th>\n",
       "    </tr>\n",
       "  </thead>\n",
       "  <tbody>\n",
       "  </tbody>\n",
       "</table>\n",
       "</div>"
      ],
      "text/plain": [
       "Empty DataFrame\n",
       "Columns: [City, Lat, Lng, Max Temp, Humidity, Cloudiness, Wind Speed, Country, Date]\n",
       "Index: []"
      ]
     },
     "execution_count": 17,
     "metadata": {},
     "output_type": "execute_result"
    }
   ],
   "source": [
    "high_humidity = city_df.loc[city_df[\"Humidity\"] > 100,:]    \n",
    "high_humidity"
   ]
  },
  {
   "cell_type": "code",
   "execution_count": 18,
   "metadata": {},
   "outputs": [
    {
     "data": {
      "text/plain": [
       "Int64Index([], dtype='int64')"
      ]
     },
     "execution_count": 18,
     "metadata": {},
     "output_type": "execute_result"
    }
   ],
   "source": [
    "#  Get the indices of cities that have humidity over 100%.\n",
    "high_humidity.index"
   ]
  },
  {
   "cell_type": "code",
   "execution_count": 19,
   "metadata": {},
   "outputs": [
    {
     "data": {
      "text/html": [
       "<div>\n",
       "<style scoped>\n",
       "    .dataframe tbody tr th:only-of-type {\n",
       "        vertical-align: middle;\n",
       "    }\n",
       "\n",
       "    .dataframe tbody tr th {\n",
       "        vertical-align: top;\n",
       "    }\n",
       "\n",
       "    .dataframe thead th {\n",
       "        text-align: right;\n",
       "    }\n",
       "</style>\n",
       "<table border=\"1\" class=\"dataframe\">\n",
       "  <thead>\n",
       "    <tr style=\"text-align: right;\">\n",
       "      <th></th>\n",
       "      <th>City</th>\n",
       "      <th>Lat</th>\n",
       "      <th>Lng</th>\n",
       "      <th>Max Temp</th>\n",
       "      <th>Humidity</th>\n",
       "      <th>Cloudiness</th>\n",
       "      <th>Wind Speed</th>\n",
       "      <th>Country</th>\n",
       "      <th>Date</th>\n",
       "    </tr>\n",
       "  </thead>\n",
       "  <tbody>\n",
       "    <tr>\n",
       "      <th>0</th>\n",
       "      <td>Vaini</td>\n",
       "      <td>-21.2000</td>\n",
       "      <td>-175.2000</td>\n",
       "      <td>82.40</td>\n",
       "      <td>83</td>\n",
       "      <td>20</td>\n",
       "      <td>3.44</td>\n",
       "      <td>TO</td>\n",
       "      <td>1619214654</td>\n",
       "    </tr>\n",
       "    <tr>\n",
       "      <th>1</th>\n",
       "      <td>Qaanaaq</td>\n",
       "      <td>77.4840</td>\n",
       "      <td>-69.3632</td>\n",
       "      <td>22.28</td>\n",
       "      <td>83</td>\n",
       "      <td>100</td>\n",
       "      <td>4.63</td>\n",
       "      <td>GL</td>\n",
       "      <td>1619214490</td>\n",
       "    </tr>\n",
       "    <tr>\n",
       "      <th>2</th>\n",
       "      <td>Kimberley</td>\n",
       "      <td>-28.7323</td>\n",
       "      <td>24.7623</td>\n",
       "      <td>53.60</td>\n",
       "      <td>54</td>\n",
       "      <td>0</td>\n",
       "      <td>8.05</td>\n",
       "      <td>ZA</td>\n",
       "      <td>1619214654</td>\n",
       "    </tr>\n",
       "    <tr>\n",
       "      <th>3</th>\n",
       "      <td>Kütahya</td>\n",
       "      <td>39.4242</td>\n",
       "      <td>29.9833</td>\n",
       "      <td>53.60</td>\n",
       "      <td>62</td>\n",
       "      <td>0</td>\n",
       "      <td>10.36</td>\n",
       "      <td>TR</td>\n",
       "      <td>1619214654</td>\n",
       "    </tr>\n",
       "    <tr>\n",
       "      <th>4</th>\n",
       "      <td>Bluff</td>\n",
       "      <td>-46.6000</td>\n",
       "      <td>168.3333</td>\n",
       "      <td>46.00</td>\n",
       "      <td>94</td>\n",
       "      <td>82</td>\n",
       "      <td>16.17</td>\n",
       "      <td>NZ</td>\n",
       "      <td>1619214655</td>\n",
       "    </tr>\n",
       "    <tr>\n",
       "      <th>5</th>\n",
       "      <td>Punta Arenas</td>\n",
       "      <td>-53.1500</td>\n",
       "      <td>-70.9167</td>\n",
       "      <td>46.40</td>\n",
       "      <td>93</td>\n",
       "      <td>75</td>\n",
       "      <td>3.44</td>\n",
       "      <td>CL</td>\n",
       "      <td>1619214675</td>\n",
       "    </tr>\n",
       "    <tr>\n",
       "      <th>6</th>\n",
       "      <td>Port Alfred</td>\n",
       "      <td>-33.5906</td>\n",
       "      <td>26.8910</td>\n",
       "      <td>66.43</td>\n",
       "      <td>72</td>\n",
       "      <td>0</td>\n",
       "      <td>21.41</td>\n",
       "      <td>ZA</td>\n",
       "      <td>1619214232</td>\n",
       "    </tr>\n",
       "    <tr>\n",
       "      <th>7</th>\n",
       "      <td>Jamestown</td>\n",
       "      <td>42.0970</td>\n",
       "      <td>-79.2353</td>\n",
       "      <td>55.40</td>\n",
       "      <td>30</td>\n",
       "      <td>1</td>\n",
       "      <td>17.27</td>\n",
       "      <td>US</td>\n",
       "      <td>1619214453</td>\n",
       "    </tr>\n",
       "    <tr>\n",
       "      <th>8</th>\n",
       "      <td>Flinders</td>\n",
       "      <td>-34.5833</td>\n",
       "      <td>150.8552</td>\n",
       "      <td>54.00</td>\n",
       "      <td>75</td>\n",
       "      <td>89</td>\n",
       "      <td>1.01</td>\n",
       "      <td>AU</td>\n",
       "      <td>1619214328</td>\n",
       "    </tr>\n",
       "    <tr>\n",
       "      <th>9</th>\n",
       "      <td>Rikitea</td>\n",
       "      <td>-23.1203</td>\n",
       "      <td>-134.9692</td>\n",
       "      <td>79.11</td>\n",
       "      <td>68</td>\n",
       "      <td>100</td>\n",
       "      <td>17.56</td>\n",
       "      <td>PF</td>\n",
       "      <td>1619214675</td>\n",
       "    </tr>\n",
       "    <tr>\n",
       "      <th>10</th>\n",
       "      <td>Port Lincoln</td>\n",
       "      <td>-34.7333</td>\n",
       "      <td>135.8667</td>\n",
       "      <td>59.40</td>\n",
       "      <td>73</td>\n",
       "      <td>78</td>\n",
       "      <td>4.07</td>\n",
       "      <td>AU</td>\n",
       "      <td>1619214696</td>\n",
       "    </tr>\n",
       "    <tr>\n",
       "      <th>11</th>\n",
       "      <td>Cidreira</td>\n",
       "      <td>-30.1811</td>\n",
       "      <td>-50.2056</td>\n",
       "      <td>70.59</td>\n",
       "      <td>78</td>\n",
       "      <td>2</td>\n",
       "      <td>18.07</td>\n",
       "      <td>BR</td>\n",
       "      <td>1619214206</td>\n",
       "    </tr>\n",
       "    <tr>\n",
       "      <th>12</th>\n",
       "      <td>Barrow</td>\n",
       "      <td>71.2906</td>\n",
       "      <td>-156.7887</td>\n",
       "      <td>19.40</td>\n",
       "      <td>79</td>\n",
       "      <td>1</td>\n",
       "      <td>3.44</td>\n",
       "      <td>US</td>\n",
       "      <td>1619214696</td>\n",
       "    </tr>\n",
       "    <tr>\n",
       "      <th>13</th>\n",
       "      <td>Puerto Ayora</td>\n",
       "      <td>-0.7393</td>\n",
       "      <td>-90.3518</td>\n",
       "      <td>84.20</td>\n",
       "      <td>70</td>\n",
       "      <td>20</td>\n",
       "      <td>17.27</td>\n",
       "      <td>EC</td>\n",
       "      <td>1619214696</td>\n",
       "    </tr>\n",
       "    <tr>\n",
       "      <th>14</th>\n",
       "      <td>Vanimo</td>\n",
       "      <td>-2.6741</td>\n",
       "      <td>141.3028</td>\n",
       "      <td>78.82</td>\n",
       "      <td>86</td>\n",
       "      <td>100</td>\n",
       "      <td>3.02</td>\n",
       "      <td>PG</td>\n",
       "      <td>1619214655</td>\n",
       "    </tr>\n",
       "    <tr>\n",
       "      <th>15</th>\n",
       "      <td>Tasiilaq</td>\n",
       "      <td>65.6145</td>\n",
       "      <td>-37.6368</td>\n",
       "      <td>37.40</td>\n",
       "      <td>48</td>\n",
       "      <td>75</td>\n",
       "      <td>4.61</td>\n",
       "      <td>GL</td>\n",
       "      <td>1619214717</td>\n",
       "    </tr>\n",
       "    <tr>\n",
       "      <th>16</th>\n",
       "      <td>Tiksi</td>\n",
       "      <td>71.6872</td>\n",
       "      <td>128.8694</td>\n",
       "      <td>7.45</td>\n",
       "      <td>94</td>\n",
       "      <td>98</td>\n",
       "      <td>7.36</td>\n",
       "      <td>RU</td>\n",
       "      <td>1619214508</td>\n",
       "    </tr>\n",
       "    <tr>\n",
       "      <th>17</th>\n",
       "      <td>Hermanus</td>\n",
       "      <td>-34.4187</td>\n",
       "      <td>19.2345</td>\n",
       "      <td>57.00</td>\n",
       "      <td>87</td>\n",
       "      <td>98</td>\n",
       "      <td>1.99</td>\n",
       "      <td>ZA</td>\n",
       "      <td>1619214717</td>\n",
       "    </tr>\n",
       "    <tr>\n",
       "      <th>18</th>\n",
       "      <td>Viedma</td>\n",
       "      <td>-40.8135</td>\n",
       "      <td>-62.9967</td>\n",
       "      <td>63.61</td>\n",
       "      <td>52</td>\n",
       "      <td>44</td>\n",
       "      <td>8.39</td>\n",
       "      <td>AR</td>\n",
       "      <td>1619214598</td>\n",
       "    </tr>\n",
       "    <tr>\n",
       "      <th>19</th>\n",
       "      <td>Campos Novos</td>\n",
       "      <td>-27.4017</td>\n",
       "      <td>-51.2250</td>\n",
       "      <td>57.36</td>\n",
       "      <td>55</td>\n",
       "      <td>1</td>\n",
       "      <td>2.93</td>\n",
       "      <td>BR</td>\n",
       "      <td>1619214718</td>\n",
       "    </tr>\n",
       "  </tbody>\n",
       "</table>\n",
       "</div>"
      ],
      "text/plain": [
       "            City      Lat       Lng  Max Temp  Humidity  Cloudiness  \\\n",
       "0          Vaini -21.2000 -175.2000     82.40        83          20   \n",
       "1        Qaanaaq  77.4840  -69.3632     22.28        83         100   \n",
       "2      Kimberley -28.7323   24.7623     53.60        54           0   \n",
       "3        Kütahya  39.4242   29.9833     53.60        62           0   \n",
       "4          Bluff -46.6000  168.3333     46.00        94          82   \n",
       "5   Punta Arenas -53.1500  -70.9167     46.40        93          75   \n",
       "6    Port Alfred -33.5906   26.8910     66.43        72           0   \n",
       "7      Jamestown  42.0970  -79.2353     55.40        30           1   \n",
       "8       Flinders -34.5833  150.8552     54.00        75          89   \n",
       "9        Rikitea -23.1203 -134.9692     79.11        68         100   \n",
       "10  Port Lincoln -34.7333  135.8667     59.40        73          78   \n",
       "11      Cidreira -30.1811  -50.2056     70.59        78           2   \n",
       "12        Barrow  71.2906 -156.7887     19.40        79           1   \n",
       "13  Puerto Ayora  -0.7393  -90.3518     84.20        70          20   \n",
       "14        Vanimo  -2.6741  141.3028     78.82        86         100   \n",
       "15      Tasiilaq  65.6145  -37.6368     37.40        48          75   \n",
       "16         Tiksi  71.6872  128.8694      7.45        94          98   \n",
       "17      Hermanus -34.4187   19.2345     57.00        87          98   \n",
       "18        Viedma -40.8135  -62.9967     63.61        52          44   \n",
       "19  Campos Novos -27.4017  -51.2250     57.36        55           1   \n",
       "\n",
       "    Wind Speed Country        Date  \n",
       "0         3.44      TO  1619214654  \n",
       "1         4.63      GL  1619214490  \n",
       "2         8.05      ZA  1619214654  \n",
       "3        10.36      TR  1619214654  \n",
       "4        16.17      NZ  1619214655  \n",
       "5         3.44      CL  1619214675  \n",
       "6        21.41      ZA  1619214232  \n",
       "7        17.27      US  1619214453  \n",
       "8         1.01      AU  1619214328  \n",
       "9        17.56      PF  1619214675  \n",
       "10        4.07      AU  1619214696  \n",
       "11       18.07      BR  1619214206  \n",
       "12        3.44      US  1619214696  \n",
       "13       17.27      EC  1619214696  \n",
       "14        3.02      PG  1619214655  \n",
       "15        4.61      GL  1619214717  \n",
       "16        7.36      RU  1619214508  \n",
       "17        1.99      ZA  1619214717  \n",
       "18        8.39      AR  1619214598  \n",
       "19        2.93      BR  1619214718  "
      ]
     },
     "execution_count": 19,
     "metadata": {},
     "output_type": "execute_result"
    }
   ],
   "source": [
    "# Make a new DataFrame equal to the city data to drop all humidity outliers by index.\n",
    "# Passing \"inplace=False\" will make a copy of the city_data DataFrame, which we call \"clean_city_data\".\n",
    "clean_city_df = city_df.drop(city_df[city_df['Humidity'] > 100].index, inplace = False)\n",
    "clean_city_df = clean_city_df.reset_index(drop = True)\n",
    "clean_city_df"
   ]
  },
  {
   "cell_type": "code",
   "execution_count": null,
   "metadata": {},
   "outputs": [],
   "source": [
    "\n"
   ]
  },
  {
   "cell_type": "markdown",
   "metadata": {},
   "source": [
    "## Plotting the Data\n",
    "* Use proper labeling of the plots using plot titles (including date of analysis) and axes labels.\n",
    "* Save the plotted figures as .pngs."
   ]
  },
  {
   "cell_type": "markdown",
   "metadata": {},
   "source": [
    "## Latitude vs. Temperature Plot"
   ]
  },
  {
   "cell_type": "code",
   "execution_count": 28,
   "metadata": {
    "scrolled": true
   },
   "outputs": [
    {
     "data": {
      "image/png": "[encoded data removed]",
      "text/plain": [
       "<Figure size 432x288 with 1 Axes>"
      ]
     },
     "metadata": {
      "needs_background": "light"
     },
     "output_type": "display_data"
    }
   ],
   "source": [
    "x_axis = clean_city_df[\"Lat\"]\n",
    "y_axis = clean_city_df[\"Max Temp\"]\n",
    "plt.scatter(x_axis, y_axis, marker = \"o\", cmap=\"viridis\")\n",
    "plt.title(\"City Latitude vs Max Temperature (04/23/21)\")\n",
    "plt.xlabel(\"Latitude\")\n",
    "plt.ylabel(\"Max Temperature (F)\")\n",
    "plt.show()"
   ]
  },
  {
   "cell_type": "markdown",
   "metadata": {},
   "source": [
    "## Latitude vs. Humidity Plot"
   ]
  },
  {
   "cell_type": "code",
   "execution_count": 29,
   "metadata": {},
   "outputs": [
    {
     "data": {
      "image/png": "[encoded data removed]",
      "text/plain": [
       "<Figure size 432x288 with 1 Axes>"
      ]
     },
     "metadata": {
      "needs_background": "light"
     },
     "output_type": "display_data"
    }
   ],
   "source": [
    "x_axis = clean_city_df[\"Lat\"]\n",
    "y_axis = clean_city_df[\"Humidity\"]\n",
    "plt.scatter(x_axis, y_axis, marker = \"o\", cmap=\"viridis\")\n",
    "plt.title(\"City Latitude vs Humidity (04/23/21)\")\n",
    "plt.xlabel(\"Latitude\")\n",
    "plt.ylabel(\"Humidity %\")\n",
    "plt.show()"
   ]
  },
  {
   "cell_type": "markdown",
   "metadata": {},
   "source": [
    "## Latitude vs. Cloudiness Plot"
   ]
  },
  {
   "cell_type": "code",
   "execution_count": 30,
   "metadata": {},
   "outputs": [
    {
     "data": {
      "image/png": "[encoded data removed]",
      "text/plain": [
       "<Figure size 432x288 with 1 Axes>"
      ]
     },
     "metadata": {
      "needs_background": "light"
     },
     "output_type": "display_data"
    }
   ],
   "source": [
    "x_axis = clean_city_df[\"Lat\"]\n",
    "y_axis = clean_city_df[\"Cloudiness\"]\n",
    "plt.scatter(x_axis, y_axis, marker = \"o\", cmap=\"viridis\")\n",
    "plt.title(\"City Latitude vs Cloudiness (04/23/21)\")\n",
    "plt.xlabel(\"Latitude\")\n",
    "plt.ylabel(\"Cloudiness %\")\n",
    "plt.show()"
   ]
  },
  {
   "cell_type": "markdown",
   "metadata": {},
   "source": [
    "## Latitude vs. Wind Speed Plot"
   ]
  },
  {
   "cell_type": "code",
   "execution_count": 31,
   "metadata": {},
   "outputs": [
    {
     "data": {
      "image/png": "[encoded data removed]",
      "text/plain": [
       "<Figure size 432x288 with 1 Axes>"
      ]
     },
     "metadata": {
      "needs_background": "light"
     },
     "output_type": "display_data"
    }
   ],
   "source": [
    "x_axis = clean_city_df[\"Lat\"]\n",
    "y_axis = clean_city_df[\"Wind Speed\"]\n",
    "plt.scatter(x_axis, y_axis, marker = \"o\", cmap=\"viridis\")\n",
    "plt.title(\"City Latitude vs Wind Speed (04/23/21)\")\n",
    "plt.xlabel(\"Latitude\")\n",
    "plt.ylabel(\"Wind Speed (mph)\")\n",
    "plt.show()"
   ]
  },
  {
   "cell_type": "markdown",
   "metadata": {},
   "source": [
    "## Linear Regression"
   ]
  },
  {
   "cell_type": "code",
   "execution_count": 24,
   "metadata": {},
   "outputs": [],
   "source": []
  },
  {
   "cell_type": "markdown",
   "metadata": {},
   "source": [
    "####  Northern Hemisphere - Max Temp vs. Latitude Linear Regression"
   ]
  },
  {
   "cell_type": "code",
   "execution_count": 34,
   "metadata": {},
   "outputs": [
    {
     "data": {
      "image/png": "[encoded data removed]",
      "text/plain": [
       "<Figure size 432x288 with 1 Axes>"
      ]
     },
     "metadata": {
      "needs_background": "light"
     },
     "output_type": "display_data"
    }
   ],
   "source": [
    "north_cities = clean_city_df.loc[clean_city_df[\"Lat\"]>= 0,:]\n",
    "x_axis = north_cities[\"Lat\"]\n",
    "y_axis = north_cities[\"Max Temp\"]\n",
    "plt.scatter(x_axis, y_axis, marker = \"o\")\n",
    "plt.xlabel(\"Latitude\")\n",
    "plt.ylabel(\"Max Temperature (F)\")\n",
    "\n",
    "(slope, intercept, rvalue, pvalue, stderr) = linregress(x_axis, y_axis)\n",
    "regress_values = x_axis * slope + intercept\n",
    "line_eq = \"y=\" + str(round(slope, 2)) + \"x + \" + str(round(intercept,2))\n",
    "plt.plot(x_axis,regress_values, \"r-\")\n",
    "plt.annotate(line_eq,(40,15),fontsize=15, color=\"red\")\n",
    "\n",
    "plt.show()"
   ]
  },
  {
   "cell_type": "markdown",
   "metadata": {},
   "source": [
    "####  Southern Hemisphere - Max Temp vs. Latitude Linear Regression"
   ]
  },
  {
   "cell_type": "code",
   "execution_count": 37,
   "metadata": {},
   "outputs": [
    {
     "data": {
      "image/png": "[encoded data removed]",
      "text/plain": [
       "<Figure size 432x288 with 1 Axes>"
      ]
     },
     "metadata": {
      "needs_background": "light"
     },
     "output_type": "display_data"
    }
   ],
   "source": [
    "south_cities = clean_city_df.loc[clean_city_df[\"Lat\"]< 0,:]\n",
    "x_axis = south_cities[\"Lat\"]\n",
    "y_axis = south_cities[\"Max Temp\"]\n",
    "plt.scatter(x_axis, y_axis, marker = \"o\")\n",
    "plt.xlabel(\"Latitude\")\n",
    "plt.ylabel(\"Max Temperature (F)\")\n",
    "\n",
    "(slope, intercept, rvalue, pvalue, stderr) = linregress(x_axis, y_axis)\n",
    "regress_values = x_axis * slope + intercept\n",
    "line_eq = \"y=\" + str(round(slope, 2)) + \"x + \" + str(round(intercept,2))\n",
    "plt.plot(x_axis,regress_values, \"r-\")\n",
    "plt.annotate(line_eq,(-25,47),fontsize=15, color=\"red\")\n",
    "\n",
    "plt.show()"
   ]
  },
  {
   "cell_type": "markdown",
   "metadata": {},
   "source": [
    "####  Northern Hemisphere - Humidity (%) vs. Latitude Linear Regression"
   ]
  },
  {
   "cell_type": "code",
   "execution_count": 40,
   "metadata": {},
   "outputs": [
    {
     "data": {
      "image/png": "[encoded data removed]",
      "text/plain": [
       "<Figure size 432x288 with 1 Axes>"
      ]
     },
     "metadata": {
      "needs_background": "light"
     },
     "output_type": "display_data"
    }
   ],
   "source": [
    "x_axis = north_cities[\"Lat\"]\n",
    "y_axis = north_cities[\"Humidity\"]\n",
    "plt.scatter(x_axis, y_axis, marker = \"o\")\n",
    "plt.xlabel(\"Latitude\")\n",
    "plt.ylabel(\"Humidity %\")\n",
    "\n",
    "(slope, intercept, rvalue, pvalue, stderr) = linregress(x_axis, y_axis)\n",
    "regress_values = x_axis * slope + intercept\n",
    "line_eq = \"y=\" + str(round(slope, 2)) + \"x + \" + str(round(intercept,2))\n",
    "plt.plot(x_axis,regress_values, \"r-\")\n",
    "plt.annotate(line_eq,(47,30),fontsize=15, color=\"red\")\n",
    "\n",
    "plt.show()"
   ]
  },
  {
   "cell_type": "markdown",
   "metadata": {},
   "source": [
    "####  Southern Hemisphere - Humidity (%) vs. Latitude Linear Regression"
   ]
  },
  {
   "cell_type": "code",
   "execution_count": 42,
   "metadata": {},
   "outputs": [
    {
     "data": {
      "image/png": "[encoded data removed]",
      "text/plain": [
       "<Figure size 432x288 with 1 Axes>"
      ]
     },
     "metadata": {
      "needs_background": "light"
     },
     "output_type": "display_data"
    }
   ],
   "source": [
    "x_axis = south_cities[\"Lat\"]\n",
    "y_axis = south_cities[\"Humidity\"]\n",
    "plt.scatter(x_axis, y_axis, marker = \"o\")\n",
    "plt.xlabel(\"Latitude\")\n",
    "plt.ylabel(\"Humidity %\")\n",
    "\n",
    "(slope, intercept, rvalue, pvalue, stderr) = linregress(x_axis, y_axis)\n",
    "regress_values = x_axis * slope + intercept\n",
    "line_eq = \"y=\" + str(round(slope, 2)) + \"x + \" + str(round(intercept,2))\n",
    "plt.plot(x_axis,regress_values, \"r-\")\n",
    "plt.annotate(line_eq,(-50,60),fontsize=15, color=\"red\")\n",
    "\n",
    "plt.show()"
   ]
  },
  {
   "cell_type": "markdown",
   "metadata": {},
   "source": [
    "####  Northern Hemisphere - Cloudiness (%) vs. Latitude Linear Regression"
   ]
  },
  {
   "cell_type": "code",
   "execution_count": 44,
   "metadata": {},
   "outputs": [
    {
     "data": {
      "image/png": "[encoded data removed]",
      "text/plain": [
       "<Figure size 432x288 with 1 Axes>"
      ]
     },
     "metadata": {
      "needs_background": "light"
     },
     "output_type": "display_data"
    }
   ],
   "source": [
    "x_axis = north_cities[\"Lat\"]\n",
    "y_axis = north_cities[\"Cloudiness\"]\n",
    "plt.scatter(x_axis, y_axis, marker = \"o\")\n",
    "plt.xlabel(\"Latitude\")\n",
    "plt.ylabel(\"Cloudiness %\")\n",
    "\n",
    "(slope, intercept, rvalue, pvalue, stderr) = linregress(x_axis, y_axis)\n",
    "regress_values = x_axis * slope + intercept\n",
    "line_eq = \"y=\" + str(round(slope, 2)) + \"x + \" + str(round(intercept,2))\n",
    "plt.plot(x_axis,regress_values, \"r-\")\n",
    "plt.annotate(line_eq,(40,45),fontsize=15, color=\"red\")\n",
    "\n",
    "plt.show()"
   ]
  },
  {
   "cell_type": "markdown",
   "metadata": {},
   "source": [
    "####  Southern Hemisphere - Cloudiness (%) vs. Latitude Linear Regression"
   ]
  },
  {
   "cell_type": "code",
   "execution_count": 46,
   "metadata": {},
   "outputs": [
    {
     "data": {
      "image/png": "[encoded data removed]",
      "text/plain": [
       "<Figure size 432x288 with 1 Axes>"
      ]
     },
     "metadata": {
      "needs_background": "light"
     },
     "output_type": "display_data"
    }
   ],
   "source": [
    "x_axis = south_cities[\"Lat\"]\n",
    "y_axis = south_cities[\"Cloudiness\"]\n",
    "plt.scatter(x_axis, y_axis, marker = \"o\")\n",
    "plt.xlabel(\"Latitude\")\n",
    "plt.ylabel(\"Cloudiness %\")\n",
    "\n",
    "(slope, intercept, rvalue, pvalue, stderr) = linregress(x_axis, y_axis)\n",
    "regress_values = x_axis * slope + intercept\n",
    "line_eq = \"y=\" + str(round(slope, 2)) + \"x + \" + str(round(intercept,2))\n",
    "plt.plot(x_axis,regress_values, \"r-\")\n",
    "plt.annotate(line_eq,(-50,20),fontsize=15, color=\"red\")\n",
    "\n",
    "plt.show()"
   ]
  },
  {
   "cell_type": "markdown",
   "metadata": {},
   "source": [
    "####  Northern Hemisphere - Wind Speed (mph) vs. Latitude Linear Regression"
   ]
  },
  {
   "cell_type": "code",
   "execution_count": 49,
   "metadata": {},
   "outputs": [
    {
     "data": {
      "image/png": "[encoded data removed]",
      "text/plain": [
       "<Figure size 432x288 with 1 Axes>"
      ]
     },
     "metadata": {
      "needs_background": "light"
     },
     "output_type": "display_data"
    }
   ],
   "source": [
    "x_axis = north_cities[\"Lat\"]\n",
    "y_axis = north_cities[\"Wind Speed\"]\n",
    "plt.scatter(x_axis, y_axis, marker = \"o\")\n",
    "plt.xlabel(\"Latitude\")\n",
    "plt.ylabel(\"Wind Speed (mph)\")\n",
    "\n",
    "(slope, intercept, rvalue, pvalue, stderr) = linregress(x_axis, y_axis)\n",
    "regress_values = x_axis * slope + intercept\n",
    "line_eq = \"y=\" + str(round(slope, 2)) + \"x + \" + str(round(intercept,2))\n",
    "plt.plot(x_axis,regress_values, \"r-\")\n",
    "plt.annotate(line_eq,(40,4),fontsize=15, color=\"red\")\n",
    "\n",
    "plt.show()"
   ]
  },
  {
   "cell_type": "markdown",
   "metadata": {},
   "source": [
    "####  Southern Hemisphere - Wind Speed (mph) vs. Latitude Linear Regression"
   ]
  },
  {
   "cell_type": "code",
   "execution_count": 51,
   "metadata": {},
   "outputs": [
    {
     "data": {
      "image/png": "[encoded data removed]",
      "text/plain": [
       "<Figure size 432x288 with 1 Axes>"
      ]
     },
     "metadata": {
      "needs_background": "light"
     },
     "output_type": "display_data"
    }
   ],
   "source": [
    "x_axis = south_cities[\"Lat\"]\n",
    "y_axis = south_cities[\"Wind Speed\"]\n",
    "plt.scatter(x_axis, y_axis, marker = \"o\")\n",
    "plt.xlabel(\"Latitude\")\n",
    "plt.ylabel(\"Wind Speed (mph)\")\n",
    "\n",
    "(slope, intercept, rvalue, pvalue, stderr) = linregress(x_axis, y_axis)\n",
    "regress_values = x_axis * slope + intercept\n",
    "line_eq = \"y=\" + str(round(slope, 2)) + \"x + \" + str(round(intercept,2))\n",
    "plt.plot(x_axis,regress_values, \"r-\")\n",
    "plt.annotate(line_eq,(-30,12.5),fontsize=15, color=\"red\")\n",
    "\n",
    "plt.show()"
   ]
  },
  {
   "cell_type": "code",
   "execution_count": null,
   "metadata": {},
   "outputs": [],
   "source": []
  }
 ],
 "metadata": {
  "anaconda-cloud": {},
  "kernel_info": {
   "name": "python3"
  },
  "kernelspec": {
   "display_name": "Python [conda env:PythonData] *",
   "language": "python",
   "name": "conda-env-PythonData-py"
  },
  "language_info": {
   "codemirror_mode": {
    "name": "ipython",
    "version": 3
   },
   "file_extension": ".py",
   "mimetype": "text/x-python",
   "name": "python",
   "nbconvert_exporter": "python",
   "pygments_lexer": "ipython3",
   "version": "3.6.10"
  },
  "latex_envs": {
   "LaTeX_envs_menu_present": true,
   "autoclose": false,
   "autocomplete": true,
   "bibliofile": "biblio.bib",
   "cite_by": "apalike",
   "current_citInitial": 1,
   "eqLabelWithNumbers": true,
   "eqNumInitial": 1,
   "hotkeys": {
    "equation": "Ctrl-E",
    "itemize": "Ctrl-I"
   },
   "labels_anchors": false,
   "latex_user_defs": false,
   "report_style_numbering": false,
   "user_envs_cfg": false
  },
  "nteract": {
   "version": "0.12.3"
  }
 },
 "nbformat": 4,
 "nbformat_minor": 2
}
