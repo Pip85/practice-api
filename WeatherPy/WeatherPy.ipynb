{
 "cells": [
  {
   "cell_type": "markdown",
   "metadata": {},
   "source": [
    "# WeatherPy\n",
    "----\n",
    "\n",
    "#### Note\n",
    "* Instructions have been included for each segment. You do not have to follow them exactly, but they are included to help you think through the steps."
   ]
  },
  {
   "cell_type": "markdown",
   "metadata": {},
   "source": [
    "# Observations\n",
    "1) There is a strong correlation between max temperature and latitude in both hemispheres.  That is clearly demonstrated in each of the three charts (all cities, northern hemisphere and southern hemisphere) showing max temperature by latitude.  The correlation in the northern hemisphere is especially strong and has an r-value of -.90.\n",
    "2) Humidity levels tend to be higher in most cities than the 40-50% humidity that is generally considered comfortable.  There are some lower humidity levels in the northern hemisphere, but it is not clear whether that is because the northern hemisphere has a higher sample size. There is very little correlation between humidity and latitude.  All latitudes seem to have an equal opportunity to suffer from high humidity.\n",
    "3) Both cloudiness and wind speed have low correlation with latitude.  There is more correlation in the southern hemisphere for both cloudiness and particularly wind speed.  The lower population of southern hemisphere cities in the sample could be a factor."
   ]
  },
  {
   "cell_type": "code",
   "execution_count": 1,
   "metadata": {
    "scrolled": true
   },
   "outputs": [],
   "source": [
    "# Dependencies and Setup\n",
    "import matplotlib.pyplot as plt\n",
    "import pandas as pd\n",
    "import numpy as np\n",
    "import requests\n",
    "import time\n",
    "from scipy.stats import linregress\n",
    "\n",
    "# Import API key\n",
    "from api_keys import weather_api_key\n",
    "\n",
    "# Incorporated citipy to determine city based on latitude and longitude\n",
    "from citipy import citipy\n",
    "\n",
    "# Output File (CSV)\n",
    "output_data_file = \"output_data/cities.csv\"\n",
    "\n",
    "# Range of latitudes and longitudes\n",
    "lat_range = (-90, 90)\n",
    "lng_range = (-180, 180)"
   ]
  },
  {
   "cell_type": "markdown",
   "metadata": {},
   "source": [
    "## Generate Cities List"
   ]
  },
  {
   "cell_type": "code",
   "execution_count": 46,
   "metadata": {},
   "outputs": [
    {
     "data": {
      "text/plain": [
       "628"
      ]
     },
     "execution_count": 46,
     "metadata": {},
     "output_type": "execute_result"
    }
   ],
   "source": [
    "# List for holding lat_lngs and cities\n",
    "lat_lngs = []\n",
    "cities = []\n",
    "\n",
    "# Create a set of random lat and lng combinations\n",
    "lats = np.random.uniform(lat_range[0], lat_range[1], size=1500)\n",
    "lngs = np.random.uniform(lng_range[0], lng_range[1], size=1500)\n",
    "lat_lngs = zip(lats, lngs)\n",
    "\n",
    "# Identify nearest city for each lat, lng combination\n",
    "for lat_lng in lat_lngs:\n",
    "    city = citipy.nearest_city(lat_lng[0], lat_lng[1]).city_name\n",
    "# If the city is unique, then add it to a our cities list    \n",
    "    if city not in cities:\n",
    "        cities.append(city)  \n",
    "# Print the city count to confirm sufficient count\n",
    "len(cities)"
   ]
  },
  {
   "cell_type": "code",
   "execution_count": null,
   "metadata": {},
   "outputs": [],
   "source": []
  },
  {
   "cell_type": "markdown",
   "metadata": {},
   "source": [
    "### Perform API Calls\n",
    "* Perform a weather check on each city using a series of successive API calls.\n",
    "* Include a print log of each city as it'sbeing processed (with the city number and city name).\n"
   ]
  },
  {
   "cell_type": "code",
   "execution_count": 47,
   "metadata": {
    "scrolled": true
   },
   "outputs": [
    {
     "name": "stdout",
     "output_type": "stream",
     "text": [
      "Processing Record 1 for Set1:|verkh-chebula\n",
      "Processing Record 2 for Set1:|nanortalik\n",
      "Processing Record 3 for Set1:|cabo san lucas\n",
      "Processing Record 4 for Set1:|saraipali\n",
      "Processing Record 5 for Set1:|te anau\n",
      "City not found....skipping\n",
      "Processing Record 6 for Set1:|hamada\n",
      "Processing Record 7 for Set1:|saint george\n",
      "Processing Record 8 for Set1:|rikitea\n",
      "Processing Record 9 for Set1:|atuona\n",
      "Processing Record 10 for Set1:|castro\n",
      "Processing Record 11 for Set1:|puerto ayora\n",
      "Processing Record 12 for Set1:|georgetown\n",
      "Processing Record 13 for Set1:|ancud\n",
      "Processing Record 14 for Set1:|lorengau\n",
      "Processing Record 15 for Set1:|esperance\n",
      "Processing Record 16 for Set1:|vung tau\n",
      "City not found....skipping\n",
      "Processing Record 17 for Set1:|veraval\n",
      "Processing Record 18 for Set1:|hilo\n",
      "Processing Record 19 for Set1:|mount gambier\n",
      "Processing Record 20 for Set1:|busselton\n",
      "Processing Record 21 for Set1:|sayaxche\n",
      "Processing Record 22 for Set1:|bredasdorp\n",
      "Processing Record 23 for Set1:|bousso\n",
      "Processing Record 24 for Set1:|mataura\n",
      "Processing Record 25 for Set1:|ponta delgada\n",
      "Processing Record 26 for Set1:|vagur\n",
      "Processing Record 27 for Set1:|port elizabeth\n",
      "Processing Record 28 for Set1:|nuuk\n",
      "Processing Record 29 for Set1:|kidal\n",
      "Processing Record 30 for Set1:|carballo\n",
      "Processing Record 31 for Set1:|opuwo\n",
      "Processing Record 32 for Set1:|tarpon springs\n",
      "Processing Record 33 for Set1:|tuatapere\n",
      "Processing Record 34 for Set1:|eufaula\n",
      "Processing Record 35 for Set1:|manggar\n",
      "Processing Record 36 for Set1:|hofn\n",
      "City not found....skipping\n",
      "Processing Record 37 for Set1:|iqaluit\n",
      "Processing Record 38 for Set1:|winchester\n",
      "Processing Record 39 for Set1:|qaanaaq\n",
      "Processing Record 40 for Set1:|pacific grove\n",
      "Processing Record 41 for Set1:|punta arenas\n",
      "Processing Record 42 for Set1:|albanel\n",
      "Processing Record 43 for Set1:|khilok\n",
      "Processing Record 44 for Set1:|ponta do sol\n",
      "Processing Record 45 for Set1:|ketchikan\n",
      "Processing Record 46 for Set1:|hobart\n",
      "Processing Record 47 for Set1:|bluff\n",
      "Processing Record 48 for Set1:|dingle\n",
      "Processing Record 49 for Set1:|vao\n",
      "Processing Record 50 for Set1:|warrnambool\n",
      "Processing Record 51 for Set2:|yulara\n",
      "Processing Record 52 for Set2:|orlik\n",
      "Processing Record 53 for Set2:|muroto\n",
      "Processing Record 54 for Set2:|sacama\n",
      "Processing Record 55 for Set2:|lazaro cardenas\n",
      "Processing Record 56 for Set2:|tuktoyaktuk\n",
      "Processing Record 57 for Set2:|ushuaia\n",
      "Processing Record 58 for Set2:|richards bay\n",
      "Processing Record 59 for Set2:|vaini\n",
      "Processing Record 60 for Set2:|cape town\n",
      "Processing Record 61 for Set2:|mar del plata\n",
      "Processing Record 62 for Set2:|farafangana\n",
      "Processing Record 63 for Set2:|cedar city\n",
      "Processing Record 64 for Set2:|jamestown\n",
      "Processing Record 65 for Set2:|cangzhou\n",
      "Processing Record 66 for Set2:|biltine\n",
      "City not found....skipping\n",
      "Processing Record 67 for Set2:|shashi\n",
      "Processing Record 68 for Set2:|ahipara\n",
      "Processing Record 69 for Set2:|lagoa\n",
      "Processing Record 70 for Set2:|albany\n",
      "Processing Record 71 for Set2:|yellowknife\n",
      "Processing Record 72 for Set2:|saint-philippe\n",
      "Processing Record 73 for Set2:|upernavik\n",
      "Processing Record 74 for Set2:|avera\n",
      "City not found....skipping\n",
      "Processing Record 75 for Set2:|jaque\n",
      "Processing Record 76 for Set2:|vestmanna\n",
      "Processing Record 77 for Set2:|magadan\n",
      "Processing Record 78 for Set2:|maceio\n",
      "Processing Record 79 for Set2:|seddon\n",
      "Processing Record 80 for Set2:|pevek\n",
      "Processing Record 81 for Set2:|ostrovnoy\n",
      "City not found....skipping\n",
      "Processing Record 82 for Set2:|emirdag\n",
      "Processing Record 83 for Set2:|talnakh\n",
      "Processing Record 84 for Set2:|chateaubelair\n",
      "Processing Record 85 for Set2:|ihosy\n",
      "Processing Record 86 for Set2:|rawson\n",
      "Processing Record 87 for Set2:|sosnovo-ozerskoye\n",
      "Processing Record 88 for Set2:|port alfred\n",
      "Processing Record 89 for Set2:|cayenne\n",
      "Processing Record 90 for Set2:|kahului\n",
      "Processing Record 91 for Set2:|cidreira\n",
      "City not found....skipping\n",
      "Processing Record 92 for Set2:|coihaique\n",
      "Processing Record 93 for Set2:|zhuhai\n",
      "Processing Record 94 for Set2:|torbay\n",
      "Processing Record 95 for Set2:|vagay\n",
      "Processing Record 96 for Set2:|nikolskoye\n",
      "Processing Record 97 for Set2:|ribeira grande\n",
      "Processing Record 98 for Set2:|atasu\n",
      "Processing Record 99 for Set2:|ramshir\n",
      "City not found....skipping\n",
      "City not found....skipping\n",
      "Processing Record 100 for Set2:|krasnoselkup\n",
      "Processing Record 101 for Set3:|klaksvik\n",
      "City not found....skipping\n",
      "Processing Record 102 for Set3:|tecpan\n",
      "Processing Record 103 for Set3:|labuhan\n",
      "Processing Record 104 for Set3:|tasiilaq\n",
      "Processing Record 105 for Set3:|barrow\n",
      "Processing Record 106 for Set3:|voh\n",
      "Processing Record 107 for Set3:|saskylakh\n",
      "Processing Record 108 for Set3:|gat\n",
      "Processing Record 109 for Set3:|wenatchee\n",
      "Processing Record 110 for Set3:|kamina\n",
      "City not found....skipping\n",
      "City not found....skipping\n",
      "Processing Record 111 for Set3:|skibbereen\n",
      "Processing Record 112 for Set3:|waipawa\n",
      "Processing Record 113 for Set3:|tual\n",
      "Processing Record 114 for Set3:|provideniya\n",
      "Processing Record 115 for Set3:|syasstroy\n",
      "Processing Record 116 for Set3:|bethel\n",
      "Processing Record 117 for Set3:|pak chong\n",
      "Processing Record 118 for Set3:|nishihara\n",
      "Processing Record 119 for Set3:|mantua\n",
      "City not found....skipping\n",
      "City not found....skipping\n",
      "Processing Record 120 for Set3:|khatanga\n",
      "Processing Record 121 for Set3:|kangaatsiaq\n",
      "Processing Record 122 for Set3:|assiniboia\n",
      "Processing Record 123 for Set3:|leningradskiy\n",
      "Processing Record 124 for Set3:|northam\n",
      "City not found....skipping\n",
      "Processing Record 125 for Set3:|senanga\n",
      "City not found....skipping\n",
      "Processing Record 126 for Set3:|zhigansk\n",
      "Processing Record 127 for Set3:|kaitangata\n",
      "Processing Record 128 for Set3:|cap malheureux\n",
      "Processing Record 129 for Set3:|severo-yeniseyskiy\n",
      "Processing Record 130 for Set3:|turayf\n",
      "Processing Record 131 for Set3:|mnogovershinnyy\n",
      "Processing Record 132 for Set3:|ambulu\n",
      "Processing Record 133 for Set3:|corrales\n",
      "Processing Record 134 for Set3:|beringovskiy\n",
      "Processing Record 135 for Set3:|koungou\n",
      "City not found....skipping\n",
      "Processing Record 136 for Set3:|dikson\n",
      "Processing Record 137 for Set3:|mitsamiouli\n",
      "Processing Record 138 for Set3:|birao\n",
      "Processing Record 139 for Set3:|east london\n",
      "Processing Record 140 for Set3:|kavieng\n",
      "Processing Record 141 for Set3:|naze\n",
      "Processing Record 142 for Set3:|thompson\n",
      "Processing Record 143 for Set3:|chokurdakh\n",
      "Processing Record 144 for Set3:|la ronge\n",
      "Processing Record 145 for Set3:|avarua\n",
      "Processing Record 146 for Set3:|gizo\n",
      "Processing Record 147 for Set3:|sao mateus\n",
      "Processing Record 148 for Set3:|vila\n",
      "Processing Record 149 for Set3:|san francisco\n",
      "Processing Record 150 for Set3:|sinnamary\n",
      "Processing Record 151 for Set4:|monrovia\n",
      "Processing Record 152 for Set4:|new norfolk\n",
      "Processing Record 153 for Set4:|norman wells\n",
      "Processing Record 154 for Set4:|kapaa\n",
      "Processing Record 155 for Set4:|ilulissat\n",
      "Processing Record 156 for Set4:|yerbogachen\n",
      "Processing Record 157 for Set4:|hermanus\n",
      "Processing Record 158 for Set4:|qaqortoq\n",
      "Processing Record 159 for Set4:|tervel\n",
      "Processing Record 160 for Set4:|sur\n",
      "Processing Record 161 for Set4:|thunder bay\n",
      "Processing Record 162 for Set4:|aykhal\n",
      "Processing Record 163 for Set4:|hithadhoo\n",
      "City not found....skipping\n",
      "City not found....skipping\n",
      "Processing Record 164 for Set4:|antofagasta\n",
      "Processing Record 165 for Set4:|hernani\n",
      "Processing Record 166 for Set4:|at-bashi\n",
      "Processing Record 167 for Set4:|illela\n",
      "Processing Record 168 for Set4:|port augusta\n",
      "Processing Record 169 for Set4:|darhan\n",
      "Processing Record 170 for Set4:|airai\n",
      "City not found....skipping\n",
      "Processing Record 171 for Set4:|shenjiamen\n",
      "Processing Record 172 for Set4:|conde\n",
      "Processing Record 173 for Set4:|yumen\n",
      "Processing Record 174 for Set4:|trogir\n",
      "Processing Record 175 for Set4:|lima\n",
      "Processing Record 176 for Set4:|puyang\n",
      "Processing Record 177 for Set4:|clinton\n",
      "Processing Record 178 for Set4:|champerico\n",
      "City not found....skipping\n",
      "Processing Record 179 for Set4:|lebu\n",
      "Processing Record 180 for Set4:|coruripe\n",
      "Processing Record 181 for Set4:|todos santos\n",
      "Processing Record 182 for Set4:|gunjur\n",
      "City not found....skipping\n",
      "Processing Record 183 for Set4:|majene\n",
      "Processing Record 184 for Set4:|nabire\n",
      "Processing Record 185 for Set4:|quatre cocos\n",
      "City not found....skipping\n",
      "Processing Record 186 for Set4:|cherskiy\n",
      "Processing Record 187 for Set4:|lompoc\n",
      "City not found....skipping\n"
     ]
    },
    {
     "name": "stdout",
     "output_type": "stream",
     "text": [
      "Processing Record 188 for Set4:|uman\n",
      "Processing Record 189 for Set4:|victoria\n",
      "Processing Record 190 for Set4:|auki\n",
      "Processing Record 191 for Set4:|vadso\n",
      "Processing Record 192 for Set4:|winslow\n",
      "Processing Record 193 for Set4:|thinadhoo\n",
      "Processing Record 194 for Set4:|peniche\n",
      "Processing Record 195 for Set4:|butaritari\n",
      "City not found....skipping\n",
      "Processing Record 196 for Set4:|takoradi\n",
      "Processing Record 197 for Set4:|bend\n",
      "Processing Record 198 for Set4:|comodoro rivadavia\n",
      "Processing Record 199 for Set4:|kem\n",
      "City not found....skipping\n",
      "Processing Record 200 for Set4:|ambon\n",
      "Processing Record 201 for Set5:|semnan\n",
      "City not found....skipping\n",
      "Processing Record 202 for Set5:|husavik\n",
      "Processing Record 203 for Set5:|homer\n",
      "Processing Record 204 for Set5:|wanning\n",
      "Processing Record 205 for Set5:|darlowo\n",
      "Processing Record 206 for Set5:|upata\n",
      "Processing Record 207 for Set5:|benguela\n",
      "Processing Record 208 for Set5:|namikupa\n",
      "Processing Record 209 for Set5:|kumo\n",
      "Processing Record 210 for Set5:|lavrentiya\n",
      "City not found....skipping\n",
      "Processing Record 211 for Set5:|sorong\n",
      "Processing Record 212 for Set5:|argentan\n",
      "Processing Record 213 for Set5:|arraial do cabo\n",
      "City not found....skipping\n",
      "Processing Record 214 for Set5:|port shepstone\n",
      "City not found....skipping\n",
      "Processing Record 215 for Set5:|san jeronimo\n",
      "Processing Record 216 for Set5:|saldanha\n",
      "Processing Record 217 for Set5:|san ignacio\n",
      "Processing Record 218 for Set5:|aguimes\n",
      "Processing Record 219 for Set5:|skhisma\n",
      "Processing Record 220 for Set5:|codrington\n",
      "Processing Record 221 for Set5:|borodyanka\n",
      "Processing Record 222 for Set5:|namatanai\n",
      "Processing Record 223 for Set5:|asau\n",
      "Processing Record 224 for Set5:|malakal\n",
      "City not found....skipping\n",
      "Processing Record 225 for Set5:|anadyr\n",
      "Processing Record 226 for Set5:|vila velha\n",
      "Processing Record 227 for Set5:|turochak\n",
      "Processing Record 228 for Set5:|orangeburg\n",
      "City not found....skipping\n",
      "Processing Record 229 for Set5:|tokur\n",
      "Processing Record 230 for Set5:|shatki\n",
      "Processing Record 231 for Set5:|hattiesburg\n",
      "Processing Record 232 for Set5:|mao\n",
      "Processing Record 233 for Set5:|ntungamo\n",
      "Processing Record 234 for Set5:|marsa matruh\n",
      "Processing Record 235 for Set5:|krasnovishersk\n",
      "Processing Record 236 for Set5:|palmer\n",
      "Processing Record 237 for Set5:|amga\n",
      "Processing Record 238 for Set5:|necochea\n",
      "Processing Record 239 for Set5:|tura\n",
      "Processing Record 240 for Set5:|egvekinot\n",
      "Processing Record 241 for Set5:|paamiut\n",
      "Processing Record 242 for Set5:|malm\n",
      "Processing Record 243 for Set5:|puerto el triunfo\n",
      "Processing Record 244 for Set5:|alcains\n",
      "Processing Record 245 for Set5:|saint-medard-en-jalles\n",
      "Processing Record 246 for Set5:|puksoozero\n",
      "Processing Record 247 for Set5:|little current\n",
      "Processing Record 248 for Set5:|saurimo\n",
      "Processing Record 249 for Set5:|contamana\n",
      "Processing Record 250 for Set5:|cozumel\n",
      "Processing Record 251 for Set6:|inhambane\n",
      "Processing Record 252 for Set6:|bambous virieux\n",
      "Processing Record 253 for Set6:|chapais\n",
      "Processing Record 254 for Set6:|vila franca do campo\n",
      "Processing Record 255 for Set6:|pemangkat\n",
      "Processing Record 256 for Set6:|sabya\n",
      "Processing Record 257 for Set6:|vuktyl\n",
      "Processing Record 258 for Set6:|bayan\n",
      "Processing Record 259 for Set6:|begoro\n",
      "Processing Record 260 for Set6:|bengkulu\n",
      "Processing Record 261 for Set6:|ahuimanu\n",
      "Processing Record 262 for Set6:|broome\n",
      "City not found....skipping\n",
      "City not found....skipping\n",
      "Processing Record 263 for Set6:|mozarlandia\n",
      "Processing Record 264 for Set6:|mecca\n",
      "Processing Record 265 for Set6:|kodiak\n",
      "Processing Record 266 for Set6:|soma\n",
      "Processing Record 267 for Set6:|kavaratti\n",
      "City not found....skipping\n",
      "Processing Record 268 for Set6:|grand gaube\n",
      "Processing Record 269 for Set6:|viedma\n",
      "City not found....skipping\n",
      "Processing Record 270 for Set6:|gazojak\n",
      "City not found....skipping\n",
      "Processing Record 271 for Set6:|novosil\n",
      "Processing Record 272 for Set6:|oranjemund\n",
      "Processing Record 273 for Set6:|cururupu\n",
      "Processing Record 274 for Set6:|praya\n",
      "Processing Record 275 for Set6:|morondava\n",
      "Processing Record 276 for Set6:|sitka\n",
      "Processing Record 277 for Set6:|rio grande\n",
      "Processing Record 278 for Set6:|parana\n",
      "Processing Record 279 for Set6:|jasper\n",
      "Processing Record 280 for Set6:|diamantino\n",
      "Processing Record 281 for Set6:|kholm-zhirkovskiy\n",
      "Processing Record 282 for Set6:|tiksi\n",
      "Processing Record 283 for Set6:|nassau\n",
      "Processing Record 284 for Set6:|yarada\n",
      "Processing Record 285 for Set6:|bilibino\n",
      "Processing Record 286 for Set6:|cervo\n",
      "Processing Record 287 for Set6:|margate\n",
      "Processing Record 288 for Set6:|atikokan\n",
      "Processing Record 289 for Set6:|kovylkino\n",
      "Processing Record 290 for Set6:|doha\n",
      "Processing Record 291 for Set6:|saint-louis\n",
      "Processing Record 292 for Set6:|dryden\n",
      "Processing Record 293 for Set6:|carnarvon\n",
      "Processing Record 294 for Set6:|manta\n",
      "Processing Record 295 for Set6:|strelka\n",
      "Processing Record 296 for Set6:|platteville\n",
      "Processing Record 297 for Set6:|kousseri\n",
      "Processing Record 298 for Set6:|honolulu\n",
      "City not found....skipping\n",
      "Processing Record 299 for Set6:|aswan\n",
      "Processing Record 300 for Set6:|grand-lahou\n",
      "Processing Record 301 for Set7:|bonthe\n",
      "Processing Record 302 for Set7:|longyearbyen\n",
      "Processing Record 303 for Set7:|udachnyy\n",
      "Processing Record 304 for Set7:|zandvoort\n",
      "Processing Record 305 for Set7:|larsnes\n",
      "Processing Record 306 for Set7:|eldorado\n",
      "Processing Record 307 for Set7:|lata\n",
      "Processing Record 308 for Set7:|gwadar\n",
      "Processing Record 309 for Set7:|blackwater\n",
      "Processing Record 310 for Set7:|reconquista\n",
      "Processing Record 311 for Set7:|chicama\n",
      "City not found....skipping\n",
      "Processing Record 312 for Set7:|beruwala\n",
      "Processing Record 313 for Set7:|hay river\n",
      "Processing Record 314 for Set7:|buala\n",
      "Processing Record 315 for Set7:|nouadhibou\n",
      "Processing Record 316 for Set7:|kingsport\n",
      "Processing Record 317 for Set7:|nova soure\n",
      "City not found....skipping\n",
      "Processing Record 318 for Set7:|keti bandar\n",
      "Processing Record 319 for Set7:|pisco\n",
      "Processing Record 320 for Set7:|caravelas\n",
      "Processing Record 321 for Set7:|havoysund\n",
      "Processing Record 322 for Set7:|alghero\n",
      "Processing Record 323 for Set7:|derzhavinsk\n",
      "Processing Record 324 for Set7:|faya\n",
      "Processing Record 325 for Set7:|wawa\n",
      "Processing Record 326 for Set7:|coahuayana\n",
      "Processing Record 327 for Set7:|bratsk\n",
      "Processing Record 328 for Set7:|bushehr\n",
      "Processing Record 329 for Set7:|caxito\n",
      "Processing Record 330 for Set7:|puerto baquerizo moreno\n",
      "Processing Record 331 for Set7:|kruisfontein\n",
      "Processing Record 332 for Set7:|linares\n",
      "Processing Record 333 for Set7:|karratha\n",
      "City not found....skipping\n",
      "Processing Record 334 for Set7:|vostok\n",
      "Processing Record 335 for Set7:|alice springs\n",
      "Processing Record 336 for Set7:|sanandaj\n",
      "Processing Record 337 for Set7:|aklavik\n",
      "Processing Record 338 for Set7:|verkhnevilyuysk\n",
      "Processing Record 339 for Set7:|keta\n",
      "Processing Record 340 for Set7:|bilma\n",
      "Processing Record 341 for Set7:|matagami\n",
      "Processing Record 342 for Set7:|nara\n",
      "Processing Record 343 for Set7:|onguday\n",
      "Processing Record 344 for Set7:|oriximina\n",
      "Processing Record 345 for Set7:|alizai\n",
      "City not found....skipping\n",
      "Processing Record 346 for Set7:|jinchang\n",
      "Processing Record 347 for Set7:|aldan\n",
      "City not found....skipping\n",
      "Processing Record 348 for Set7:|talon\n",
      "Processing Record 349 for Set7:|santa maria\n",
      "Processing Record 350 for Set7:|katsuura\n",
      "Processing Record 351 for Set8:|petropavlovsk-kamchatskiy\n",
      "Processing Record 352 for Set8:|sorland\n",
      "Processing Record 353 for Set8:|pontianak\n",
      "Processing Record 354 for Set8:|addanki\n",
      "City not found....skipping\n",
      "City not found....skipping\n",
      "Processing Record 355 for Set8:|pangai\n",
      "Processing Record 356 for Set8:|luderitz\n",
      "City not found....skipping\n",
      "Processing Record 357 for Set8:|matara\n",
      "Processing Record 358 for Set8:|prainha\n",
      "Processing Record 359 for Set8:|aparecida\n",
      "City not found....skipping\n",
      "Processing Record 360 for Set8:|anori\n",
      "Processing Record 361 for Set8:|lisburn\n",
      "City not found....skipping\n",
      "City not found....skipping\n",
      "Processing Record 362 for Set8:|chokwe\n",
      "Processing Record 363 for Set8:|kamenka\n",
      "Processing Record 364 for Set8:|santa cruz de tenerife\n",
      "Processing Record 365 for Set8:|hambantota\n",
      "Processing Record 366 for Set8:|lasa\n",
      "Processing Record 367 for Set8:|waingapu\n",
      "Processing Record 368 for Set8:|nailon\n",
      "Processing Record 369 for Set8:|berdigestyakh\n",
      "Processing Record 370 for Set8:|novobirilyussy\n"
     ]
    },
    {
     "name": "stdout",
     "output_type": "stream",
     "text": [
      "Processing Record 371 for Set8:|campoverde\n",
      "City not found....skipping\n",
      "Processing Record 372 for Set8:|severo-kurilsk\n",
      "Processing Record 373 for Set8:|riviere-au-renard\n",
      "Processing Record 374 for Set8:|vrangel\n",
      "Processing Record 375 for Set8:|isla vista\n",
      "Processing Record 376 for Set8:|bartica\n",
      "Processing Record 377 for Set8:|brae\n",
      "Processing Record 378 for Set8:|hamilton\n",
      "Processing Record 379 for Set8:|manitowoc\n",
      "Processing Record 380 for Set8:|san patricio\n",
      "Processing Record 381 for Set8:|souillac\n",
      "Processing Record 382 for Set8:|broken hill\n",
      "Processing Record 383 for Set8:|los andes\n",
      "Processing Record 384 for Set8:|ullapool\n",
      "Processing Record 385 for Set8:|san cristobal\n",
      "Processing Record 386 for Set8:|limbe\n",
      "Processing Record 387 for Set8:|emerald\n",
      "Processing Record 388 for Set8:|bose\n",
      "Processing Record 389 for Set8:|fort nelson\n",
      "Processing Record 390 for Set8:|nannilam\n",
      "Processing Record 391 for Set8:|sonoita\n",
      "Processing Record 392 for Set8:|cananea\n",
      "Processing Record 393 for Set8:|pontes e lacerda\n",
      "Processing Record 394 for Set8:|manitouwadge\n",
      "Processing Record 395 for Set8:|vavoua\n",
      "City not found....skipping\n",
      "Processing Record 396 for Set8:|quincy\n",
      "Processing Record 397 for Set8:|christchurch\n",
      "Processing Record 398 for Set8:|tapes\n",
      "Processing Record 399 for Set8:|suez\n",
      "Processing Record 400 for Set8:|beyneu\n",
      "Processing Record 401 for Set9:|santa flavia\n",
      "Processing Record 402 for Set9:|kuzhithurai\n",
      "Processing Record 403 for Set9:|dubbo\n",
      "City not found....skipping\n",
      "Processing Record 404 for Set9:|alofi\n",
      "Processing Record 405 for Set9:|bjornevatn\n",
      "Processing Record 406 for Set9:|mount isa\n",
      "Processing Record 407 for Set9:|boyolangu\n",
      "Processing Record 408 for Set9:|faanui\n",
      "Processing Record 409 for Set9:|santa cruz\n",
      "Processing Record 410 for Set9:|collipulli\n",
      "Processing Record 411 for Set9:|powell river\n",
      "Processing Record 412 for Set9:|fairbanks\n",
      "Processing Record 413 for Set9:|minas de barroteran\n",
      "Processing Record 414 for Set9:|narasannapeta\n",
      "City not found....skipping\n",
      "Processing Record 415 for Set9:|coquimbo\n",
      "Processing Record 416 for Set9:|poum\n",
      "Processing Record 417 for Set9:|roebourne\n",
      "Processing Record 418 for Set9:|constitucion\n",
      "Processing Record 419 for Set9:|clervaux\n",
      "Processing Record 420 for Set9:|amuntai\n",
      "Processing Record 421 for Set9:|maniitsoq\n",
      "Processing Record 422 for Set9:|gasa\n",
      "Processing Record 423 for Set9:|amla\n",
      "Processing Record 424 for Set9:|nhulunbuy\n",
      "Processing Record 425 for Set9:|pedernales\n",
      "Processing Record 426 for Set9:|tvedestrand\n",
      "Processing Record 427 for Set9:|berlevag\n",
      "Processing Record 428 for Set9:|ndele\n",
      "Processing Record 429 for Set9:|hami\n",
      "City not found....skipping\n",
      "Processing Record 430 for Set9:|neepawa\n",
      "Processing Record 431 for Set9:|carauari\n",
      "Processing Record 432 for Set9:|clyde river\n",
      "Processing Record 433 for Set9:|bud\n",
      "Processing Record 434 for Set9:|sobolevo\n",
      "Processing Record 435 for Set9:|qui nhon\n",
      "Processing Record 436 for Set9:|narsaq\n",
      "Processing Record 437 for Set9:|pangnirtung\n",
      "Processing Record 438 for Set9:|zwedru\n",
      "Processing Record 439 for Set9:|tutoia\n",
      "Processing Record 440 for Set9:|mirnyy\n",
      "Processing Record 441 for Set9:|baherden\n",
      "Processing Record 442 for Set9:|calderitas\n",
      "Processing Record 443 for Set9:|basco\n",
      "Processing Record 444 for Set9:|japura\n",
      "Processing Record 445 for Set9:|port moresby\n",
      "Processing Record 446 for Set9:|charters towers\n",
      "Processing Record 447 for Set9:|kijang\n",
      "Processing Record 448 for Set9:|urengoy\n",
      "Processing Record 449 for Set9:|ormara\n",
      "Processing Record 450 for Set9:|laurel\n",
      "Processing Record 451 for Set10:|iranshahr\n",
      "Processing Record 452 for Set10:|chaiya\n",
      "City not found....skipping\n",
      "Processing Record 453 for Set10:|saint-pierre\n",
      "Processing Record 454 for Set10:|guamuchil\n",
      "City not found....skipping\n",
      "Processing Record 455 for Set10:|touros\n",
      "Processing Record 456 for Set10:|meulaboh\n",
      "Processing Record 457 for Set10:|padang\n",
      "Processing Record 458 for Set10:|buraydah\n",
      "City not found....skipping\n",
      "Processing Record 459 for Set10:|laguna\n",
      "Processing Record 460 for Set10:|sao filipe\n",
      "City not found....skipping\n",
      "Processing Record 461 for Set10:|prado\n",
      "Processing Record 462 for Set10:|tabou\n",
      "Processing Record 463 for Set10:|san quintin\n",
      "Processing Record 464 for Set10:|solnechnyy\n",
      "Processing Record 465 for Set10:|verkhoyansk\n",
      "Processing Record 466 for Set10:|kuna\n",
      "Processing Record 467 for Set10:|roma\n",
      "Processing Record 468 for Set10:|madimba\n",
      "Processing Record 469 for Set10:|waraseoni\n",
      "Processing Record 470 for Set10:|flinders\n",
      "Processing Record 471 for Set10:|conceicao da barra\n",
      "Processing Record 472 for Set10:|ulladulla\n",
      "Processing Record 473 for Set10:|eureka\n",
      "City not found....skipping\n",
      "Processing Record 474 for Set10:|los llanos de aridane\n",
      "Processing Record 475 for Set10:|vilyuysk\n",
      "Processing Record 476 for Set10:|sakyla\n",
      "Processing Record 477 for Set10:|mayumba\n",
      "Processing Record 478 for Set10:|haines junction\n",
      "Processing Record 479 for Set10:|kushnarenkovo\n",
      "Processing Record 480 for Set10:|meshcherino\n",
      "Processing Record 481 for Set10:|xuddur\n",
      "Processing Record 482 for Set10:|rio gallegos\n",
      "City not found....skipping\n",
      "Processing Record 483 for Set10:|aksarka\n",
      "Processing Record 484 for Set10:|tungor\n",
      "Processing Record 485 for Set10:|baykit\n",
      "Processing Record 486 for Set10:|ishigaki\n",
      "Processing Record 487 for Set10:|dhrangadhra\n",
      "Processing Record 488 for Set10:|chuy\n",
      "Processing Record 489 for Set10:|maningrida\n",
      "Processing Record 490 for Set10:|chardara\n",
      "Processing Record 491 for Set10:|chadan\n",
      "Processing Record 492 for Set10:|capinota\n",
      "Processing Record 493 for Set10:|sao joao da barra\n",
      "Processing Record 494 for Set10:|russell\n",
      "Processing Record 495 for Set10:|nuqui\n",
      "Processing Record 496 for Set10:|bubaque\n",
      "Processing Record 497 for Set10:|manado\n",
      "Processing Record 498 for Set10:|matay\n",
      "Processing Record 499 for Set10:|abu dhabi\n",
      "Processing Record 500 for Set10:|deputatskiy\n",
      "Processing Record 501 for Set11:|bunia\n",
      "Processing Record 502 for Set11:|maldonado\n",
      "Processing Record 503 for Set11:|brezice\n",
      "Processing Record 504 for Set11:|vrede\n",
      "Processing Record 505 for Set11:|rundu\n",
      "Processing Record 506 for Set11:|rize\n",
      "Processing Record 507 for Set11:|bandar\n",
      "City not found....skipping\n",
      "Processing Record 508 for Set11:|maicao\n",
      "Processing Record 509 for Set11:|neiafu\n",
      "Processing Record 510 for Set11:|alihe\n",
      "Processing Record 511 for Set11:|chumikan\n",
      "Processing Record 512 for Set11:|nerchinskiy zavod\n",
      "Processing Record 513 for Set11:|shelbyville\n",
      "Processing Record 514 for Set11:|batagay-alyta\n",
      "Processing Record 515 for Set11:|plettenberg bay\n",
      "Processing Record 516 for Set11:|geraldton\n",
      "Processing Record 517 for Set11:|bireun\n",
      "Processing Record 518 for Set11:|banda aceh\n",
      "Processing Record 519 for Set11:|kazachinskoye\n",
      "Processing Record 520 for Set11:|kozhva\n",
      "Processing Record 521 for Set11:|mumford\n",
      "Processing Record 522 for Set11:|bandarbeyla\n",
      "Processing Record 523 for Set11:|namibe\n",
      "Processing Record 524 for Set11:|guimar\n",
      "Processing Record 525 for Set11:|mahebourg\n",
      "Processing Record 526 for Set11:|goba\n",
      "Processing Record 527 for Set11:|tazovskiy\n",
      "Processing Record 528 for Set11:|dniprovka\n",
      "Processing Record 529 for Set11:|kashi\n",
      "Processing Record 530 for Set11:|zharkent\n",
      "Processing Record 531 for Set11:|portland\n",
      "Processing Record 532 for Set11:|eshowe\n",
      "Processing Record 533 for Set11:|port hedland\n",
      "Processing Record 534 for Set11:|west bay\n",
      "Processing Record 535 for Set11:|pitimbu\n",
      "Processing Record 536 for Set11:|fortuna\n",
      "Processing Record 537 for Set11:|fenyi\n",
      "Processing Record 538 for Set11:|stornoway\n",
      "Processing Record 539 for Set11:|diego de almagro\n",
      "Processing Record 540 for Set11:|januaria\n",
      "Processing Record 541 for Set11:|teruel\n",
      "Processing Record 542 for Set11:|samarai\n",
      "Processing Record 543 for Set11:|zambezi\n",
      "Processing Record 544 for Set11:|alta floresta\n",
      "Processing Record 545 for Set11:|port hardy\n",
      "Processing Record 546 for Set11:|port said\n",
      "Processing Record 547 for Set11:|ostersund\n",
      "Processing Record 548 for Set11:|haimen\n",
      "Processing Record 549 for Set11:|axim\n",
      "City not found....skipping\n",
      "Processing Record 550 for Set11:|ngunguru\n"
     ]
    }
   ],
   "source": [
    "# Base URL for making API calls on openweathermap.org\n",
    "base_url = \"http://api.openweathermap.org/data/2.5/weather?q=\"\n",
    "# Use counter to batch requests so as not to exceed request limit\n",
    "counter = 0\n",
    "# Use batch counter to reflect pull of new set in print log\n",
    "batch_counter = 1\n",
    "# Use record counter to reflect record number of each city in print log\n",
    "record_counter = 1\n",
    "\n",
    "# Set maximum number of cities to pull so for loop stops if all required cities are retrieved\n",
    "max_cities = 550\n",
    "# Set up empty lists to hold the data contents of the request response\n",
    "max_temp = []\n",
    "lat = []\n",
    "lon = []\n",
    "humidity = []\n",
    "cloudy = []\n",
    "wind_speed = []\n",
    "city_name = []\n",
    "country = []\n",
    "date = []\n",
    "\n",
    "# Create for loop to loop through all cities found in citipy in the cell above\n",
    "for city in cities:\n",
    "# Amend URL to include city to query, incorporate api key and set units to American standards\n",
    "    query_url = f\"{base_url}{city}&appid={weather_api_key}&units=imperial\"\n",
    "# Check to see if we have already reached the max number of cities before continuing    \n",
    "    if len(city_name) < max_cities:\n",
    "# Check to make sure we're still within the current batch search limit\n",
    "        if counter < 50:\n",
    "# Attempt to request and return data on each city\n",
    "            try:      \n",
    "                response = requests.get(query_url)\n",
    "                response_json = response.json()     \n",
    "# Check to be sure we haven't already gathered data on this city before continuing\n",
    "                if city not in city_name:                    \n",
    "# Append received data to the empty lists set up above the for loop\n",
    "# Use try and except to keep the loop moving on several data points\n",
    "                    city_name.append(response_json[\"name\"])\n",
    "                    country.append(response_json[\"sys\"][\"country\"])\n",
    "                    lat.append(response_json[\"coord\"][\"lat\"])\n",
    "                    lon.append(response_json[\"coord\"][\"lon\"])  \n",
    "                    date.append(response_json[\"dt\"])\n",
    "                    try:\n",
    "                        max_temp.append(response_json[\"main\"][\"temp_max\"])\n",
    "                    except:\n",
    "                        print(\"This {city} has no information on temperature\")\n",
    "                        pass\n",
    "                    try:\n",
    "                        humidity.append(response_json[\"main\"][\"humidity\"])\n",
    "                    except:\n",
    "                        print(\"This {city} has no information on humidity\")\n",
    "                        pass\n",
    "                    try:\n",
    "                        cloudy.append(response_json['clouds'][\"all\"])\n",
    "                    except:\n",
    "                        print(\"This {city} has no information on cloudiness\")\n",
    "                        pass                        \n",
    "                    try:\n",
    "                        wind_speed.append(response_json[\"wind\"][\"speed\"])\n",
    "                    except:\n",
    "                        print(\"This {city} has no information on wind speed\")\n",
    "                        pass \n",
    "# Begin printing log of record processing\n",
    "                print(f\"Processing Record {record_counter} for Set{batch_counter}:|{city}\")\n",
    "# Update counter for the next record\n",
    "                counter += 1\n",
    "# Update record counter for the next record\n",
    "                record_counter += 1\n",
    "# If city is not found, print message that city will be skipped and move to the next city\n",
    "            except:\n",
    "                print(f\"City not found....skipping\")\n",
    "                pass\n",
    "# If we have reached the counter limit of 50, start a new batch, update the batch counter for the next batch\n",
    "# Implement timer after previous batch for one minute break between batches\n",
    "        else:\n",
    "            counter = 0\n",
    "            batch_counter += 1\n",
    "            time.sleep(60)"
   ]
  },
  {
   "cell_type": "markdown",
   "metadata": {},
   "source": [
    "### Convert Raw Data to DataFrame\n",
    "* Export the city data into a .csv.\n",
    "* Display the DataFrame"
   ]
  },
  {
   "cell_type": "code",
   "execution_count": 50,
   "metadata": {},
   "outputs": [
    {
     "data": {
      "text/html": [
       "<div>\n",
       "<style scoped>\n",
       "    .dataframe tbody tr th:only-of-type {\n",
       "        vertical-align: middle;\n",
       "    }\n",
       "\n",
       "    .dataframe tbody tr th {\n",
       "        vertical-align: top;\n",
       "    }\n",
       "\n",
       "    .dataframe thead th {\n",
       "        text-align: right;\n",
       "    }\n",
       "</style>\n",
       "<table border=\"1\" class=\"dataframe\">\n",
       "  <thead>\n",
       "    <tr style=\"text-align: right;\">\n",
       "      <th></th>\n",
       "      <th>City</th>\n",
       "      <th>Lat</th>\n",
       "      <th>Lng</th>\n",
       "      <th>Max Temp</th>\n",
       "      <th>Humidity</th>\n",
       "      <th>Cloudiness</th>\n",
       "      <th>Wind Speed</th>\n",
       "      <th>Country</th>\n",
       "      <th>Date</th>\n",
       "    </tr>\n",
       "  </thead>\n",
       "  <tbody>\n",
       "    <tr>\n",
       "      <th>0</th>\n",
       "      <td>Verkh-Chebula</td>\n",
       "      <td>56.0308</td>\n",
       "      <td>87.6218</td>\n",
       "      <td>40.64</td>\n",
       "      <td>85</td>\n",
       "      <td>85</td>\n",
       "      <td>8.46</td>\n",
       "      <td>RU</td>\n",
       "      <td>1619654478</td>\n",
       "    </tr>\n",
       "    <tr>\n",
       "      <th>1</th>\n",
       "      <td>Nanortalik</td>\n",
       "      <td>60.1432</td>\n",
       "      <td>-45.2371</td>\n",
       "      <td>35.40</td>\n",
       "      <td>93</td>\n",
       "      <td>78</td>\n",
       "      <td>4.45</td>\n",
       "      <td>GL</td>\n",
       "      <td>1619654230</td>\n",
       "    </tr>\n",
       "    <tr>\n",
       "      <th>2</th>\n",
       "      <td>Cabo San Lucas</td>\n",
       "      <td>22.8909</td>\n",
       "      <td>-109.9124</td>\n",
       "      <td>75.00</td>\n",
       "      <td>68</td>\n",
       "      <td>40</td>\n",
       "      <td>10.36</td>\n",
       "      <td>MX</td>\n",
       "      <td>1619654217</td>\n",
       "    </tr>\n",
       "    <tr>\n",
       "      <th>3</th>\n",
       "      <td>Saraipali</td>\n",
       "      <td>21.3333</td>\n",
       "      <td>83.0000</td>\n",
       "      <td>81.57</td>\n",
       "      <td>11</td>\n",
       "      <td>63</td>\n",
       "      <td>2.82</td>\n",
       "      <td>IN</td>\n",
       "      <td>1619654479</td>\n",
       "    </tr>\n",
       "    <tr>\n",
       "      <th>4</th>\n",
       "      <td>Te Anau</td>\n",
       "      <td>-45.4167</td>\n",
       "      <td>167.7167</td>\n",
       "      <td>53.10</td>\n",
       "      <td>90</td>\n",
       "      <td>100</td>\n",
       "      <td>5.93</td>\n",
       "      <td>NZ</td>\n",
       "      <td>1619654479</td>\n",
       "    </tr>\n",
       "  </tbody>\n",
       "</table>\n",
       "</div>"
      ],
      "text/plain": [
       "             City      Lat       Lng  Max Temp  Humidity  Cloudiness  \\\n",
       "0   Verkh-Chebula  56.0308   87.6218     40.64        85          85   \n",
       "1      Nanortalik  60.1432  -45.2371     35.40        93          78   \n",
       "2  Cabo San Lucas  22.8909 -109.9124     75.00        68          40   \n",
       "3       Saraipali  21.3333   83.0000     81.57        11          63   \n",
       "4         Te Anau -45.4167  167.7167     53.10        90         100   \n",
       "\n",
       "   Wind Speed Country        Date  \n",
       "0        8.46      RU  1619654478  \n",
       "1        4.45      GL  1619654230  \n",
       "2       10.36      MX  1619654217  \n",
       "3        2.82      IN  1619654479  \n",
       "4        5.93      NZ  1619654479  "
      ]
     },
     "execution_count": 50,
     "metadata": {},
     "output_type": "execute_result"
    }
   ],
   "source": [
    "# Create data frame for all city data collected\n",
    "city_group = {\"City\":city_name,\n",
    "             \"Lat\":lat,\n",
    "             \"Lng\":lon,\n",
    "             \"Max Temp\": max_temp,\n",
    "             \"Humidity\": humidity,\n",
    "             \"Cloudiness\": cloudy,\n",
    "             \"Wind Speed\": wind_speed,\n",
    "             \"Country\": country,\n",
    "             \"Date\": date}\n",
    "\n",
    "city_df = pd.DataFrame(city_group)\n",
    "# Send dataframe output to csv file.\n",
    "city_df.to_csv(output_data_file)\n",
    "city_df.head()"
   ]
  },
  {
   "cell_type": "code",
   "execution_count": 51,
   "metadata": {},
   "outputs": [
    {
     "data": {
      "text/html": [
       "<div>\n",
       "<style scoped>\n",
       "    .dataframe tbody tr th:only-of-type {\n",
       "        vertical-align: middle;\n",
       "    }\n",
       "\n",
       "    .dataframe tbody tr th {\n",
       "        vertical-align: top;\n",
       "    }\n",
       "\n",
       "    .dataframe thead th {\n",
       "        text-align: right;\n",
       "    }\n",
       "</style>\n",
       "<table border=\"1\" class=\"dataframe\">\n",
       "  <thead>\n",
       "    <tr style=\"text-align: right;\">\n",
       "      <th></th>\n",
       "      <th>Lat</th>\n",
       "      <th>Lng</th>\n",
       "      <th>Max Temp</th>\n",
       "      <th>Humidity</th>\n",
       "      <th>Cloudiness</th>\n",
       "      <th>Wind Speed</th>\n",
       "      <th>Date</th>\n",
       "    </tr>\n",
       "  </thead>\n",
       "  <tbody>\n",
       "    <tr>\n",
       "      <th>count</th>\n",
       "      <td>550.000000</td>\n",
       "      <td>550.000000</td>\n",
       "      <td>550.000000</td>\n",
       "      <td>550.000000</td>\n",
       "      <td>550.000000</td>\n",
       "      <td>550.000000</td>\n",
       "      <td>5.500000e+02</td>\n",
       "    </tr>\n",
       "    <tr>\n",
       "      <th>mean</th>\n",
       "      <td>19.646852</td>\n",
       "      <td>15.914985</td>\n",
       "      <td>61.067891</td>\n",
       "      <td>71.692727</td>\n",
       "      <td>54.756364</td>\n",
       "      <td>6.882000</td>\n",
       "      <td>1.619655e+09</td>\n",
       "    </tr>\n",
       "    <tr>\n",
       "      <th>std</th>\n",
       "      <td>33.859212</td>\n",
       "      <td>89.990518</td>\n",
       "      <td>18.805071</td>\n",
       "      <td>21.158052</td>\n",
       "      <td>37.367065</td>\n",
       "      <td>4.408533</td>\n",
       "      <td>2.505741e+02</td>\n",
       "    </tr>\n",
       "    <tr>\n",
       "      <th>min</th>\n",
       "      <td>-54.800000</td>\n",
       "      <td>-179.166700</td>\n",
       "      <td>14.180000</td>\n",
       "      <td>8.000000</td>\n",
       "      <td>0.000000</td>\n",
       "      <td>0.340000</td>\n",
       "      <td>1.619654e+09</td>\n",
       "    </tr>\n",
       "    <tr>\n",
       "      <th>25%</th>\n",
       "      <td>-8.886850</td>\n",
       "      <td>-62.847250</td>\n",
       "      <td>46.990000</td>\n",
       "      <td>63.000000</td>\n",
       "      <td>20.000000</td>\n",
       "      <td>3.745000</td>\n",
       "      <td>1.619655e+09</td>\n",
       "    </tr>\n",
       "    <tr>\n",
       "      <th>50%</th>\n",
       "      <td>22.937100</td>\n",
       "      <td>19.903500</td>\n",
       "      <td>64.400000</td>\n",
       "      <td>78.000000</td>\n",
       "      <td>63.500000</td>\n",
       "      <td>5.860000</td>\n",
       "      <td>1.619655e+09</td>\n",
       "    </tr>\n",
       "    <tr>\n",
       "      <th>75%</th>\n",
       "      <td>49.395400</td>\n",
       "      <td>95.926925</td>\n",
       "      <td>77.000000</td>\n",
       "      <td>87.000000</td>\n",
       "      <td>90.000000</td>\n",
       "      <td>8.950000</td>\n",
       "      <td>1.619655e+09</td>\n",
       "    </tr>\n",
       "    <tr>\n",
       "      <th>max</th>\n",
       "      <td>78.218600</td>\n",
       "      <td>179.316700</td>\n",
       "      <td>98.690000</td>\n",
       "      <td>100.000000</td>\n",
       "      <td>100.000000</td>\n",
       "      <td>28.770000</td>\n",
       "      <td>1.619655e+09</td>\n",
       "    </tr>\n",
       "  </tbody>\n",
       "</table>\n",
       "</div>"
      ],
      "text/plain": [
       "              Lat         Lng    Max Temp    Humidity  Cloudiness  Wind Speed  \\\n",
       "count  550.000000  550.000000  550.000000  550.000000  550.000000  550.000000   \n",
       "mean    19.646852   15.914985   61.067891   71.692727   54.756364    6.882000   \n",
       "std     33.859212   89.990518   18.805071   21.158052   37.367065    4.408533   \n",
       "min    -54.800000 -179.166700   14.180000    8.000000    0.000000    0.340000   \n",
       "25%     -8.886850  -62.847250   46.990000   63.000000   20.000000    3.745000   \n",
       "50%     22.937100   19.903500   64.400000   78.000000   63.500000    5.860000   \n",
       "75%     49.395400   95.926925   77.000000   87.000000   90.000000    8.950000   \n",
       "max     78.218600  179.316700   98.690000  100.000000  100.000000   28.770000   \n",
       "\n",
       "               Date  \n",
       "count  5.500000e+02  \n",
       "mean   1.619655e+09  \n",
       "std    2.505741e+02  \n",
       "min    1.619654e+09  \n",
       "25%    1.619655e+09  \n",
       "50%    1.619655e+09  \n",
       "75%    1.619655e+09  \n",
       "max    1.619655e+09  "
      ]
     },
     "execution_count": 51,
     "metadata": {},
     "output_type": "execute_result"
    }
   ],
   "source": [
    "# Display dataframe statistical data\n",
    "city_df.describe()"
   ]
  },
  {
   "cell_type": "markdown",
   "metadata": {},
   "source": [
    "## Inspect the data and remove the cities where the humidity > 100%.\n",
    "----\n",
    "Skip this step if there are no cities that have humidity > 100%. "
   ]
  },
  {
   "cell_type": "code",
   "execution_count": 52,
   "metadata": {},
   "outputs": [
    {
     "data": {
      "text/html": [
       "<div>\n",
       "<style scoped>\n",
       "    .dataframe tbody tr th:only-of-type {\n",
       "        vertical-align: middle;\n",
       "    }\n",
       "\n",
       "    .dataframe tbody tr th {\n",
       "        vertical-align: top;\n",
       "    }\n",
       "\n",
       "    .dataframe thead th {\n",
       "        text-align: right;\n",
       "    }\n",
       "</style>\n",
       "<table border=\"1\" class=\"dataframe\">\n",
       "  <thead>\n",
       "    <tr style=\"text-align: right;\">\n",
       "      <th></th>\n",
       "      <th>City</th>\n",
       "      <th>Lat</th>\n",
       "      <th>Lng</th>\n",
       "      <th>Max Temp</th>\n",
       "      <th>Humidity</th>\n",
       "      <th>Cloudiness</th>\n",
       "      <th>Wind Speed</th>\n",
       "      <th>Country</th>\n",
       "      <th>Date</th>\n",
       "    </tr>\n",
       "  </thead>\n",
       "  <tbody>\n",
       "  </tbody>\n",
       "</table>\n",
       "</div>"
      ],
      "text/plain": [
       "Empty DataFrame\n",
       "Columns: [City, Lat, Lng, Max Temp, Humidity, Cloudiness, Wind Speed, Country, Date]\n",
       "Index: []"
      ]
     },
     "execution_count": 52,
     "metadata": {},
     "output_type": "execute_result"
    }
   ],
   "source": [
    "# Locate any cities with humidity in excess of 100\n",
    "high_humidity = city_df.loc[city_df[\"Humidity\"] > 100,:]    \n",
    "high_humidity"
   ]
  },
  {
   "cell_type": "code",
   "execution_count": 53,
   "metadata": {},
   "outputs": [
    {
     "data": {
      "text/plain": [
       "Int64Index([], dtype='int64')"
      ]
     },
     "execution_count": 53,
     "metadata": {},
     "output_type": "execute_result"
    }
   ],
   "source": [
    "#  Get the indices of cities that have humidity over 100%.\n",
    "high_humidity.index"
   ]
  },
  {
   "cell_type": "code",
   "execution_count": 54,
   "metadata": {},
   "outputs": [
    {
     "data": {
      "text/html": [
       "<div>\n",
       "<style scoped>\n",
       "    .dataframe tbody tr th:only-of-type {\n",
       "        vertical-align: middle;\n",
       "    }\n",
       "\n",
       "    .dataframe tbody tr th {\n",
       "        vertical-align: top;\n",
       "    }\n",
       "\n",
       "    .dataframe thead th {\n",
       "        text-align: right;\n",
       "    }\n",
       "</style>\n",
       "<table border=\"1\" class=\"dataframe\">\n",
       "  <thead>\n",
       "    <tr style=\"text-align: right;\">\n",
       "      <th></th>\n",
       "      <th>City</th>\n",
       "      <th>Lat</th>\n",
       "      <th>Lng</th>\n",
       "      <th>Max Temp</th>\n",
       "      <th>Humidity</th>\n",
       "      <th>Cloudiness</th>\n",
       "      <th>Wind Speed</th>\n",
       "      <th>Country</th>\n",
       "      <th>Date</th>\n",
       "    </tr>\n",
       "  </thead>\n",
       "  <tbody>\n",
       "    <tr>\n",
       "      <th>0</th>\n",
       "      <td>Verkh-Chebula</td>\n",
       "      <td>56.0308</td>\n",
       "      <td>87.6218</td>\n",
       "      <td>40.64</td>\n",
       "      <td>85</td>\n",
       "      <td>85</td>\n",
       "      <td>8.46</td>\n",
       "      <td>RU</td>\n",
       "      <td>1619654478</td>\n",
       "    </tr>\n",
       "    <tr>\n",
       "      <th>1</th>\n",
       "      <td>Nanortalik</td>\n",
       "      <td>60.1432</td>\n",
       "      <td>-45.2371</td>\n",
       "      <td>35.40</td>\n",
       "      <td>93</td>\n",
       "      <td>78</td>\n",
       "      <td>4.45</td>\n",
       "      <td>GL</td>\n",
       "      <td>1619654230</td>\n",
       "    </tr>\n",
       "    <tr>\n",
       "      <th>2</th>\n",
       "      <td>Cabo San Lucas</td>\n",
       "      <td>22.8909</td>\n",
       "      <td>-109.9124</td>\n",
       "      <td>75.00</td>\n",
       "      <td>68</td>\n",
       "      <td>40</td>\n",
       "      <td>10.36</td>\n",
       "      <td>MX</td>\n",
       "      <td>1619654217</td>\n",
       "    </tr>\n",
       "    <tr>\n",
       "      <th>3</th>\n",
       "      <td>Saraipali</td>\n",
       "      <td>21.3333</td>\n",
       "      <td>83.0000</td>\n",
       "      <td>81.57</td>\n",
       "      <td>11</td>\n",
       "      <td>63</td>\n",
       "      <td>2.82</td>\n",
       "      <td>IN</td>\n",
       "      <td>1619654479</td>\n",
       "    </tr>\n",
       "    <tr>\n",
       "      <th>4</th>\n",
       "      <td>Te Anau</td>\n",
       "      <td>-45.4167</td>\n",
       "      <td>167.7167</td>\n",
       "      <td>53.10</td>\n",
       "      <td>90</td>\n",
       "      <td>100</td>\n",
       "      <td>5.93</td>\n",
       "      <td>NZ</td>\n",
       "      <td>1619654479</td>\n",
       "    </tr>\n",
       "  </tbody>\n",
       "</table>\n",
       "</div>"
      ],
      "text/plain": [
       "             City      Lat       Lng  Max Temp  Humidity  Cloudiness  \\\n",
       "0   Verkh-Chebula  56.0308   87.6218     40.64        85          85   \n",
       "1      Nanortalik  60.1432  -45.2371     35.40        93          78   \n",
       "2  Cabo San Lucas  22.8909 -109.9124     75.00        68          40   \n",
       "3       Saraipali  21.3333   83.0000     81.57        11          63   \n",
       "4         Te Anau -45.4167  167.7167     53.10        90         100   \n",
       "\n",
       "   Wind Speed Country        Date  \n",
       "0        8.46      RU  1619654478  \n",
       "1        4.45      GL  1619654230  \n",
       "2       10.36      MX  1619654217  \n",
       "3        2.82      IN  1619654479  \n",
       "4        5.93      NZ  1619654479  "
      ]
     },
     "execution_count": 54,
     "metadata": {},
     "output_type": "execute_result"
    }
   ],
   "source": [
    "# Make a new DataFrame equal to the city data to drop all humidity outliers by index.\n",
    "# Passing \"inplace=False\" will make a copy of the city_data DataFrame, which we call \"clean_city_data\".\n",
    "clean_city_df = city_df.drop(city_df[city_df['Humidity'] > 100].index, inplace = False)\n",
    "clean_city_df = clean_city_df.reset_index(drop = True)\n",
    "clean_city_df.head()"
   ]
  },
  {
   "cell_type": "markdown",
   "metadata": {},
   "source": [
    "## Plotting the Data\n",
    "* Use proper labeling of the plots using plot titles (including date of analysis) and axes labels.\n",
    "* Save the plotted figures as .pngs."
   ]
  },
  {
   "cell_type": "markdown",
   "metadata": {},
   "source": [
    "## Latitude vs. Temperature Plot"
   ]
  },
  {
   "cell_type": "code",
   "execution_count": 60,
   "metadata": {
    "scrolled": true
   },
   "outputs": [
    {
     "data": {
      "image/png": "[encoded data removed]",
      "text/plain": [
       "<Figure size 432x288 with 1 Axes>"
      ]
     },
     "metadata": {
      "needs_background": "light"
     },
     "output_type": "display_data"
    }
   ],
   "source": [
    "x_axis = clean_city_df[\"Lat\"]\n",
    "y_axis = clean_city_df[\"Max Temp\"]\n",
    "plt.scatter(x_axis, y_axis, marker = \"o\", color = \"orangered\", edgecolor = \"black\")\n",
    "plt.title(\"City Latitude vs Max Temperature (04/23/21)\")\n",
    "plt.xlabel(\"Latitude\")\n",
    "plt.ylabel(\"Max Temperature (F)\")\n",
    "plt.savefig(\"output_data/City Latitude vs Max Temperature.png\")\n",
    "plt.show()"
   ]
  },
  {
   "cell_type": "markdown",
   "metadata": {},
   "source": [
    "This plot shows the spread of max temperatures of the random cites selected across latitude.  You can see that max temperatures rise upon approaching the equator.  Interestingly, temperatures peak just north of the equator, rather than right on the equator."
   ]
  },
  {
   "cell_type": "markdown",
   "metadata": {},
   "source": [
    "## Latitude vs. Humidity Plot"
   ]
  },
  {
   "cell_type": "code",
   "execution_count": 61,
   "metadata": {},
   "outputs": [
    {
     "data": {
      "image/png": "[encoded data removed]",
      "text/plain": [
       "<Figure size 432x288 with 1 Axes>"
      ]
     },
     "metadata": {
      "needs_background": "light"
     },
     "output_type": "display_data"
    }
   ],
   "source": [
    "x_axis = clean_city_df[\"Lat\"]\n",
    "y_axis = clean_city_df[\"Humidity\"]\n",
    "plt.scatter(x_axis, y_axis, marker = \"o\", color = \"mediumseagreen\", edgecolor = \"black\")\n",
    "plt.title(\"City Latitude vs Humidity (04/23/21)\")\n",
    "plt.xlabel(\"Latitude\")\n",
    "plt.ylabel(\"Humidity %\")\n",
    "plt.savefig(\"output_data/City Latitude vs Humidity.png\")\n",
    "plt.show()"
   ]
  },
  {
   "cell_type": "markdown",
   "metadata": {},
   "source": [
    "The plot above looks at humidity levels relative to latitude across the randomly selected cities.  The chart shows the majority of cities have humidity levels above 60% and those high humidity levels are spread broadly across latitudes. The northern hemisphere appears to have more cities with low humidity, but that may not be an accurate reflection since the sample has a higher percentage of cities in the northern hemisphere."
   ]
  },
  {
   "cell_type": "markdown",
   "metadata": {},
   "source": [
    "## Latitude vs. Cloudiness Plot"
   ]
  },
  {
   "cell_type": "code",
   "execution_count": 62,
   "metadata": {},
   "outputs": [
    {
     "data": {
      "image/png": "[encoded data removed]",
      "text/plain": [
       "<Figure size 432x288 with 1 Axes>"
      ]
     },
     "metadata": {
      "needs_background": "light"
     },
     "output_type": "display_data"
    }
   ],
   "source": [
    "x_axis = clean_city_df[\"Lat\"]\n",
    "y_axis = clean_city_df[\"Cloudiness\"]\n",
    "plt.scatter(x_axis, y_axis, marker = \"o\", color = \"royalblue\", edgecolor = \"black\")\n",
    "plt.title(\"City Latitude vs Cloudiness (04/23/21)\")\n",
    "plt.xlabel(\"Latitude\")\n",
    "plt.ylabel(\"Cloudiness %\")\n",
    "plt.savefig(\"output_data/City Latitude vs Cloudiness.png\")\n",
    "plt.show()"
   ]
  },
  {
   "cell_type": "markdown",
   "metadata": {},
   "source": [
    "This graph shows the level of cloudiness across latitudes.  Cloudiness seems to be widely distributed across all latitudes.  Though there is a cluster of around 100% cloudiness at the equator, there are also other clusters around other latitudes.  It does not seem that cloudiness is impacted by latitude.  "
   ]
  },
  {
   "cell_type": "markdown",
   "metadata": {},
   "source": [
    "## Latitude vs. Wind Speed Plot"
   ]
  },
  {
   "cell_type": "code",
   "execution_count": 63,
   "metadata": {},
   "outputs": [
    {
     "data": {
      "image/png": "[encoded data removed]",
      "text/plain": [
       "<Figure size 432x288 with 1 Axes>"
      ]
     },
     "metadata": {
      "needs_background": "light"
     },
     "output_type": "display_data"
    }
   ],
   "source": [
    "x_axis = clean_city_df[\"Lat\"]\n",
    "y_axis = clean_city_df[\"Wind Speed\"]\n",
    "plt.scatter(x_axis, y_axis, marker = \"o\", color = \"gold\", edgecolor = \"black\")\n",
    "plt.title(\"City Latitude vs Wind Speed (04/23/21)\")\n",
    "plt.xlabel(\"Latitude\")\n",
    "plt.ylabel(\"Wind Speed (mph)\")\n",
    "plt.savefig(\"output_data/City Latitude vs Wind Speed.png\")\n",
    "plt.show()"
   ]
  },
  {
   "cell_type": "markdown",
   "metadata": {},
   "source": [
    "## Linear Regression"
   ]
  },
  {
   "cell_type": "markdown",
   "metadata": {},
   "source": [
    "The chart above shows the wind speed versus latitude for the cities sample.  Wind speed generally seems to be at 10 mph or lower and doesn't seem to be impacted by latitude at all."
   ]
  },
  {
   "cell_type": "markdown",
   "metadata": {},
   "source": [
    "####  Northern Hemisphere - Max Temp vs. Latitude Linear Regression"
   ]
  },
  {
   "cell_type": "code",
   "execution_count": 65,
   "metadata": {},
   "outputs": [
    {
     "name": "stdout",
     "output_type": "stream",
     "text": [
      "The r-value is -0.8985847042080516.\n"
     ]
    },
    {
     "data": {
      "image/png": "[encoded data removed]",
      "text/plain": [
       "<Figure size 432x288 with 1 Axes>"
      ]
     },
     "metadata": {
      "needs_background": "light"
     },
     "output_type": "display_data"
    }
   ],
   "source": [
    "north_cities = clean_city_df.loc[clean_city_df[\"Lat\"]>= 0,:]\n",
    "x_axis = north_cities[\"Lat\"]\n",
    "y_axis = north_cities[\"Max Temp\"]\n",
    "plt.scatter(x_axis, y_axis, marker = \"o\")\n",
    "plt.xlabel(\"Latitude\")\n",
    "plt.ylabel(\"Max Temperature (F)\")\n",
    "\n",
    "(slope, intercept, rvalue, pvalue, stderr) = linregress(x_axis, y_axis)\n",
    "regress_values = x_axis * slope + intercept\n",
    "line_eq = \"y=\" + str(round(slope, 2)) + \"x + \" + str(round(intercept,2))\n",
    "plt.plot(x_axis,regress_values, \"r-\")\n",
    "plt.annotate(line_eq,(5,20),fontsize=15, color=\"red\")\n",
    "print(f\"The r-value is {rvalue}.\")\n",
    "plt.savefig(\"output_data/Northern Hemisphere - Max Temp vs. Latitude Linear Regression.png\")\n",
    "plt.show()"
   ]
  },
  {
   "cell_type": "markdown",
   "metadata": {},
   "source": [
    "This plot looks again at max temperature vs latitude, but only for those cities within the northern hemisphere.  Given the scatter visual and slope, it is clear there is a strong negative correlation between the temperature and latitude.  This is supported by an r-value of almost -.90."
   ]
  },
  {
   "cell_type": "markdown",
   "metadata": {},
   "source": [
    "####  Southern Hemisphere - Max Temp vs. Latitude Linear Regression"
   ]
  },
  {
   "cell_type": "code",
   "execution_count": 67,
   "metadata": {},
   "outputs": [
    {
     "name": "stdout",
     "output_type": "stream",
     "text": [
      "The r-value is 0.736998761074464.\n"
     ]
    },
    {
     "data": {
      "image/png": "[encoded data removed]",
      "text/plain": [
       "<Figure size 432x288 with 1 Axes>"
      ]
     },
     "metadata": {
      "needs_background": "light"
     },
     "output_type": "display_data"
    }
   ],
   "source": [
    "south_cities = clean_city_df.loc[clean_city_df[\"Lat\"]< 0,:]\n",
    "x_axis = south_cities[\"Lat\"]\n",
    "y_axis = south_cities[\"Max Temp\"]\n",
    "plt.scatter(x_axis, y_axis, marker = \"o\")\n",
    "plt.xlabel(\"Latitude\")\n",
    "plt.ylabel(\"Max Temperature (F)\")\n",
    "\n",
    "(slope, intercept, rvalue, pvalue, stderr) = linregress(x_axis, y_axis)\n",
    "regress_values = x_axis * slope + intercept\n",
    "line_eq = \"y=\" + str(round(slope, 2)) + \"x + \" + str(round(intercept,2))\n",
    "plt.plot(x_axis,regress_values, \"r-\")\n",
    "plt.annotate(line_eq,(-25,41),fontsize=15, color=\"red\")\n",
    "print(f\"The r-value is {rvalue}.\")\n",
    "plt.savefig(\"output_data/Southern Hemisphere - Max Temp vs. Latitude Linear Regression.png\")\n",
    "plt.show()"
   ]
  },
  {
   "cell_type": "markdown",
   "metadata": {},
   "source": [
    "This plot looks again at max temperature vs latitude, but only for those cities within the southern hemisphere. While the slope and clustering show less correlation between temperature and latitude than it did in the northern hemisphere cities, there is still a good positive correlation between them. This is supported by the r-value of .74."
   ]
  },
  {
   "cell_type": "markdown",
   "metadata": {},
   "source": [
    "####  Northern Hemisphere - Humidity (%) vs. Latitude Linear Regression"
   ]
  },
  {
   "cell_type": "code",
   "execution_count": 68,
   "metadata": {},
   "outputs": [
    {
     "name": "stdout",
     "output_type": "stream",
     "text": [
      "The r-value is 0.09903604833517535.\n"
     ]
    },
    {
     "data": {
      "image/png": "[encoded data removed]",
      "text/plain": [
       "<Figure size 432x288 with 1 Axes>"
      ]
     },
     "metadata": {
      "needs_background": "light"
     },
     "output_type": "display_data"
    }
   ],
   "source": [
    "x_axis = north_cities[\"Lat\"]\n",
    "y_axis = north_cities[\"Humidity\"]\n",
    "plt.scatter(x_axis, y_axis, marker = \"o\")\n",
    "plt.xlabel(\"Latitude\")\n",
    "plt.ylabel(\"Humidity %\")\n",
    "\n",
    "(slope, intercept, rvalue, pvalue, stderr) = linregress(x_axis, y_axis)\n",
    "regress_values = x_axis * slope + intercept\n",
    "line_eq = \"y=\" + str(round(slope, 2)) + \"x + \" + str(round(intercept,2))\n",
    "plt.plot(x_axis,regress_values, \"r-\")\n",
    "plt.annotate(line_eq,(45,5),fontsize=15, color=\"red\")\n",
    "print(f\"The r-value is {rvalue}.\")\n",
    "plt.savefig(\"output_data/Northern Hemisphere - Humidity vs. Latitude Linear Regression.png\")\n",
    "plt.show()"
   ]
  },
  {
   "cell_type": "markdown",
   "metadata": {},
   "source": [
    "In looking at humidity levels across the northern hemisphere, we see no real correlation between the latitude and humidity.  The r-value is very low at .10."
   ]
  },
  {
   "cell_type": "markdown",
   "metadata": {},
   "source": [
    "####  Southern Hemisphere - Humidity (%) vs. Latitude Linear Regression"
   ]
  },
  {
   "cell_type": "code",
   "execution_count": 69,
   "metadata": {},
   "outputs": [
    {
     "name": "stdout",
     "output_type": "stream",
     "text": [
      "The r-value is 0.18769601030864969.\n"
     ]
    },
    {
     "data": {
      "image/png": "[encoded data removed]",
      "text/plain": [
       "<Figure size 432x288 with 1 Axes>"
      ]
     },
     "metadata": {
      "needs_background": "light"
     },
     "output_type": "display_data"
    }
   ],
   "source": [
    "x_axis = south_cities[\"Lat\"]\n",
    "y_axis = south_cities[\"Humidity\"]\n",
    "plt.scatter(x_axis, y_axis, marker = \"o\")\n",
    "plt.xlabel(\"Latitude\")\n",
    "plt.ylabel(\"Humidity %\")\n",
    "\n",
    "(slope, intercept, rvalue, pvalue, stderr) = linregress(x_axis, y_axis)\n",
    "regress_values = x_axis * slope + intercept\n",
    "line_eq = \"y=\" + str(round(slope, 2)) + \"x + \" + str(round(intercept,2))\n",
    "plt.plot(x_axis,regress_values, \"r-\")\n",
    "plt.annotate(line_eq,(-55,35),fontsize=15, color=\"red\")\n",
    "print(f\"The r-value is {rvalue}.\")\n",
    "plt.savefig(\"output_data/Southern Hemisphere - Humidity vs. Latitude Linear Regression.png\")\n",
    "plt.show()"
   ]
  },
  {
   "cell_type": "markdown",
   "metadata": {},
   "source": [
    "While the correlation is slightly higher between latitude and humidity in the southern hemisphere, the correlation is still weak, with an r-value of only .19."
   ]
  },
  {
   "cell_type": "markdown",
   "metadata": {},
   "source": [
    "####  Northern Hemisphere - Cloudiness (%) vs. Latitude Linear Regression"
   ]
  },
  {
   "cell_type": "code",
   "execution_count": 88,
   "metadata": {},
   "outputs": [
    {
     "name": "stdout",
     "output_type": "stream",
     "text": [
      "The r-value is 0.07283077497945278.\n"
     ]
    },
    {
     "data": {
      "image/png": "[encoded data removed]",
      "text/plain": [
       "<Figure size 432x288 with 1 Axes>"
      ]
     },
     "metadata": {
      "needs_background": "light"
     },
     "output_type": "display_data"
    }
   ],
   "source": [
    "x_axis = north_cities[\"Lat\"]\n",
    "y_axis = north_cities[\"Cloudiness\"]\n",
    "plt.scatter(x_axis, y_axis, marker = \"o\")\n",
    "plt.xlabel(\"Latitude\")\n",
    "plt.ylabel(\"Cloudiness %\")\n",
    "\n",
    "(slope, intercept, rvalue, pvalue, stderr) = linregress(x_axis, y_axis)\n",
    "regress_values = x_axis * slope + intercept\n",
    "line_eq = \"y=\" + str(round(slope, 2)) + \"x + \" + str(round(intercept,2))\n",
    "plt.plot(x_axis,regress_values, \"r-\")\n",
    "plt.annotate(line_eq,(30,104),fontsize=15, color=\"red\")\n",
    "print(f\"The r-value is {rvalue}.\")\n",
    "plt.savefig(\"output_data/Northern Hemisphere - Cloudiness vs. Latitude Linear Regression.png\")\n",
    "plt.show()"
   ]
  },
  {
   "cell_type": "markdown",
   "metadata": {},
   "source": [
    "As seen in the chart of all cities measure of cloudiness versus latitude, there is virtually no correlation between the two in the northern hemisphere.  The r-value is only .07."
   ]
  },
  {
   "cell_type": "markdown",
   "metadata": {},
   "source": [
    "####  Southern Hemisphere - Cloudiness (%) vs. Latitude Linear Regression"
   ]
  },
  {
   "cell_type": "code",
   "execution_count": 72,
   "metadata": {},
   "outputs": [
    {
     "name": "stdout",
     "output_type": "stream",
     "text": [
      "The r-value is 0.2040124931248949.\n"
     ]
    },
    {
     "data": {
      "image/png": "[encoded data removed]",
      "text/plain": [
       "<Figure size 432x288 with 1 Axes>"
      ]
     },
     "metadata": {
      "needs_background": "light"
     },
     "output_type": "display_data"
    }
   ],
   "source": [
    "x_axis = south_cities[\"Lat\"]\n",
    "y_axis = south_cities[\"Cloudiness\"]\n",
    "plt.scatter(x_axis, y_axis, marker = \"o\")\n",
    "plt.xlabel(\"Latitude\")\n",
    "plt.ylabel(\"Cloudiness %\")\n",
    "\n",
    "(slope, intercept, rvalue, pvalue, stderr) = linregress(x_axis, y_axis)\n",
    "regress_values = x_axis * slope + intercept\n",
    "line_eq = \"y=\" + str(round(slope, 2)) + \"x + \" + str(round(intercept,2))\n",
    "plt.plot(x_axis,regress_values, \"r-\")\n",
    "plt.annotate(line_eq,(-57,55),fontsize=14, color=\"red\")\n",
    "print(f\"The r-value is {rvalue}.\")\n",
    "plt.savefig(\"output_data/Southern Hemisphere - Cloudiness vs. Latitude Linear Regression.png\")\n",
    "plt.show()"
   ]
  },
  {
   "cell_type": "markdown",
   "metadata": {},
   "source": [
    "When looking at latitude versus cloudiness across the southern hemisphere, there is a slightly higher correlation between them than in the northern hemisphere.  With an r-value of .20, the correlation is still rather weak."
   ]
  },
  {
   "cell_type": "markdown",
   "metadata": {},
   "source": [
    "####  Northern Hemisphere - Wind Speed (mph) vs. Latitude Linear Regression"
   ]
  },
  {
   "cell_type": "code",
   "execution_count": 76,
   "metadata": {},
   "outputs": [
    {
     "name": "stdout",
     "output_type": "stream",
     "text": [
      "The r-value is 0.01899800310022411.\n"
     ]
    },
    {
     "data": {
      "image/png": "[encoded data removed]",
      "text/plain": [
       "<Figure size 432x288 with 1 Axes>"
      ]
     },
     "metadata": {
      "needs_background": "light"
     },
     "output_type": "display_data"
    }
   ],
   "source": [
    "x_axis = north_cities[\"Lat\"]\n",
    "y_axis = north_cities[\"Wind Speed\"]\n",
    "plt.scatter(x_axis, y_axis, marker = \"o\")\n",
    "plt.xlabel(\"Latitude\")\n",
    "plt.ylabel(\"Wind Speed (mph)\")\n",
    "\n",
    "(slope, intercept, rvalue, pvalue, stderr) = linregress(x_axis, y_axis)\n",
    "regress_values = x_axis * slope + intercept\n",
    "line_eq = \"y=\" + str(round(slope, 2)) + \"x + \" + str(round(intercept,2))\n",
    "plt.plot(x_axis,regress_values, \"r-\")\n",
    "plt.annotate(line_eq,(50,25),fontsize=15, color=\"red\")\n",
    "print(f\"The r-value is {rvalue}.\")\n",
    "plt.savefig(\"output_data/Northern Hemisphere - Wind Speed vs. Latitude Linear Regression.png\")\n",
    "plt.show()"
   ]
  },
  {
   "cell_type": "markdown",
   "metadata": {},
   "source": [
    "There is virtually no correlation between the wind speed and latitude in the northern hemisphere.  The r-value is a scant .02."
   ]
  },
  {
   "cell_type": "markdown",
   "metadata": {},
   "source": [
    "####  Southern Hemisphere - Wind Speed (mph) vs. Latitude Linear Regression"
   ]
  },
  {
   "cell_type": "code",
   "execution_count": 78,
   "metadata": {},
   "outputs": [
    {
     "name": "stdout",
     "output_type": "stream",
     "text": [
      "The r-value is -0.3229912979775149.\n"
     ]
    },
    {
     "data": {
      "image/png": "[encoded data removed]",
      "text/plain": [
       "<Figure size 432x288 with 1 Axes>"
      ]
     },
     "metadata": {
      "needs_background": "light"
     },
     "output_type": "display_data"
    }
   ],
   "source": [
    "x_axis = south_cities[\"Lat\"]\n",
    "y_axis = south_cities[\"Wind Speed\"]\n",
    "plt.scatter(x_axis, y_axis, marker = \"o\")\n",
    "plt.xlabel(\"Latitude\")\n",
    "plt.ylabel(\"Wind Speed (mph)\")\n",
    "\n",
    "(slope, intercept, rvalue, pvalue, stderr) = linregress(x_axis, y_axis)\n",
    "regress_values = x_axis * slope + intercept\n",
    "line_eq = \"y=\" + str(round(slope, 2)) + \"x + \" + str(round(intercept,2))\n",
    "plt.plot(x_axis,regress_values, \"r-\")\n",
    "plt.annotate(line_eq,(-35,25),fontsize=14,color=\"red\")\n",
    "print(f\"The r-value is {rvalue}.\")\n",
    "plt.savefig(\"output_data/Southern Hemisphere - Wind Speed vs. Latitude Linear Regression.png\")\n",
    "plt.show()"
   ]
  },
  {
   "cell_type": "markdown",
   "metadata": {},
   "source": [
    "Unlike the northern hemisphere, there is a some negative correlation between wind speed and latitude supported by the r-value of -.32"
   ]
  },
  {
   "cell_type": "code",
   "execution_count": null,
   "metadata": {},
   "outputs": [],
   "source": []
  }
 ],
 "metadata": {
  "anaconda-cloud": {},
  "kernel_info": {
   "name": "python3"
  },
  "kernelspec": {
   "display_name": "Python [conda env:PythonData] *",
   "language": "python",
   "name": "conda-env-PythonData-py"
  },
  "language_info": {
   "codemirror_mode": {
    "name": "ipython",
    "version": 3
   },
   "file_extension": ".py",
   "mimetype": "text/x-python",
   "name": "python",
   "nbconvert_exporter": "python",
   "pygments_lexer": "ipython3",
   "version": "3.6.10"
  },
  "latex_envs": {
   "LaTeX_envs_menu_present": true,
   "autoclose": false,
   "autocomplete": true,
   "bibliofile": "biblio.bib",
   "cite_by": "apalike",
   "current_citInitial": 1,
   "eqLabelWithNumbers": true,
   "eqNumInitial": 1,
   "hotkeys": {
    "equation": "Ctrl-E",
    "itemize": "Ctrl-I"
   },
   "labels_anchors": false,
   "latex_user_defs": false,
   "report_style_numbering": false,
   "user_envs_cfg": false
  },
  "nteract": {
   "version": "0.12.3"
  }
 },
 "nbformat": 4,
 "nbformat_minor": 2
}
